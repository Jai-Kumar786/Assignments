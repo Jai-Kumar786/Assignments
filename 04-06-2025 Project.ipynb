{
 "cells": [
  {
   "metadata": {},
   "cell_type": "markdown",
   "source": "# CONCATENATING DIFFERENT DATASETS",
   "id": "b2adb2e2e95234e4"
  },
  {
   "metadata": {},
   "cell_type": "code",
   "outputs": [],
   "execution_count": null,
   "source": [
    "import pandas as pd\n",
    "import glob\n",
    "\n",
    "# Get list of all CSV files\n",
    "csv_files = sorted(glob.glob(\"/mnt/data/ev_charging_dataset/*.csv\"))\n",
    "\n",
    "# Concatenate all CSV files into a single DataFrame\n",
    "df_all = pd.concat([pd.read_csv(file) for file in csv_files], ignore_index=True)\n",
    "\n",
    "# Save the combined DataFrame to a single CSV file\n",
    "combined_csv_path = \"/mnt/data/ev_charging_data_combined.csv\"\n",
    "df_all.to_csv(combined_csv_path, index=False)\n",
    "\n",
    "combined_csv_path\n"
   ],
   "id": "55cb7f5c1ac90b6f"
  },
  {
   "metadata": {},
   "cell_type": "code",
   "outputs": [
    {
     "data": {
      "text/plain": [
       "      Charger_ID Vehicle_ID  Energy_kWh  Duration_min Source Fleet_ID\n",
       "0          CH007      EV040   25.385343     59.129264   EVSE      NaN\n",
       "1          CH007      EV014   30.666573     54.493982   EVSE      NaN\n",
       "2          CH007      EV040   28.237143     28.738664   EVSE      NaN\n",
       "3          CH007      EV014   42.008928     44.087380   EVSE      NaN\n",
       "4          CH007      EV040   36.983989     78.611688   EVSE      NaN\n",
       "...          ...        ...         ...           ...    ...      ...\n",
       "14928      CH011      EV023  172.710205     75.982211   EVSE      NaN\n",
       "14929      CH011      EV034   28.151282     69.542996   EVSE      NaN\n",
       "14930      CH011      EV004   30.760124    103.829829   EVSE      NaN\n",
       "14931      CH011      EV004   16.423317     83.212476    NaN      NaN\n",
       "14932      CH011      EV004   27.690663     58.349309   EVSE      NaN\n",
       "\n",
       "[14933 rows x 6 columns]"
      ],
      "text/html": [
       "<div>\n",
       "<style scoped>\n",
       "    .dataframe tbody tr th:only-of-type {\n",
       "        vertical-align: middle;\n",
       "    }\n",
       "\n",
       "    .dataframe tbody tr th {\n",
       "        vertical-align: top;\n",
       "    }\n",
       "\n",
       "    .dataframe thead th {\n",
       "        text-align: right;\n",
       "    }\n",
       "</style>\n",
       "<table border=\"1\" class=\"dataframe\">\n",
       "  <thead>\n",
       "    <tr style=\"text-align: right;\">\n",
       "      <th></th>\n",
       "      <th>Charger_ID</th>\n",
       "      <th>Vehicle_ID</th>\n",
       "      <th>Energy_kWh</th>\n",
       "      <th>Duration_min</th>\n",
       "      <th>Source</th>\n",
       "      <th>Fleet_ID</th>\n",
       "    </tr>\n",
       "  </thead>\n",
       "  <tbody>\n",
       "    <tr>\n",
       "      <th>0</th>\n",
       "      <td>CH007</td>\n",
       "      <td>EV040</td>\n",
       "      <td>25.385343</td>\n",
       "      <td>59.129264</td>\n",
       "      <td>EVSE</td>\n",
       "      <td>NaN</td>\n",
       "    </tr>\n",
       "    <tr>\n",
       "      <th>1</th>\n",
       "      <td>CH007</td>\n",
       "      <td>EV014</td>\n",
       "      <td>30.666573</td>\n",
       "      <td>54.493982</td>\n",
       "      <td>EVSE</td>\n",
       "      <td>NaN</td>\n",
       "    </tr>\n",
       "    <tr>\n",
       "      <th>2</th>\n",
       "      <td>CH007</td>\n",
       "      <td>EV040</td>\n",
       "      <td>28.237143</td>\n",
       "      <td>28.738664</td>\n",
       "      <td>EVSE</td>\n",
       "      <td>NaN</td>\n",
       "    </tr>\n",
       "    <tr>\n",
       "      <th>3</th>\n",
       "      <td>CH007</td>\n",
       "      <td>EV014</td>\n",
       "      <td>42.008928</td>\n",
       "      <td>44.087380</td>\n",
       "      <td>EVSE</td>\n",
       "      <td>NaN</td>\n",
       "    </tr>\n",
       "    <tr>\n",
       "      <th>4</th>\n",
       "      <td>CH007</td>\n",
       "      <td>EV040</td>\n",
       "      <td>36.983989</td>\n",
       "      <td>78.611688</td>\n",
       "      <td>EVSE</td>\n",
       "      <td>NaN</td>\n",
       "    </tr>\n",
       "    <tr>\n",
       "      <th>...</th>\n",
       "      <td>...</td>\n",
       "      <td>...</td>\n",
       "      <td>...</td>\n",
       "      <td>...</td>\n",
       "      <td>...</td>\n",
       "      <td>...</td>\n",
       "    </tr>\n",
       "    <tr>\n",
       "      <th>14928</th>\n",
       "      <td>CH011</td>\n",
       "      <td>EV023</td>\n",
       "      <td>172.710205</td>\n",
       "      <td>75.982211</td>\n",
       "      <td>EVSE</td>\n",
       "      <td>NaN</td>\n",
       "    </tr>\n",
       "    <tr>\n",
       "      <th>14929</th>\n",
       "      <td>CH011</td>\n",
       "      <td>EV034</td>\n",
       "      <td>28.151282</td>\n",
       "      <td>69.542996</td>\n",
       "      <td>EVSE</td>\n",
       "      <td>NaN</td>\n",
       "    </tr>\n",
       "    <tr>\n",
       "      <th>14930</th>\n",
       "      <td>CH011</td>\n",
       "      <td>EV004</td>\n",
       "      <td>30.760124</td>\n",
       "      <td>103.829829</td>\n",
       "      <td>EVSE</td>\n",
       "      <td>NaN</td>\n",
       "    </tr>\n",
       "    <tr>\n",
       "      <th>14931</th>\n",
       "      <td>CH011</td>\n",
       "      <td>EV004</td>\n",
       "      <td>16.423317</td>\n",
       "      <td>83.212476</td>\n",
       "      <td>NaN</td>\n",
       "      <td>NaN</td>\n",
       "    </tr>\n",
       "    <tr>\n",
       "      <th>14932</th>\n",
       "      <td>CH011</td>\n",
       "      <td>EV004</td>\n",
       "      <td>27.690663</td>\n",
       "      <td>58.349309</td>\n",
       "      <td>EVSE</td>\n",
       "      <td>NaN</td>\n",
       "    </tr>\n",
       "  </tbody>\n",
       "</table>\n",
       "<p>14933 rows × 6 columns</p>\n",
       "</div>"
      ]
     },
     "execution_count": 109,
     "metadata": {},
     "output_type": "execute_result"
    }
   ],
   "execution_count": 109,
   "source": [
    "\n",
    "import pandas as pd\n",
    "df=pd.read_csv(\"ev_charging_data_combined.csv\")\n",
    "df"
   ],
   "id": "initial_id"
  },
  {
   "metadata": {
    "ExecuteTime": {
     "end_time": "2025-04-10T20:57:02.988102Z",
     "start_time": "2025-04-10T20:57:02.976300Z"
    }
   },
   "cell_type": "code",
   "source": "df.info()",
   "id": "f6930dc0b23021b6",
   "outputs": [
    {
     "name": "stdout",
     "output_type": "stream",
     "text": [
      "<class 'pandas.core.frame.DataFrame'>\n",
      "RangeIndex: 14933 entries, 0 to 14932\n",
      "Data columns (total 6 columns):\n",
      " #   Column        Non-Null Count  Dtype  \n",
      "---  ------        --------------  -----  \n",
      " 0   Charger_ID    14184 non-null  object \n",
      " 1   Vehicle_ID    14184 non-null  object \n",
      " 2   Energy_kWh    14184 non-null  float64\n",
      " 3   Duration_min  14184 non-null  float64\n",
      " 4   Source        14184 non-null  object \n",
      " 5   Fleet_ID      4304 non-null   object \n",
      "dtypes: float64(2), object(4)\n",
      "memory usage: 700.1+ KB\n"
     ]
    }
   ],
   "execution_count": 110
  },
  {
   "metadata": {
    "ExecuteTime": {
     "end_time": "2025-04-10T20:57:07.941007Z",
     "start_time": "2025-04-10T20:57:07.931123Z"
    }
   },
   "cell_type": "code",
   "source": "df.count()",
   "id": "ae466ad229193dce",
   "outputs": [
    {
     "data": {
      "text/plain": [
       "Charger_ID      14184\n",
       "Vehicle_ID      14184\n",
       "Energy_kWh      14184\n",
       "Duration_min    14184\n",
       "Source          14184\n",
       "Fleet_ID         4304\n",
       "dtype: int64"
      ]
     },
     "execution_count": 111,
     "metadata": {},
     "output_type": "execute_result"
    }
   ],
   "execution_count": 111
  },
  {
   "metadata": {
    "ExecuteTime": {
     "end_time": "2025-04-10T20:57:14.399791Z",
     "start_time": "2025-04-10T20:57:14.390530Z"
    }
   },
   "cell_type": "code",
   "source": [
    "import numpy as np\n",
    "np.count_nonzero(df.isnull())"
   ],
   "id": "d1e9a7f1b5c5a3c8",
   "outputs": [
    {
     "data": {
      "text/plain": [
       "14374"
      ]
     },
     "execution_count": 112,
     "metadata": {},
     "output_type": "execute_result"
    }
   ],
   "execution_count": 112
  },
  {
   "metadata": {
    "ExecuteTime": {
     "end_time": "2025-04-10T20:57:21.950833Z",
     "start_time": "2025-04-10T20:57:21.940528Z"
    }
   },
   "cell_type": "code",
   "source": [
    "cnts_chargerId=df.Charger_ID.value_counts(dropna=False, normalize=True)\n",
    "cnts_chargerId"
   ],
   "id": "613b8a717248f1f9",
   "outputs": [
    {
     "data": {
      "text/plain": [
       "Charger_ID\n",
       "NaN      0.050157\n",
       "CH029    0.046608\n",
       "CH021    0.039510\n",
       "CH014    0.037568\n",
       "CH028    0.036898\n",
       "CH030    0.036228\n",
       "CH001    0.035894\n",
       "CH027    0.035626\n",
       "CH008    0.035492\n",
       "CH026    0.035090\n",
       "CH022    0.034889\n",
       "CH024    0.034019\n",
       "CH011    0.034019\n",
       "CH002    0.033081\n",
       "CH023    0.032679\n",
       "CH003    0.032278\n",
       "CH020    0.032144\n",
       "CH017    0.031072\n",
       "CH013    0.030269\n",
       "CH012    0.030269\n",
       "CH018    0.029800\n",
       "CH010    0.028862\n",
       "CH007    0.028460\n",
       "CH015    0.028126\n",
       "CH009    0.026385\n",
       "CH006    0.026251\n",
       "CH005    0.025112\n",
       "CH019    0.024978\n",
       "CH004    0.024576\n",
       "CH025    0.022367\n",
       "CH016    0.021295\n",
       "Name: proportion, dtype: float64"
      ]
     },
     "execution_count": 113,
     "metadata": {},
     "output_type": "execute_result"
    }
   ],
   "execution_count": 113
  },
  {
   "metadata": {
    "ExecuteTime": {
     "end_time": "2025-04-10T20:57:26.031042Z",
     "start_time": "2025-04-10T20:57:26.022354Z"
    }
   },
   "cell_type": "code",
   "source": [
    "cnts_vehicleId=df.Vehicle_ID.value_counts(dropna=False, normalize=True)\n",
    "cnts_vehicleId"
   ],
   "id": "d78e9a820f5adc82",
   "outputs": [
    {
     "data": {
      "text/plain": [
       "Vehicle_ID\n",
       "NaN      0.050157\n",
       "EV002    0.040313\n",
       "EV029    0.033148\n",
       "EV033    0.028929\n",
       "EV037    0.028527\n",
       "EV013    0.026318\n",
       "EV049    0.025916\n",
       "EV038    0.025514\n",
       "EV042    0.024509\n",
       "EV025    0.023572\n",
       "EV035    0.023371\n",
       "EV041    0.023237\n",
       "EV019    0.022634\n",
       "EV001    0.021563\n",
       "EV030    0.021295\n",
       "EV047    0.020893\n",
       "EV014    0.020759\n",
       "EV017    0.020023\n",
       "EV006    0.019688\n",
       "EV023    0.019353\n",
       "EV011    0.019152\n",
       "EV028    0.018884\n",
       "EV027    0.018483\n",
       "EV003    0.018282\n",
       "EV040    0.018148\n",
       "EV016    0.018148\n",
       "EV012    0.018014\n",
       "EV021    0.017947\n",
       "EV007    0.017679\n",
       "EV032    0.017545\n",
       "EV043    0.017478\n",
       "EV024    0.017009\n",
       "EV020    0.016875\n",
       "EV039    0.016808\n",
       "EV036    0.016741\n",
       "EV046    0.015804\n",
       "EV026    0.015536\n",
       "EV008    0.015134\n",
       "EV045    0.015067\n",
       "EV044    0.014130\n",
       "EV004    0.013862\n",
       "EV009    0.013795\n",
       "EV031    0.013728\n",
       "EV034    0.013661\n",
       "EV005    0.013594\n",
       "EV022    0.012857\n",
       "EV048    0.012857\n",
       "EV010    0.011384\n",
       "EV018    0.011317\n",
       "EV015    0.010848\n",
       "EV050    0.009509\n",
       "Name: proportion, dtype: float64"
      ]
     },
     "execution_count": 114,
     "metadata": {},
     "output_type": "execute_result"
    }
   ],
   "execution_count": 114
  },
  {
   "metadata": {
    "ExecuteTime": {
     "end_time": "2025-04-10T19:41:07.630081Z",
     "start_time": "2025-04-10T19:41:07.621672Z"
    }
   },
   "cell_type": "code",
   "source": [
    "cnts_Source=df.Source.value_counts(dropna=False, normalize=True)\n",
    "cnts_Source"
   ],
   "id": "85eddfc9f2ce4719",
   "outputs": [
    {
     "data": {
      "text/plain": [
       "Source\n",
       "EVSE        0.352977\n",
       "Vehicle     0.308645\n",
       "Submeter    0.288221\n",
       "NaN         0.050157\n",
       "Name: proportion, dtype: float64"
      ]
     },
     "execution_count": 64,
     "metadata": {},
     "output_type": "execute_result"
    }
   ],
   "execution_count": 64
  },
  {
   "metadata": {
    "ExecuteTime": {
     "end_time": "2025-04-10T20:57:33.789207Z",
     "start_time": "2025-04-10T20:57:33.779798Z"
    }
   },
   "cell_type": "code",
   "source": [
    "cnts_FleetId = df.loc[df['Source'] == 'Submeter', 'Fleet_ID'].value_counts(dropna=False, normalize=True)\n",
    "cnts_FleetId\n"
   ],
   "id": "950f9a0166123308",
   "outputs": [
    {
     "data": {
      "text/plain": [
       "Fleet_ID\n",
       "Fleet03    0.345260\n",
       "Fleet01    0.315985\n",
       "Fleet02    0.286942\n",
       "NaN        0.051812\n",
       "Name: proportion, dtype: float64"
      ]
     },
     "execution_count": 115,
     "metadata": {},
     "output_type": "execute_result"
    }
   ],
   "execution_count": 115
  },
  {
   "metadata": {},
   "cell_type": "markdown",
   "source": [
    "1. EVSE (Electric Vehicle Supply Equipment)\n",
    "✅ What it is:\n",
    "EVSE refers to the charging hardware—the actual charging stations or ports that supply electrical energy to EVs.\n",
    "\n",
    "📡 What it records:\n",
    "Energy dispensed (kWh)\n",
    "\n",
    "Charging duration\n",
    "\n",
    "Session timestamps\n",
    "\n",
    "Sometimes limited vehicle interaction data\n",
    "\n",
    "📈 Data Characteristics:\n",
    "High accuracy\n",
    "\n",
    "High-frequency sampling\n",
    "\n",
    "Precise charger tracking (Charger ID)\n",
    "\n",
    "Sometimes cannot pinpoint which vehicle was being charged unless integrated with vehicle ID systems\n",
    "\n",
    "🧠 Think of it like:\n",
    "The pump at a gas station—it knows how much it dispensed, when, and for how long, but not always what car was filled.\n",
    "\n",
    "🚗 2. Vehicle Onboard Systems\n",
    "✅ What it is:\n",
    "Data collected from the vehicle’s internal battery management system (BMS) or onboard telemetry.\n",
    "\n",
    "📡 What it records:\n",
    "Energy received\n",
    "\n",
    "Battery status before/after charging\n",
    "\n",
    "Estimated range\n",
    "\n",
    "Time and date of charging\n",
    "\n",
    "Sometimes GPS location\n",
    "\n",
    "📉 Data Characteristics:\n",
    "May not know which charger was used\n",
    "\n",
    "Very accurate on vehicle-level metrics\n",
    "\n",
    "Ideal for user-centric analysis (driver behavior, battery health)\n",
    "\n",
    "🧠 Think of it like:\n",
    "The car’s brain reporting what it received, how much, and how it was affected—but it doesn’t always know who gave it the power.\n",
    "\n",
    "⚙️ 3. Utility Submeters\n",
    "✅ What it is:\n",
    "A secondary meter installed to monitor power consumption from one or more EV chargers, often at a building or depot level.\n",
    "\n",
    "📡 What it records:\n",
    "Total energy consumption over time (aggregated)\n",
    "\n",
    "Sometimes peak demand\n",
    "\n",
    "Often no session-level detail\n",
    "\n",
    "📉 Data Characteristics:\n",
    "Low resolution\n",
    "\n",
    "Cannot distinguish individual vehicles or chargers\n",
    "\n",
    "Useful for fleet-level monitoring, billing, and infrastructure planning\n",
    "\n",
    "🧠 Think of it like:\n",
    "A power meter outside a house—it tells how much electricity was used overall, but not which appliance (or EV) used how much."
   ],
   "id": "6ddf29cb5b51a595"
  },
  {
   "metadata": {},
   "cell_type": "markdown",
   "source": [
    "\n",
    "# DATA CLEANING"
   ],
   "id": "4b418cc999f4c9c2"
  },
  {
   "metadata": {
    "ExecuteTime": {
     "end_time": "2025-04-10T20:57:38.480506Z",
     "start_time": "2025-04-10T20:57:38.471920Z"
    }
   },
   "cell_type": "code",
   "source": [
    "# Apply forward fill only where Source is 'Submeter'\n",
    "mask = df['Source'] == 'Submeter'\n",
    "\n",
    "# Forward fill only on the Submeter subset\n",
    "df.loc[mask, 'Fleet_ID'] = df.loc[mask, 'Fleet_ID'].ffill()"
   ],
   "id": "7266ed537ceaf9e4",
   "outputs": [],
   "execution_count": 116
  },
  {
   "metadata": {
    "ExecuteTime": {
     "end_time": "2025-04-10T20:57:41.357592Z",
     "start_time": "2025-04-10T20:57:41.348939Z"
    }
   },
   "cell_type": "code",
   "source": [
    "cnts_FleetId_cleaned=df.Fleet_ID.value_counts(dropna=True, normalize=True)\n",
    "cnts_FleetId_cleaned"
   ],
   "id": "25bfff61a110cdb4",
   "outputs": [
    {
     "data": {
      "text/plain": [
       "Fleet_ID\n",
       "Fleet03    0.366468\n",
       "Fleet01    0.330903\n",
       "Fleet02    0.302629\n",
       "Name: proportion, dtype: float64"
      ]
     },
     "execution_count": 117,
     "metadata": {},
     "output_type": "execute_result"
    }
   ],
   "execution_count": 117
  },
  {
   "metadata": {
    "ExecuteTime": {
     "end_time": "2025-04-10T20:57:47.627742Z",
     "start_time": "2025-04-10T20:57:47.435119Z"
    }
   },
   "cell_type": "code",
   "source": [
    "import pandas as pd\n",
    "import matplotlib.pyplot as plt\n",
    "\n",
    "# Align both series on all fleet labels\n",
    "labels = list(set(cnts_FleetId.index).union(set(cnts_FleetId_cleaned.index)))\n",
    "before = cnts_FleetId.reindex(labels, fill_value=0)\n",
    "after = cnts_FleetId_cleaned.reindex(labels, fill_value=0)\n",
    "\n",
    "x = range(len(labels))\n",
    "\n",
    "plt.figure(figsize=(10, 6))\n",
    "\n",
    "# Stacked bar chart: before and after stacked\n",
    "plt.bar(x, before, width=0.4, label='Before Cleaning')\n",
    "plt.bar(x, after, width=0.4, bottom=before, label='After Cleaning')\n",
    "\n",
    "plt.xticks(x, labels, rotation=45)\n",
    "plt.ylabel(\"Proportion\")\n",
    "plt.title(\"Fleet_ID Distribution: Before vs After Cleaning\")\n",
    "plt.legend()\n",
    "plt.tight_layout()\n",
    "plt.show()\n",
    "\n",
    "\n"
   ],
   "id": "b36ed0cfd262314c",
   "outputs": [
    {
     "data": {
      "text/plain": [
       "<Figure size 1000x600 with 1 Axes>"
      ],
      "image/png": "[encoded data removed]"
     },
     "metadata": {},
     "output_type": "display_data"
    }
   ],
   "execution_count": 118
  },
  {
   "metadata": {
    "ExecuteTime": {
     "end_time": "2025-04-10T20:57:52.605983Z",
     "start_time": "2025-04-10T20:57:52.599177Z"
    }
   },
   "cell_type": "code",
   "source": [
    "# Forward fill only on the Source subset\n",
    "df.loc[:, 'Source'] = df.loc[:, 'Source'].ffill()\n"
   ],
   "id": "d5e0f7415e81010a",
   "outputs": [],
   "execution_count": 119
  },
  {
   "metadata": {
    "ExecuteTime": {
     "end_time": "2025-04-10T20:57:55.171205Z",
     "start_time": "2025-04-10T20:57:55.163131Z"
    }
   },
   "cell_type": "code",
   "source": [
    "cnts_Source_cleaned=df.Source.value_counts(dropna=True, normalize=True)\n",
    "cnts_Source_cleaned"
   ],
   "id": "985bde20d3eeec44",
   "outputs": [
    {
     "data": {
      "text/plain": [
       "Source\n",
       "EVSE        0.371325\n",
       "Vehicle     0.324851\n",
       "Submeter    0.303824\n",
       "Name: proportion, dtype: float64"
      ]
     },
     "execution_count": 120,
     "metadata": {},
     "output_type": "execute_result"
    }
   ],
   "execution_count": 120
  },
  {
   "metadata": {
    "ExecuteTime": {
     "end_time": "2025-04-10T20:57:59.726786Z",
     "start_time": "2025-04-10T20:57:59.532143Z"
    }
   },
   "cell_type": "code",
   "source": [
    "# Align both series on all fleet labels\n",
    "labels = list(set(cnts_Source.index).union(set(cnts_Source_cleaned.index)))\n",
    "before = cnts_Source.reindex(labels, fill_value=0)\n",
    "after = cnts_Source_cleaned.reindex(labels, fill_value=0)\n",
    "\n",
    "x = range(len(labels))\n",
    "print(x)\n",
    "plt.figure(figsize=(10, 6))\n",
    "\n",
    "# Stacked bar chart: before and after stacked\n",
    "plt.bar(x, before, width=0.4, label='Before Cleaning')\n",
    "plt.bar(x, after, width=0.4, bottom=before, label='After Cleaning')\n",
    "\n",
    "plt.xticks(x, labels, rotation=45)\n",
    "plt.ylabel(\"Proportion\")\n",
    "plt.title(\"Source Distribution: Before vs After Cleaning\")\n",
    "plt.legend()\n",
    "plt.tight_layout()\n",
    "plt.show()"
   ],
   "id": "9ec84f62e2b48603",
   "outputs": [
    {
     "name": "stdout",
     "output_type": "stream",
     "text": [
      "range(0, 4)\n"
     ]
    },
    {
     "data": {
      "text/plain": [
       "<Figure size 1000x600 with 1 Axes>"
      ],
      "image/png": "[encoded data removed]"
     },
     "metadata": {},
     "output_type": "display_data"
    }
   ],
   "execution_count": 121
  },
  {
   "metadata": {
    "ExecuteTime": {
     "end_time": "2025-04-10T20:58:07.615006Z",
     "start_time": "2025-04-10T20:58:07.607477Z"
    }
   },
   "cell_type": "code",
   "source": "cnts_chargerId",
   "id": "b69a2439659e3b15",
   "outputs": [
    {
     "data": {
      "text/plain": [
       "Charger_ID\n",
       "NaN      0.050157\n",
       "CH029    0.046608\n",
       "CH021    0.039510\n",
       "CH014    0.037568\n",
       "CH028    0.036898\n",
       "CH030    0.036228\n",
       "CH001    0.035894\n",
       "CH027    0.035626\n",
       "CH008    0.035492\n",
       "CH026    0.035090\n",
       "CH022    0.034889\n",
       "CH024    0.034019\n",
       "CH011    0.034019\n",
       "CH002    0.033081\n",
       "CH023    0.032679\n",
       "CH003    0.032278\n",
       "CH020    0.032144\n",
       "CH017    0.031072\n",
       "CH013    0.030269\n",
       "CH012    0.030269\n",
       "CH018    0.029800\n",
       "CH010    0.028862\n",
       "CH007    0.028460\n",
       "CH015    0.028126\n",
       "CH009    0.026385\n",
       "CH006    0.026251\n",
       "CH005    0.025112\n",
       "CH019    0.024978\n",
       "CH004    0.024576\n",
       "CH025    0.022367\n",
       "CH016    0.021295\n",
       "Name: proportion, dtype: float64"
      ]
     },
     "execution_count": 122,
     "metadata": {},
     "output_type": "execute_result"
    }
   ],
   "execution_count": 122
  },
  {
   "metadata": {
    "ExecuteTime": {
     "end_time": "2025-04-10T20:58:10.815264Z",
     "start_time": "2025-04-10T20:58:10.808120Z"
    }
   },
   "cell_type": "code",
   "source": [
    "\n",
    "# Forward fill only on the Source subset\n",
    "cnts_chargerId_Cleaned= df.loc[:, 'Charger_ID'] = df.loc[:, 'Charger_ID'].ffill()\n"
   ],
   "id": "4692877fd7bc63fc",
   "outputs": [],
   "execution_count": 123
  },
  {
   "metadata": {
    "ExecuteTime": {
     "end_time": "2025-04-10T20:58:14.113849Z",
     "start_time": "2025-04-10T20:58:14.105458Z"
    }
   },
   "cell_type": "code",
   "source": "cnts_chargerId_Cleaned.value_counts(dropna=False, normalize=True)",
   "id": "6304e0b275135cc5",
   "outputs": [
    {
     "data": {
      "text/plain": [
       "Charger_ID\n",
       "CH029    0.049354\n",
       "CH021    0.041519\n",
       "CH014    0.039845\n",
       "CH028    0.039108\n",
       "CH030    0.038505\n",
       "CH001    0.037970\n",
       "CH008    0.037702\n",
       "CH027    0.037300\n",
       "CH022    0.036898\n",
       "CH026    0.036095\n",
       "CH011    0.035693\n",
       "CH024    0.035693\n",
       "CH002    0.034889\n",
       "CH003    0.034353\n",
       "CH023    0.034220\n",
       "CH020    0.033617\n",
       "CH017    0.033081\n",
       "CH013    0.031742\n",
       "CH012    0.031675\n",
       "CH018    0.031407\n",
       "CH010    0.030068\n",
       "CH007    0.029867\n",
       "CH015    0.029532\n",
       "CH009    0.027590\n",
       "CH006    0.027255\n",
       "CH019    0.026652\n",
       "CH005    0.026585\n",
       "CH004    0.025916\n",
       "CH025    0.023371\n",
       "CH016    0.022501\n",
       "Name: proportion, dtype: float64"
      ]
     },
     "execution_count": 124,
     "metadata": {},
     "output_type": "execute_result"
    }
   ],
   "execution_count": 124
  },
  {
   "metadata": {
    "ExecuteTime": {
     "end_time": "2025-04-10T20:58:16.911667Z",
     "start_time": "2025-04-10T20:58:16.903166Z"
    }
   },
   "cell_type": "code",
   "source": "cnts_vehicleId",
   "id": "5439d455a69bdacb",
   "outputs": [
    {
     "data": {
      "text/plain": [
       "Vehicle_ID\n",
       "NaN      0.050157\n",
       "EV002    0.040313\n",
       "EV029    0.033148\n",
       "EV033    0.028929\n",
       "EV037    0.028527\n",
       "EV013    0.026318\n",
       "EV049    0.025916\n",
       "EV038    0.025514\n",
       "EV042    0.024509\n",
       "EV025    0.023572\n",
       "EV035    0.023371\n",
       "EV041    0.023237\n",
       "EV019    0.022634\n",
       "EV001    0.021563\n",
       "EV030    0.021295\n",
       "EV047    0.020893\n",
       "EV014    0.020759\n",
       "EV017    0.020023\n",
       "EV006    0.019688\n",
       "EV023    0.019353\n",
       "EV011    0.019152\n",
       "EV028    0.018884\n",
       "EV027    0.018483\n",
       "EV003    0.018282\n",
       "EV040    0.018148\n",
       "EV016    0.018148\n",
       "EV012    0.018014\n",
       "EV021    0.017947\n",
       "EV007    0.017679\n",
       "EV032    0.017545\n",
       "EV043    0.017478\n",
       "EV024    0.017009\n",
       "EV020    0.016875\n",
       "EV039    0.016808\n",
       "EV036    0.016741\n",
       "EV046    0.015804\n",
       "EV026    0.015536\n",
       "EV008    0.015134\n",
       "EV045    0.015067\n",
       "EV044    0.014130\n",
       "EV004    0.013862\n",
       "EV009    0.013795\n",
       "EV031    0.013728\n",
       "EV034    0.013661\n",
       "EV005    0.013594\n",
       "EV022    0.012857\n",
       "EV048    0.012857\n",
       "EV010    0.011384\n",
       "EV018    0.011317\n",
       "EV015    0.010848\n",
       "EV050    0.009509\n",
       "Name: proportion, dtype: float64"
      ]
     },
     "execution_count": 125,
     "metadata": {},
     "output_type": "execute_result"
    }
   ],
   "execution_count": 125
  },
  {
   "metadata": {
    "ExecuteTime": {
     "end_time": "2025-04-10T20:58:20.216035Z",
     "start_time": "2025-04-10T20:58:20.207698Z"
    }
   },
   "cell_type": "code",
   "source": [
    "# Forward fill only on the VehicleId subset\n",
    "cnts_vehicleId_Cleaned= df.loc[:, 'Vehicle_ID'] = df.loc[:, 'Vehicle_ID'].ffill()\n"
   ],
   "id": "c4446a041930863f",
   "outputs": [],
   "execution_count": 126
  },
  {
   "metadata": {
    "ExecuteTime": {
     "end_time": "2025-04-10T20:58:23.422718Z",
     "start_time": "2025-04-10T20:58:23.410908Z"
    }
   },
   "cell_type": "code",
   "source": [
    "# Forward fill only on the VehicleId subset\n",
    "cnts_vehicleId_Cleaned.value_counts(dropna=False, normalize=True)"
   ],
   "id": "3db1533e8cb629e5",
   "outputs": [
    {
     "data": {
      "text/plain": [
       "Vehicle_ID\n",
       "EV002    0.042523\n",
       "EV029    0.035090\n",
       "EV033    0.030536\n",
       "EV037    0.030202\n",
       "EV013    0.027858\n",
       "EV049    0.027322\n",
       "EV038    0.026719\n",
       "EV042    0.025916\n",
       "EV025    0.024844\n",
       "EV035    0.024443\n",
       "EV041    0.024175\n",
       "EV019    0.023907\n",
       "EV030    0.022501\n",
       "EV001    0.022501\n",
       "EV047    0.022032\n",
       "EV014    0.021898\n",
       "EV017    0.021027\n",
       "EV006    0.020893\n",
       "EV023    0.020224\n",
       "EV011    0.020157\n",
       "EV028    0.019889\n",
       "EV027    0.019152\n",
       "EV003    0.019085\n",
       "EV016    0.019085\n",
       "EV021    0.019018\n",
       "EV040    0.019018\n",
       "EV012    0.019018\n",
       "EV043    0.018683\n",
       "EV007    0.018550\n",
       "EV032    0.018483\n",
       "EV024    0.018215\n",
       "EV039    0.017880\n",
       "EV020    0.017746\n",
       "EV036    0.017679\n",
       "EV046    0.016608\n",
       "EV026    0.016273\n",
       "EV045    0.015804\n",
       "EV008    0.015737\n",
       "EV044    0.014799\n",
       "EV034    0.014599\n",
       "EV009    0.014398\n",
       "EV005    0.014331\n",
       "EV004    0.014331\n",
       "EV031    0.014264\n",
       "EV022    0.013460\n",
       "EV048    0.013326\n",
       "EV018    0.012121\n",
       "EV010    0.011853\n",
       "EV015    0.011652\n",
       "EV050    0.010179\n",
       "Name: proportion, dtype: float64"
      ]
     },
     "execution_count": 127,
     "metadata": {},
     "output_type": "execute_result"
    }
   ],
   "execution_count": 127
  },
  {
   "metadata": {
    "ExecuteTime": {
     "end_time": "2025-04-10T20:58:27.417779Z",
     "start_time": "2025-04-10T20:58:27.413207Z"
    }
   },
   "cell_type": "code",
   "source": "cnts_EnergyKwh=df.loc[:, 'Energy_kWh'].isna().sum()",
   "id": "fcc255805bc7b85f",
   "outputs": [],
   "execution_count": 128
  },
  {
   "metadata": {
    "ExecuteTime": {
     "end_time": "2025-04-10T20:58:30.194602Z",
     "start_time": "2025-04-10T20:58:30.189831Z"
    }
   },
   "cell_type": "code",
   "source": "print(\"Number of Missing Values in Energy_kWh =\", cnts_EnergyKwh)",
   "id": "aa74f529b251764d",
   "outputs": [
    {
     "name": "stdout",
     "output_type": "stream",
     "text": [
      "Number of Missing Values in Energy_kWh = 749\n"
     ]
    }
   ],
   "execution_count": 129
  },
  {
   "metadata": {
    "ExecuteTime": {
     "end_time": "2025-04-10T20:58:33.284729Z",
     "start_time": "2025-04-10T20:58:33.274819Z"
    }
   },
   "cell_type": "code",
   "source": [
    "median_Energy=df.loc[:, 'Energy_kWh'].median()\n",
    "cnts_EnergyKwh_cleaned=df.loc[:, 'Energy_kWh']=df.loc[:, 'Energy_kWh'].fillna(median_Energy)\n",
    "cnts_EnergyKwh_cleaned"
   ],
   "id": "264db52bb8cbe3f1",
   "outputs": [
    {
     "data": {
      "text/plain": [
       "0         25.385343\n",
       "1         30.666573\n",
       "2         28.237143\n",
       "3         42.008928\n",
       "4         36.983989\n",
       "            ...    \n",
       "14928    172.710205\n",
       "14929     28.151282\n",
       "14930     30.760124\n",
       "14931     16.423317\n",
       "14932     27.690663\n",
       "Name: Energy_kWh, Length: 14933, dtype: float64"
      ]
     },
     "execution_count": 130,
     "metadata": {},
     "output_type": "execute_result"
    }
   ],
   "execution_count": 130
  },
  {
   "metadata": {
    "ExecuteTime": {
     "end_time": "2025-04-10T20:59:19.471220Z",
     "start_time": "2025-04-10T20:59:19.465426Z"
    }
   },
   "cell_type": "code",
   "source": "cnts_Duration=df.loc[:, 'Duration_min'].isna().sum()",
   "id": "96725ec587d58c00",
   "outputs": [],
   "execution_count": 135
  },
  {
   "metadata": {
    "ExecuteTime": {
     "end_time": "2025-04-10T20:59:24.723525Z",
     "start_time": "2025-04-10T20:59:24.717997Z"
    }
   },
   "cell_type": "code",
   "source": "print(\"Number of Missing Values in Duration column =\", cnts_Duration)",
   "id": "1d4f729932a32baf",
   "outputs": [
    {
     "name": "stdout",
     "output_type": "stream",
     "text": [
      "Number of Missing Values in Duration column = 749\n"
     ]
    }
   ],
   "execution_count": 136
  },
  {
   "metadata": {
    "ExecuteTime": {
     "end_time": "2025-04-10T21:02:56.143466Z",
     "start_time": "2025-04-10T21:02:56.134818Z"
    }
   },
   "cell_type": "code",
   "source": [
    "median_Duration=df.loc[:, 'Duration_min'].median()\n",
    "cnts_Duration_cleaned=df.loc[:, 'Duration_min']=df.loc[:, 'Duration_min'].fillna(median_Duration)\n",
    "cnts_Duration_cleaned"
   ],
   "id": "7d74f22e13848bee",
   "outputs": [
    {
     "data": {
      "text/plain": [
       "0         59.129264\n",
       "1         54.493982\n",
       "2         28.738664\n",
       "3         44.087380\n",
       "4         78.611688\n",
       "            ...    \n",
       "14928     75.982211\n",
       "14929     69.542996\n",
       "14930    103.829829\n",
       "14931     83.212476\n",
       "14932     58.349309\n",
       "Name: Duration_min, Length: 14933, dtype: float64"
      ]
     },
     "execution_count": 142,
     "metadata": {},
     "output_type": "execute_result"
    }
   ],
   "execution_count": 142
  },
  {
   "metadata": {
    "ExecuteTime": {
     "end_time": "2025-04-10T21:02:59.986187Z",
     "start_time": "2025-04-10T21:02:59.975446Z"
    }
   },
   "cell_type": "code",
   "source": "df.info('Duration_min')",
   "id": "270ecf604478de5f",
   "outputs": [
    {
     "name": "stdout",
     "output_type": "stream",
     "text": [
      "<class 'pandas.core.frame.DataFrame'>\n",
      "RangeIndex: 14933 entries, 0 to 14932\n",
      "Data columns (total 6 columns):\n",
      " #   Column        Non-Null Count  Dtype  \n",
      "---  ------        --------------  -----  \n",
      " 0   Charger_ID    14933 non-null  object \n",
      " 1   Vehicle_ID    14933 non-null  object \n",
      " 2   Energy_kWh    14933 non-null  float64\n",
      " 3   Duration_min  14933 non-null  float64\n",
      " 4   Source        14933 non-null  object \n",
      " 5   Fleet_ID      4527 non-null   object \n",
      "dtypes: float64(2), object(4)\n",
      "memory usage: 700.1+ KB\n"
     ]
    }
   ],
   "execution_count": 143
  },
  {
   "metadata": {
    "ExecuteTime": {
     "end_time": "2025-04-10T21:03:08.291876Z",
     "start_time": "2025-04-10T21:03:08.280599Z"
    }
   },
   "cell_type": "code",
   "source": "df",
   "id": "e9175dd60a9891b3",
   "outputs": [
    {
     "data": {
      "text/plain": [
       "      Charger_ID Vehicle_ID  Energy_kWh  Duration_min Source Fleet_ID\n",
       "0          CH007      EV040   25.385343     59.129264   EVSE      NaN\n",
       "1          CH007      EV014   30.666573     54.493982   EVSE      NaN\n",
       "2          CH007      EV040   28.237143     28.738664   EVSE      NaN\n",
       "3          CH007      EV014   42.008928     44.087380   EVSE      NaN\n",
       "4          CH007      EV040   36.983989     78.611688   EVSE      NaN\n",
       "...          ...        ...         ...           ...    ...      ...\n",
       "14928      CH011      EV023  172.710205     75.982211   EVSE      NaN\n",
       "14929      CH011      EV034   28.151282     69.542996   EVSE      NaN\n",
       "14930      CH011      EV004   30.760124    103.829829   EVSE      NaN\n",
       "14931      CH011      EV004   16.423317     83.212476   EVSE      NaN\n",
       "14932      CH011      EV004   27.690663     58.349309   EVSE      NaN\n",
       "\n",
       "[14933 rows x 6 columns]"
      ],
      "text/html": [
       "<div>\n",
       "<style scoped>\n",
       "    .dataframe tbody tr th:only-of-type {\n",
       "        vertical-align: middle;\n",
       "    }\n",
       "\n",
       "    .dataframe tbody tr th {\n",
       "        vertical-align: top;\n",
       "    }\n",
       "\n",
       "    .dataframe thead th {\n",
       "        text-align: right;\n",
       "    }\n",
       "</style>\n",
       "<table border=\"1\" class=\"dataframe\">\n",
       "  <thead>\n",
       "    <tr style=\"text-align: right;\">\n",
       "      <th></th>\n",
       "      <th>Charger_ID</th>\n",
       "      <th>Vehicle_ID</th>\n",
       "      <th>Energy_kWh</th>\n",
       "      <th>Duration_min</th>\n",
       "      <th>Source</th>\n",
       "      <th>Fleet_ID</th>\n",
       "    </tr>\n",
       "  </thead>\n",
       "  <tbody>\n",
       "    <tr>\n",
       "      <th>0</th>\n",
       "      <td>CH007</td>\n",
       "      <td>EV040</td>\n",
       "      <td>25.385343</td>\n",
       "      <td>59.129264</td>\n",
       "      <td>EVSE</td>\n",
       "      <td>NaN</td>\n",
       "    </tr>\n",
       "    <tr>\n",
       "      <th>1</th>\n",
       "      <td>CH007</td>\n",
       "      <td>EV014</td>\n",
       "      <td>30.666573</td>\n",
       "      <td>54.493982</td>\n",
       "      <td>EVSE</td>\n",
       "      <td>NaN</td>\n",
       "    </tr>\n",
       "    <tr>\n",
       "      <th>2</th>\n",
       "      <td>CH007</td>\n",
       "      <td>EV040</td>\n",
       "      <td>28.237143</td>\n",
       "      <td>28.738664</td>\n",
       "      <td>EVSE</td>\n",
       "      <td>NaN</td>\n",
       "    </tr>\n",
       "    <tr>\n",
       "      <th>3</th>\n",
       "      <td>CH007</td>\n",
       "      <td>EV014</td>\n",
       "      <td>42.008928</td>\n",
       "      <td>44.087380</td>\n",
       "      <td>EVSE</td>\n",
       "      <td>NaN</td>\n",
       "    </tr>\n",
       "    <tr>\n",
       "      <th>4</th>\n",
       "      <td>CH007</td>\n",
       "      <td>EV040</td>\n",
       "      <td>36.983989</td>\n",
       "      <td>78.611688</td>\n",
       "      <td>EVSE</td>\n",
       "      <td>NaN</td>\n",
       "    </tr>\n",
       "    <tr>\n",
       "      <th>...</th>\n",
       "      <td>...</td>\n",
       "      <td>...</td>\n",
       "      <td>...</td>\n",
       "      <td>...</td>\n",
       "      <td>...</td>\n",
       "      <td>...</td>\n",
       "    </tr>\n",
       "    <tr>\n",
       "      <th>14928</th>\n",
       "      <td>CH011</td>\n",
       "      <td>EV023</td>\n",
       "      <td>172.710205</td>\n",
       "      <td>75.982211</td>\n",
       "      <td>EVSE</td>\n",
       "      <td>NaN</td>\n",
       "    </tr>\n",
       "    <tr>\n",
       "      <th>14929</th>\n",
       "      <td>CH011</td>\n",
       "      <td>EV034</td>\n",
       "      <td>28.151282</td>\n",
       "      <td>69.542996</td>\n",
       "      <td>EVSE</td>\n",
       "      <td>NaN</td>\n",
       "    </tr>\n",
       "    <tr>\n",
       "      <th>14930</th>\n",
       "      <td>CH011</td>\n",
       "      <td>EV004</td>\n",
       "      <td>30.760124</td>\n",
       "      <td>103.829829</td>\n",
       "      <td>EVSE</td>\n",
       "      <td>NaN</td>\n",
       "    </tr>\n",
       "    <tr>\n",
       "      <th>14931</th>\n",
       "      <td>CH011</td>\n",
       "      <td>EV004</td>\n",
       "      <td>16.423317</td>\n",
       "      <td>83.212476</td>\n",
       "      <td>EVSE</td>\n",
       "      <td>NaN</td>\n",
       "    </tr>\n",
       "    <tr>\n",
       "      <th>14932</th>\n",
       "      <td>CH011</td>\n",
       "      <td>EV004</td>\n",
       "      <td>27.690663</td>\n",
       "      <td>58.349309</td>\n",
       "      <td>EVSE</td>\n",
       "      <td>NaN</td>\n",
       "    </tr>\n",
       "  </tbody>\n",
       "</table>\n",
       "<p>14933 rows × 6 columns</p>\n",
       "</div>"
      ]
     },
     "execution_count": 144,
     "metadata": {},
     "output_type": "execute_result"
    }
   ],
   "execution_count": 144
  },
  {
   "metadata": {
    "ExecuteTime": {
     "end_time": "2025-04-10T21:09:12.308246Z",
     "start_time": "2025-04-10T21:09:12.212022Z"
    }
   },
   "cell_type": "code",
   "source": "df.to_csv('ev_charging_data_cleaned.csv',index=False)",
   "id": "584bdc6f3f59efb7",
   "outputs": [],
   "execution_count": 145
  },
  {
   "metadata": {},
   "cell_type": "markdown",
   "source": "# DATA FILTERING",
   "id": "53098584b498516e"
  },
  {
   "metadata": {
    "ExecuteTime": {
     "end_time": "2025-04-12T10:33:17.904511Z",
     "start_time": "2025-04-12T10:33:16.764302Z"
    }
   },
   "cell_type": "code",
   "source": [
    "import pandas as pd\n",
    "ev_cleaned=pd.read_csv('ev_charging_data_cleaned.csv')\n",
    "ev_cleaned.info()"
   ],
   "id": "2d0fc84e17a0110a",
   "outputs": [
    {
     "name": "stdout",
     "output_type": "stream",
     "text": [
      "<class 'pandas.core.frame.DataFrame'>\n",
      "RangeIndex: 14933 entries, 0 to 14932\n",
      "Data columns (total 6 columns):\n",
      " #   Column        Non-Null Count  Dtype  \n",
      "---  ------        --------------  -----  \n",
      " 0   Charger_ID    14933 non-null  object \n",
      " 1   Vehicle_ID    14933 non-null  object \n",
      " 2   Energy_kWh    14933 non-null  float64\n",
      " 3   Duration_min  14933 non-null  float64\n",
      " 4   Source        14933 non-null  object \n",
      " 5   Fleet_ID      4527 non-null   object \n",
      "dtypes: float64(2), object(4)\n",
      "memory usage: 700.1+ KB\n"
     ]
    }
   ],
   "execution_count": 2
  },
  {
   "metadata": {
    "ExecuteTime": {
     "end_time": "2025-04-12T10:33:40.733927Z",
     "start_time": "2025-04-12T10:33:40.715840Z"
    }
   },
   "cell_type": "code",
   "source": "ev_cleaned.isna().sum()",
   "id": "ab00701fac46b662",
   "outputs": [
    {
     "data": {
      "text/plain": [
       "Charger_ID          0\n",
       "Vehicle_ID          0\n",
       "Energy_kWh          0\n",
       "Duration_min        0\n",
       "Source              0\n",
       "Fleet_ID        10406\n",
       "dtype: int64"
      ]
     },
     "execution_count": 3,
     "metadata": {},
     "output_type": "execute_result"
    }
   ],
   "execution_count": 3
  },
  {
   "metadata": {
    "ExecuteTime": {
     "end_time": "2025-04-12T10:35:43.749812Z",
     "start_time": "2025-04-12T10:35:43.732742Z"
    }
   },
   "cell_type": "code",
   "source": "ev_cleaned.isna().value_counts()",
   "id": "c246c171f0782f18",
   "outputs": [
    {
     "data": {
      "text/plain": [
       "Charger_ID  Vehicle_ID  Energy_kWh  Duration_min  Source  Fleet_ID\n",
       "False       False       False       False         False   True        10406\n",
       "                                                          False        4527\n",
       "Name: count, dtype: int64"
      ]
     },
     "execution_count": 4,
     "metadata": {},
     "output_type": "execute_result"
    }
   ],
   "execution_count": 4
  },
  {
   "metadata": {
    "ExecuteTime": {
     "end_time": "2025-04-12T10:41:49.103220Z",
     "start_time": "2025-04-12T10:41:49.087697Z"
    }
   },
   "cell_type": "code",
   "source": [
    "# Split by source\n",
    "evse_df = ev_cleaned[ev_cleaned['Source'] == 'EVSE'].copy()\n",
    "submeter_df = ev_cleaned[ev_cleaned['Source'] == 'Submeter'].copy()\n",
    "vehicle_df = ev_cleaned[ev_cleaned['Source'] == 'Vehicle'].copy()\n",
    "\n",
    "# Confirm the sizes\n",
    "print(\"EVSE data shape:\", evse_df.shape)\n",
    "print(\"Submeter data shape:\", submeter_df.shape)\n",
    "print(\"Vehicle data shape:\", vehicle_df.shape)\n"
   ],
   "id": "c9c783f81d6c3c9b",
   "outputs": [
    {
     "name": "stdout",
     "output_type": "stream",
     "text": [
      "EVSE data shape: (5545, 6)\n",
      "Submeter data shape: (4537, 6)\n",
      "Vehicle data shape: (4851, 6)\n"
     ]
    }
   ],
   "execution_count": 5
  },
  {
   "metadata": {},
   "cell_type": "markdown",
   "source": [
    "# 1. EVSE (Electric Vehicle Supply Equipment)\n",
    "✅ What it is:\n",
    "EVSE refers to the charging hardware—the actual charging stations or ports that supply electrical energy to EVs.\n",
    "\n",
    "📡 What it records:\n",
    "Energy dispensed (kWh)\n",
    "\n",
    "Charging duration\n",
    "\n",
    "Session timestamps\n",
    "\n",
    "Sometimes limited vehicle interaction data\n",
    "\n",
    "📈 Data Characteristics:\n",
    "High accuracy\n",
    "\n",
    "High-frequency sampling\n",
    "\n",
    "Precise charger tracking (Charger ID)\n",
    "\n",
    "Sometimes cannot pinpoint which vehicle was being charged unless integrated with vehicle ID systems\n",
    "\n",
    "🧠 Think of it like:\n",
    "The pump at a gas station—it knows how much it dispensed, when, and for how long, but not always what car was filled."
   ],
   "id": "9112cbe1b26f750e"
  },
  {
   "metadata": {},
   "cell_type": "code",
   "outputs": [
    {
     "data": {
      "text/plain": [
       "      Charger_ID Vehicle_ID  Energy_kWh  Duration_min Source Fleet_ID\n",
       "0          CH007      EV040   25.385343     59.129264   EVSE      NaN\n",
       "1          CH007      EV014   30.666573     54.493982   EVSE      NaN\n",
       "2          CH007      EV040   28.237143     28.738664   EVSE      NaN\n",
       "3          CH007      EV014   42.008928     44.087380   EVSE      NaN\n",
       "4          CH007      EV040   36.983989     78.611688   EVSE      NaN\n",
       "...          ...        ...         ...           ...    ...      ...\n",
       "14928      CH011      EV023  172.710205     75.982211   EVSE      NaN\n",
       "14929      CH011      EV034   28.151282     69.542996   EVSE      NaN\n",
       "14930      CH011      EV004   30.760124    103.829829   EVSE      NaN\n",
       "14931      CH011      EV004   16.423317     83.212476   EVSE      NaN\n",
       "14932      CH011      EV004   27.690663     58.349309   EVSE      NaN\n",
       "\n",
       "[5545 rows x 6 columns]"
      ],
      "text/html": [
       "<div>\n",
       "<style scoped>\n",
       "    .dataframe tbody tr th:only-of-type {\n",
       "        vertical-align: middle;\n",
       "    }\n",
       "\n",
       "    .dataframe tbody tr th {\n",
       "        vertical-align: top;\n",
       "    }\n",
       "\n",
       "    .dataframe thead th {\n",
       "        text-align: right;\n",
       "    }\n",
       "</style>\n",
       "<table border=\"1\" class=\"dataframe\">\n",
       "  <thead>\n",
       "    <tr style=\"text-align: right;\">\n",
       "      <th></th>\n",
       "      <th>Charger_ID</th>\n",
       "      <th>Vehicle_ID</th>\n",
       "      <th>Energy_kWh</th>\n",
       "      <th>Duration_min</th>\n",
       "      <th>Source</th>\n",
       "      <th>Fleet_ID</th>\n",
       "    </tr>\n",
       "  </thead>\n",
       "  <tbody>\n",
       "    <tr>\n",
       "      <th>0</th>\n",
       "      <td>CH007</td>\n",
       "      <td>EV040</td>\n",
       "      <td>25.385343</td>\n",
       "      <td>59.129264</td>\n",
       "      <td>EVSE</td>\n",
       "      <td>NaN</td>\n",
       "    </tr>\n",
       "    <tr>\n",
       "      <th>1</th>\n",
       "      <td>CH007</td>\n",
       "      <td>EV014</td>\n",
       "      <td>30.666573</td>\n",
       "      <td>54.493982</td>\n",
       "      <td>EVSE</td>\n",
       "      <td>NaN</td>\n",
       "    </tr>\n",
       "    <tr>\n",
       "      <th>2</th>\n",
       "      <td>CH007</td>\n",
       "      <td>EV040</td>\n",
       "      <td>28.237143</td>\n",
       "      <td>28.738664</td>\n",
       "      <td>EVSE</td>\n",
       "      <td>NaN</td>\n",
       "    </tr>\n",
       "    <tr>\n",
       "      <th>3</th>\n",
       "      <td>CH007</td>\n",
       "      <td>EV014</td>\n",
       "      <td>42.008928</td>\n",
       "      <td>44.087380</td>\n",
       "      <td>EVSE</td>\n",
       "      <td>NaN</td>\n",
       "    </tr>\n",
       "    <tr>\n",
       "      <th>4</th>\n",
       "      <td>CH007</td>\n",
       "      <td>EV040</td>\n",
       "      <td>36.983989</td>\n",
       "      <td>78.611688</td>\n",
       "      <td>EVSE</td>\n",
       "      <td>NaN</td>\n",
       "    </tr>\n",
       "    <tr>\n",
       "      <th>...</th>\n",
       "      <td>...</td>\n",
       "      <td>...</td>\n",
       "      <td>...</td>\n",
       "      <td>...</td>\n",
       "      <td>...</td>\n",
       "      <td>...</td>\n",
       "    </tr>\n",
       "    <tr>\n",
       "      <th>14928</th>\n",
       "      <td>CH011</td>\n",
       "      <td>EV023</td>\n",
       "      <td>172.710205</td>\n",
       "      <td>75.982211</td>\n",
       "      <td>EVSE</td>\n",
       "      <td>NaN</td>\n",
       "    </tr>\n",
       "    <tr>\n",
       "      <th>14929</th>\n",
       "      <td>CH011</td>\n",
       "      <td>EV034</td>\n",
       "      <td>28.151282</td>\n",
       "      <td>69.542996</td>\n",
       "      <td>EVSE</td>\n",
       "      <td>NaN</td>\n",
       "    </tr>\n",
       "    <tr>\n",
       "      <th>14930</th>\n",
       "      <td>CH011</td>\n",
       "      <td>EV004</td>\n",
       "      <td>30.760124</td>\n",
       "      <td>103.829829</td>\n",
       "      <td>EVSE</td>\n",
       "      <td>NaN</td>\n",
       "    </tr>\n",
       "    <tr>\n",
       "      <th>14931</th>\n",
       "      <td>CH011</td>\n",
       "      <td>EV004</td>\n",
       "      <td>16.423317</td>\n",
       "      <td>83.212476</td>\n",
       "      <td>EVSE</td>\n",
       "      <td>NaN</td>\n",
       "    </tr>\n",
       "    <tr>\n",
       "      <th>14932</th>\n",
       "      <td>CH011</td>\n",
       "      <td>EV004</td>\n",
       "      <td>27.690663</td>\n",
       "      <td>58.349309</td>\n",
       "      <td>EVSE</td>\n",
       "      <td>NaN</td>\n",
       "    </tr>\n",
       "  </tbody>\n",
       "</table>\n",
       "<p>5545 rows × 6 columns</p>\n",
       "</div>"
      ]
     },
     "execution_count": 6,
     "metadata": {},
     "output_type": "execute_result"
    }
   ],
   "execution_count": 6,
   "source": [
    "\n",
    "evse_df"
   ],
   "id": "c08829f724b1009e"
  },
  {
   "metadata": {
    "ExecuteTime": {
     "end_time": "2025-04-12T10:45:18.920041Z",
     "start_time": "2025-04-12T10:45:18.912318Z"
    }
   },
   "cell_type": "code",
   "source": [
    "# Drop Fleet_ID from EVSE and Vehicle DataFrames since it contains nan values\n",
    "evse_df.drop(columns=['Fleet_ID'], inplace=True)\n",
    "vehicle_df.drop(columns=['Fleet_ID'], inplace=True)\n"
   ],
   "id": "e884ec07d10f96e3",
   "outputs": [],
   "execution_count": 7
  },
  {
   "metadata": {
    "ExecuteTime": {
     "end_time": "2025-04-12T10:45:32.752121Z",
     "start_time": "2025-04-12T10:45:32.746902Z"
    }
   },
   "cell_type": "code",
   "source": [
    "# Confirm the sizes\n",
    "print(\"EVSE data shape:\", evse_df.shape)\n",
    "print(\"Submeter data shape:\", submeter_df.shape)\n",
    "print(\"Vehicle data shape:\", vehicle_df.shape)"
   ],
   "id": "804414fb56b166",
   "outputs": [
    {
     "name": "stdout",
     "output_type": "stream",
     "text": [
      "EVSE data shape: (5545, 5)\n",
      "Submeter data shape: (4537, 6)\n",
      "Vehicle data shape: (4851, 5)\n"
     ]
    }
   ],
   "execution_count": 8
  },
  {
   "metadata": {
    "ExecuteTime": {
     "end_time": "2025-04-12T12:04:29.065552Z",
     "start_time": "2025-04-12T12:04:29.053125Z"
    }
   },
   "cell_type": "code",
   "source": "evse_df",
   "id": "7966f969c8705325",
   "outputs": [
    {
     "data": {
      "text/plain": [
       "      Charger_ID Vehicle_ID  Energy_kWh  Duration_min Source  \\\n",
       "0          CH007      EV040   25.385343     59.129264   EVSE   \n",
       "1          CH007      EV014   30.666573     54.493982   EVSE   \n",
       "2          CH007      EV040   28.237143     28.738664   EVSE   \n",
       "3          CH007      EV014   42.008928     44.087380   EVSE   \n",
       "4          CH007      EV040   36.983989     78.611688   EVSE   \n",
       "...          ...        ...         ...           ...    ...   \n",
       "14928      CH011      EV023  172.710205     75.982211   EVSE   \n",
       "14929      CH011      EV034   28.151282     69.542996   EVSE   \n",
       "14930      CH011      EV004   30.760124    103.829829   EVSE   \n",
       "14931      CH011      EV004   16.423317     83.212476   EVSE   \n",
       "14932      CH011      EV004   27.690663     58.349309   EVSE   \n",
       "\n",
       "       Efficiency_kWh_per_min  \n",
       "0                    0.429319  \n",
       "1                    0.562752  \n",
       "2                    0.982549  \n",
       "3                    0.952856  \n",
       "4                    0.470464  \n",
       "...                       ...  \n",
       "14928                2.273035  \n",
       "14929                0.404804  \n",
       "14930                0.296255  \n",
       "14931                0.197366  \n",
       "14932                0.474567  \n",
       "\n",
       "[5545 rows x 6 columns]"
      ],
      "text/html": [
       "<div>\n",
       "<style scoped>\n",
       "    .dataframe tbody tr th:only-of-type {\n",
       "        vertical-align: middle;\n",
       "    }\n",
       "\n",
       "    .dataframe tbody tr th {\n",
       "        vertical-align: top;\n",
       "    }\n",
       "\n",
       "    .dataframe thead th {\n",
       "        text-align: right;\n",
       "    }\n",
       "</style>\n",
       "<table border=\"1\" class=\"dataframe\">\n",
       "  <thead>\n",
       "    <tr style=\"text-align: right;\">\n",
       "      <th></th>\n",
       "      <th>Charger_ID</th>\n",
       "      <th>Vehicle_ID</th>\n",
       "      <th>Energy_kWh</th>\n",
       "      <th>Duration_min</th>\n",
       "      <th>Source</th>\n",
       "      <th>Efficiency_kWh_per_min</th>\n",
       "    </tr>\n",
       "  </thead>\n",
       "  <tbody>\n",
       "    <tr>\n",
       "      <th>0</th>\n",
       "      <td>CH007</td>\n",
       "      <td>EV040</td>\n",
       "      <td>25.385343</td>\n",
       "      <td>59.129264</td>\n",
       "      <td>EVSE</td>\n",
       "      <td>0.429319</td>\n",
       "    </tr>\n",
       "    <tr>\n",
       "      <th>1</th>\n",
       "      <td>CH007</td>\n",
       "      <td>EV014</td>\n",
       "      <td>30.666573</td>\n",
       "      <td>54.493982</td>\n",
       "      <td>EVSE</td>\n",
       "      <td>0.562752</td>\n",
       "    </tr>\n",
       "    <tr>\n",
       "      <th>2</th>\n",
       "      <td>CH007</td>\n",
       "      <td>EV040</td>\n",
       "      <td>28.237143</td>\n",
       "      <td>28.738664</td>\n",
       "      <td>EVSE</td>\n",
       "      <td>0.982549</td>\n",
       "    </tr>\n",
       "    <tr>\n",
       "      <th>3</th>\n",
       "      <td>CH007</td>\n",
       "      <td>EV014</td>\n",
       "      <td>42.008928</td>\n",
       "      <td>44.087380</td>\n",
       "      <td>EVSE</td>\n",
       "      <td>0.952856</td>\n",
       "    </tr>\n",
       "    <tr>\n",
       "      <th>4</th>\n",
       "      <td>CH007</td>\n",
       "      <td>EV040</td>\n",
       "      <td>36.983989</td>\n",
       "      <td>78.611688</td>\n",
       "      <td>EVSE</td>\n",
       "      <td>0.470464</td>\n",
       "    </tr>\n",
       "    <tr>\n",
       "      <th>...</th>\n",
       "      <td>...</td>\n",
       "      <td>...</td>\n",
       "      <td>...</td>\n",
       "      <td>...</td>\n",
       "      <td>...</td>\n",
       "      <td>...</td>\n",
       "    </tr>\n",
       "    <tr>\n",
       "      <th>14928</th>\n",
       "      <td>CH011</td>\n",
       "      <td>EV023</td>\n",
       "      <td>172.710205</td>\n",
       "      <td>75.982211</td>\n",
       "      <td>EVSE</td>\n",
       "      <td>2.273035</td>\n",
       "    </tr>\n",
       "    <tr>\n",
       "      <th>14929</th>\n",
       "      <td>CH011</td>\n",
       "      <td>EV034</td>\n",
       "      <td>28.151282</td>\n",
       "      <td>69.542996</td>\n",
       "      <td>EVSE</td>\n",
       "      <td>0.404804</td>\n",
       "    </tr>\n",
       "    <tr>\n",
       "      <th>14930</th>\n",
       "      <td>CH011</td>\n",
       "      <td>EV004</td>\n",
       "      <td>30.760124</td>\n",
       "      <td>103.829829</td>\n",
       "      <td>EVSE</td>\n",
       "      <td>0.296255</td>\n",
       "    </tr>\n",
       "    <tr>\n",
       "      <th>14931</th>\n",
       "      <td>CH011</td>\n",
       "      <td>EV004</td>\n",
       "      <td>16.423317</td>\n",
       "      <td>83.212476</td>\n",
       "      <td>EVSE</td>\n",
       "      <td>0.197366</td>\n",
       "    </tr>\n",
       "    <tr>\n",
       "      <th>14932</th>\n",
       "      <td>CH011</td>\n",
       "      <td>EV004</td>\n",
       "      <td>27.690663</td>\n",
       "      <td>58.349309</td>\n",
       "      <td>EVSE</td>\n",
       "      <td>0.474567</td>\n",
       "    </tr>\n",
       "  </tbody>\n",
       "</table>\n",
       "<p>5545 rows × 6 columns</p>\n",
       "</div>"
      ]
     },
     "execution_count": 53,
     "metadata": {},
     "output_type": "execute_result"
    }
   ],
   "execution_count": 53
  },
  {
   "metadata": {
    "ExecuteTime": {
     "end_time": "2025-04-12T11:03:13.464513Z",
     "start_time": "2025-04-12T11:03:13.459094Z"
    }
   },
   "cell_type": "code",
   "source": [
    "avg_energy = evse_df['Energy_kWh'].mean()\n",
    "print(f\"Average Energy per Session: {avg_energy:.2f} kWh\")\n"
   ],
   "id": "8d1a47ce250257e2",
   "outputs": [
    {
     "name": "stdout",
     "output_type": "stream",
     "text": [
      "Average Energy per Session: 32.19 kWh\n"
     ]
    }
   ],
   "execution_count": 11
  },
  {
   "metadata": {},
   "cell_type": "markdown",
   "source": "## Removing OutLiers From Energy and Duration Column",
   "id": "169e01ace7b0151a"
  },
  {
   "metadata": {},
   "cell_type": "code",
   "outputs": [
    {
     "name": "stdout",
     "output_type": "stream",
     "text": [
      "Number of Outliers in Duration: 9\n"
     ]
    }
   ],
   "execution_count": 60,
   "source": [
    "\n",
    "Q1 = evse_df['Duration_min'].quantile(0.25)\n",
    "Q3 = evse_df['Duration_min'].quantile(0.75)\n",
    "IQR = Q3 - Q1\n",
    "\n",
    "lower_bound = Q1 - 1.5 * IQR\n",
    "upper_bound = Q3 + 1.5 * IQR\n",
    "\n",
    "outliers = evse_df[(evse_df['Duration_min'] < lower_bound) | (evse_df['Duration_min'] > upper_bound)]\n",
    "\n",
    "print(f\"Number of Outliers in Duration: {len(outliers)}\")\n"
   ],
   "id": "bf653dd1693c31bc"
  },
  {
   "metadata": {
    "ExecuteTime": {
     "end_time": "2025-04-12T12:07:12.822186Z",
     "start_time": "2025-04-12T12:07:12.690504Z"
    }
   },
   "cell_type": "code",
   "source": [
    "import seaborn as sns\n",
    "plt.figure(figsize=(6,4))\n",
    "sns.violinplot(x=evse_df['Duration_min'], color='orange')\n",
    "plt.title('ViolinPlot of Charging Duration (EVSE)')\n",
    "plt.xlabel('Duration (minutes)')\n",
    "plt.grid(True)\n",
    "plt.show()\n"
   ],
   "id": "cb85c677b072c6fc",
   "outputs": [
    {
     "data": {
      "text/plain": [
       "<Figure size 600x400 with 1 Axes>"
      ],
      "image/png": "[encoded data removed]"
     },
     "metadata": {},
     "output_type": "display_data"
    }
   ],
   "execution_count": 61
  },
  {
   "metadata": {
    "ExecuteTime": {
     "end_time": "2025-04-12T12:07:16.955650Z",
     "start_time": "2025-04-12T12:07:16.818036Z"
    }
   },
   "cell_type": "code",
   "source": [
    "plt.figure(figsize=(6,4))\n",
    "sns.boxplot(x=evse_df['Duration_min'], color='orange')\n",
    "plt.title('Boxplot of Charging Duration (EVSE)')\n",
    "plt.xlabel('Duration (minutes)')\n",
    "plt.grid(True)\n",
    "plt.show()\n"
   ],
   "id": "80f5402fa6eeef3e",
   "outputs": [
    {
     "data": {
      "text/plain": [
       "<Figure size 600x400 with 1 Axes>"
      ],
      "image/png": "[encoded data removed]"
     },
     "metadata": {},
     "output_type": "display_data"
    }
   ],
   "execution_count": 62
  },
  {
   "metadata": {
    "ExecuteTime": {
     "end_time": "2025-04-12T12:07:20.659838Z",
     "start_time": "2025-04-12T12:07:20.652538Z"
    }
   },
   "cell_type": "code",
   "source": [
    "# Remove outliers from the dataset\n",
    "evse_df_cleaned = evse_df[(evse_df['Duration_min'] >= lower_bound) & (evse_df['Duration_min'] <= upper_bound)]\n",
    "\n",
    "# Print the number of outliers removed\n",
    "print(f\"Number of Outliers Removed: {len(outliers)}\")\n",
    "\n",
    "# Check the new dataset\n",
    "print(f\"Shape of dataset after removal: {evse_df_cleaned.shape}\")\n",
    "\n"
   ],
   "id": "2162e3ef54218d58",
   "outputs": [
    {
     "name": "stdout",
     "output_type": "stream",
     "text": [
      "Number of Outliers Removed: 9\n",
      "Shape of dataset after removal: (5536, 6)\n"
     ]
    }
   ],
   "execution_count": 63
  },
  {
   "metadata": {
    "ExecuteTime": {
     "end_time": "2025-04-12T12:10:18.320333Z",
     "start_time": "2025-04-12T12:10:18.202460Z"
    }
   },
   "cell_type": "code",
   "source": [
    "plt.figure(figsize=(6,4))\n",
    "sns.boxplot(x=evse_df_cleaned['Duration_min'], color='orange')\n",
    "plt.title('Boxplot of Charging Duration (EVSE)')\n",
    "plt.xlabel('Duration (minutes)')\n",
    "plt.grid(True)\n",
    "plt.show()\n"
   ],
   "id": "33ea03328286a1f8",
   "outputs": [
    {
     "data": {
      "text/plain": [
       "<Figure size 600x400 with 1 Axes>"
      ],
      "image/png": "[encoded data removed]"
     },
     "metadata": {},
     "output_type": "display_data"
    }
   ],
   "execution_count": 64
  },
  {
   "metadata": {
    "ExecuteTime": {
     "end_time": "2025-04-12T12:13:20.526423Z",
     "start_time": "2025-04-12T12:13:20.517960Z"
    }
   },
   "cell_type": "code",
   "source": [
    "Q1 = evse_df['Energy_kWh'].quantile(0.25)\n",
    "Q3 = evse_df['Energy_kWh'].quantile(0.75)\n",
    "IQR = Q3 - Q1\n",
    "\n",
    "lower_bound = Q1 - 1.5 * IQR\n",
    "upper_bound = Q3 + 1.5 * IQR\n",
    "\n",
    "outliers = evse_df[(evse_df['Energy_kWh'] < lower_bound) | (evse_df['Energy_kWh'] > upper_bound)]\n",
    "\n",
    "print(f\"Number of Outliers in Energy_kWh: {len(outliers)}\")"
   ],
   "id": "6e95730887903afd",
   "outputs": [
    {
     "name": "stdout",
     "output_type": "stream",
     "text": [
      "Number of Outliers in Energy_kWh: 173\n"
     ]
    }
   ],
   "execution_count": 66
  },
  {
   "metadata": {
    "ExecuteTime": {
     "end_time": "2025-04-12T12:14:38.062827Z",
     "start_time": "2025-04-12T12:14:37.921689Z"
    }
   },
   "cell_type": "code",
   "source": [
    "plt.figure(figsize=(6,4))\n",
    "sns.boxplot(x=evse_df['Energy_kWh'], color='orange')\n",
    "plt.title('Boxplot of Energy_Kwh (EVSE)')\n",
    "plt.xlabel('Energy (kWh)')\n",
    "plt.grid(True)\n",
    "plt.show()"
   ],
   "id": "eafea1a9b2a6ba8b",
   "outputs": [
    {
     "data": {
      "text/plain": [
       "<Figure size 600x400 with 1 Axes>"
      ],
      "image/png": "[encoded data removed]"
     },
     "metadata": {},
     "output_type": "display_data"
    }
   ],
   "execution_count": 68
  },
  {
   "metadata": {
    "ExecuteTime": {
     "end_time": "2025-04-12T12:15:10.845171Z",
     "start_time": "2025-04-12T12:15:10.711040Z"
    }
   },
   "cell_type": "code",
   "source": [
    "plt.figure(figsize=(6,4))\n",
    "sns.violinplot(x=evse_df['Energy_kWh'], color='orange')\n",
    "plt.title('Boxplot of Energy_Kwh (EVSE)')\n",
    "plt.xlabel('Energy (kWh)')\n",
    "plt.grid(True)\n",
    "plt.show()"
   ],
   "id": "9d99a63cde3037d4",
   "outputs": [
    {
     "data": {
      "text/plain": [
       "<Figure size 600x400 with 1 Axes>"
      ],
      "image/png": "[encoded data removed]"
     },
     "metadata": {},
     "output_type": "display_data"
    }
   ],
   "execution_count": 69
  },
  {
   "metadata": {
    "ExecuteTime": {
     "end_time": "2025-04-12T12:18:07.308530Z",
     "start_time": "2025-04-12T12:18:07.301305Z"
    }
   },
   "cell_type": "code",
   "source": [
    "# Remove outliers from the dataset\n",
    "evse_df_cleaned = evse_df[(evse_df['Energy_kWh'] >= lower_bound) & (evse_df['Energy_kWh'] <= upper_bound)]\n",
    "\n",
    "# Print the number of outliers removed\n",
    "print(f\"Number of Outliers Removed: {len(outliers)}\")\n",
    "\n",
    "# Check the new dataset\n",
    "print(f\"Shape of dataset after removal: {evse_df_cleaned.shape}\")\n"
   ],
   "id": "ce64e5b64b0a0624",
   "outputs": [
    {
     "name": "stdout",
     "output_type": "stream",
     "text": [
      "Number of Outliers Removed: 173\n",
      "Shape of dataset after removal: (5372, 6)\n"
     ]
    }
   ],
   "execution_count": 71
  },
  {
   "metadata": {
    "ExecuteTime": {
     "end_time": "2025-04-12T12:18:58.955292Z",
     "start_time": "2025-04-12T12:18:58.833799Z"
    }
   },
   "cell_type": "code",
   "source": [
    "plt.figure(figsize=(6,4))\n",
    "sns.boxplot(x=evse_df_cleaned['Energy_kWh'], color='orange')\n",
    "plt.title('Boxplot of Energy_Kwh (EVSE)')\n",
    "plt.xlabel('Energy (kWh)')\n",
    "plt.grid(True)\n",
    "plt.show()"
   ],
   "id": "aeecd46069f0638b",
   "outputs": [
    {
     "data": {
      "text/plain": [
       "<Figure size 600x400 with 1 Axes>"
      ],
      "image/png": "[encoded data removed]"
     },
     "metadata": {},
     "output_type": "display_data"
    }
   ],
   "execution_count": 73
  },
  {
   "metadata": {
    "ExecuteTime": {
     "end_time": "2025-04-12T12:19:48.861307Z",
     "start_time": "2025-04-12T12:19:48.853106Z"
    }
   },
   "cell_type": "code",
   "source": [
    "\n",
    "most_used = evse_df_cleaned['Charger_ID'].value_counts().head(10)\n",
    "print(\"Top 10 Most Used Chargers:\\n\", most_used)\n"
   ],
   "id": "8cdfc719b9cbed42",
   "outputs": [
    {
     "name": "stdout",
     "output_type": "stream",
     "text": [
      "Top 10 Most Used Chargers:\n",
      " Charger_ID\n",
      "CH029    391\n",
      "CH021    276\n",
      "CH028    257\n",
      "CH030    256\n",
      "CH002    252\n",
      "CH027    242\n",
      "CH023    234\n",
      "CH012    233\n",
      "CH001    232\n",
      "CH017    224\n",
      "Name: count, dtype: int64\n"
     ]
    }
   ],
   "execution_count": 74
  },
  {
   "metadata": {
    "ExecuteTime": {
     "end_time": "2025-04-12T12:19:54.140244Z",
     "start_time": "2025-04-12T12:19:53.895594Z"
    }
   },
   "cell_type": "code",
   "source": [
    "import matplotlib.pyplot as plt\n",
    "\n",
    "most_used.plot(kind='bar', color='skyblue', figsize=(10,5))\n",
    "plt.title('Top 10 Most Used Chargers (By Session Count)')\n",
    "plt.xlabel('Charger ID')\n",
    "plt.ylabel('Number of Sessions')\n",
    "plt.xticks(rotation=45)\n",
    "plt.grid(True)\n",
    "plt.tight_layout()\n",
    "plt.show()\n"
   ],
   "id": "55a96f5d9f8e2e0c",
   "outputs": [
    {
     "data": {
      "text/plain": [
       "<Figure size 1000x500 with 1 Axes>"
      ],
      "image/png": "[encoded data removed]"
     },
     "metadata": {},
     "output_type": "display_data"
    }
   ],
   "execution_count": 75
  },
  {
   "metadata": {},
   "cell_type": "markdown",
   "source": "",
   "id": "1e7b2aca8ee2a879"
  },
  {
   "metadata": {
    "ExecuteTime": {
     "end_time": "2025-04-12T12:25:21.686080Z",
     "start_time": "2025-04-12T12:25:21.669318Z"
    }
   },
   "cell_type": "code",
   "source": [
    "evse_df_cleaned['Efficiency_kWh_per_min'] = evse_df_cleaned['Energy_kWh'] / evse_df_cleaned['Duration_min']\n",
    "evse_df_cleaned\n",
    "\n"
   ],
   "id": "bcdfb5fcc9452dbc",
   "outputs": [
    {
     "name": "stderr",
     "output_type": "stream",
     "text": [
      "C:\\Users\\jaiku\\AppData\\Local\\Temp\\ipykernel_11796\\3878840874.py:1: SettingWithCopyWarning: \n",
      "A value is trying to be set on a copy of a slice from a DataFrame.\n",
      "Try using .loc[row_indexer,col_indexer] = value instead\n",
      "\n",
      "See the caveats in the documentation: https://pandas.pydata.org/pandas-docs/stable/user_guide/indexing.html#returning-a-view-versus-a-copy\n",
      "  evse_df_cleaned['Efficiency_kWh_per_min'] = evse_df_cleaned['Energy_kWh'] / evse_df_cleaned['Duration_min']\n"
     ]
    },
    {
     "data": {
      "text/plain": [
       "      Charger_ID Vehicle_ID  Energy_kWh  Duration_min Source  \\\n",
       "0          CH007      EV040   25.385343     59.129264   EVSE   \n",
       "1          CH007      EV014   30.666573     54.493982   EVSE   \n",
       "2          CH007      EV040   28.237143     28.738664   EVSE   \n",
       "3          CH007      EV014   42.008928     44.087380   EVSE   \n",
       "4          CH007      EV040   36.983989     78.611688   EVSE   \n",
       "...          ...        ...         ...           ...    ...   \n",
       "14927      CH011      EV004   35.888976     55.782728   EVSE   \n",
       "14929      CH011      EV034   28.151282     69.542996   EVSE   \n",
       "14930      CH011      EV004   30.760124    103.829829   EVSE   \n",
       "14931      CH011      EV004   16.423317     83.212476   EVSE   \n",
       "14932      CH011      EV004   27.690663     58.349309   EVSE   \n",
       "\n",
       "       Efficiency_kWh_per_min  \n",
       "0                    0.429319  \n",
       "1                    0.562752  \n",
       "2                    0.982549  \n",
       "3                    0.952856  \n",
       "4                    0.470464  \n",
       "...                       ...  \n",
       "14927                0.643371  \n",
       "14929                0.404804  \n",
       "14930                0.296255  \n",
       "14931                0.197366  \n",
       "14932                0.474567  \n",
       "\n",
       "[5372 rows x 6 columns]"
      ],
      "text/html": [
       "<div>\n",
       "<style scoped>\n",
       "    .dataframe tbody tr th:only-of-type {\n",
       "        vertical-align: middle;\n",
       "    }\n",
       "\n",
       "    .dataframe tbody tr th {\n",
       "        vertical-align: top;\n",
       "    }\n",
       "\n",
       "    .dataframe thead th {\n",
       "        text-align: right;\n",
       "    }\n",
       "</style>\n",
       "<table border=\"1\" class=\"dataframe\">\n",
       "  <thead>\n",
       "    <tr style=\"text-align: right;\">\n",
       "      <th></th>\n",
       "      <th>Charger_ID</th>\n",
       "      <th>Vehicle_ID</th>\n",
       "      <th>Energy_kWh</th>\n",
       "      <th>Duration_min</th>\n",
       "      <th>Source</th>\n",
       "      <th>Efficiency_kWh_per_min</th>\n",
       "    </tr>\n",
       "  </thead>\n",
       "  <tbody>\n",
       "    <tr>\n",
       "      <th>0</th>\n",
       "      <td>CH007</td>\n",
       "      <td>EV040</td>\n",
       "      <td>25.385343</td>\n",
       "      <td>59.129264</td>\n",
       "      <td>EVSE</td>\n",
       "      <td>0.429319</td>\n",
       "    </tr>\n",
       "    <tr>\n",
       "      <th>1</th>\n",
       "      <td>CH007</td>\n",
       "      <td>EV014</td>\n",
       "      <td>30.666573</td>\n",
       "      <td>54.493982</td>\n",
       "      <td>EVSE</td>\n",
       "      <td>0.562752</td>\n",
       "    </tr>\n",
       "    <tr>\n",
       "      <th>2</th>\n",
       "      <td>CH007</td>\n",
       "      <td>EV040</td>\n",
       "      <td>28.237143</td>\n",
       "      <td>28.738664</td>\n",
       "      <td>EVSE</td>\n",
       "      <td>0.982549</td>\n",
       "    </tr>\n",
       "    <tr>\n",
       "      <th>3</th>\n",
       "      <td>CH007</td>\n",
       "      <td>EV014</td>\n",
       "      <td>42.008928</td>\n",
       "      <td>44.087380</td>\n",
       "      <td>EVSE</td>\n",
       "      <td>0.952856</td>\n",
       "    </tr>\n",
       "    <tr>\n",
       "      <th>4</th>\n",
       "      <td>CH007</td>\n",
       "      <td>EV040</td>\n",
       "      <td>36.983989</td>\n",
       "      <td>78.611688</td>\n",
       "      <td>EVSE</td>\n",
       "      <td>0.470464</td>\n",
       "    </tr>\n",
       "    <tr>\n",
       "      <th>...</th>\n",
       "      <td>...</td>\n",
       "      <td>...</td>\n",
       "      <td>...</td>\n",
       "      <td>...</td>\n",
       "      <td>...</td>\n",
       "      <td>...</td>\n",
       "    </tr>\n",
       "    <tr>\n",
       "      <th>14927</th>\n",
       "      <td>CH011</td>\n",
       "      <td>EV004</td>\n",
       "      <td>35.888976</td>\n",
       "      <td>55.782728</td>\n",
       "      <td>EVSE</td>\n",
       "      <td>0.643371</td>\n",
       "    </tr>\n",
       "    <tr>\n",
       "      <th>14929</th>\n",
       "      <td>CH011</td>\n",
       "      <td>EV034</td>\n",
       "      <td>28.151282</td>\n",
       "      <td>69.542996</td>\n",
       "      <td>EVSE</td>\n",
       "      <td>0.404804</td>\n",
       "    </tr>\n",
       "    <tr>\n",
       "      <th>14930</th>\n",
       "      <td>CH011</td>\n",
       "      <td>EV004</td>\n",
       "      <td>30.760124</td>\n",
       "      <td>103.829829</td>\n",
       "      <td>EVSE</td>\n",
       "      <td>0.296255</td>\n",
       "    </tr>\n",
       "    <tr>\n",
       "      <th>14931</th>\n",
       "      <td>CH011</td>\n",
       "      <td>EV004</td>\n",
       "      <td>16.423317</td>\n",
       "      <td>83.212476</td>\n",
       "      <td>EVSE</td>\n",
       "      <td>0.197366</td>\n",
       "    </tr>\n",
       "    <tr>\n",
       "      <th>14932</th>\n",
       "      <td>CH011</td>\n",
       "      <td>EV004</td>\n",
       "      <td>27.690663</td>\n",
       "      <td>58.349309</td>\n",
       "      <td>EVSE</td>\n",
       "      <td>0.474567</td>\n",
       "    </tr>\n",
       "  </tbody>\n",
       "</table>\n",
       "<p>5372 rows × 6 columns</p>\n",
       "</div>"
      ]
     },
     "execution_count": 81,
     "metadata": {},
     "output_type": "execute_result"
    }
   ],
   "execution_count": 81
  },
  {
   "metadata": {
    "ExecuteTime": {
     "end_time": "2025-04-12T12:34:18.630639Z",
     "start_time": "2025-04-12T12:34:18.623389Z"
    }
   },
   "cell_type": "code",
   "source": [
    "efficiency_stats = evse_df.groupby('Charger_ID')['Efficiency_kWh_per_min'].mean().sort_values(ascending=False)\n",
    "print(\" Most Efficient Chargers (kWh per minute):\\n\", efficiency_stats)\n"
   ],
   "id": "35875d81538f5661",
   "outputs": [
    {
     "name": "stdout",
     "output_type": "stream",
     "text": [
      " Most Efficient Chargers (kWh per minute):\n",
      " Charger_ID\n",
      "CH015    1.068202\n",
      "CH014    0.763291\n",
      "CH025    0.754830\n",
      "CH019    0.738562\n",
      "CH030    0.731557\n",
      "CH003    0.674593\n",
      "CH009    0.663639\n",
      "CH018    0.662371\n",
      "CH005    0.656024\n",
      "CH008    0.651331\n",
      "CH024    0.647156\n",
      "CH002    0.646895\n",
      "CH022    0.645222\n",
      "CH021    0.644496\n",
      "CH007    0.631772\n",
      "CH010    0.631445\n",
      "CH016    0.631372\n",
      "CH001    0.630903\n",
      "CH004    0.624729\n",
      "CH012    0.613906\n",
      "CH017    0.605228\n",
      "CH020    0.598936\n",
      "CH023    0.595881\n",
      "CH011    0.581707\n",
      "CH029    0.580099\n",
      "CH027    0.575068\n",
      "CH013    0.573689\n",
      "CH026    0.573119\n",
      "CH006    0.571912\n",
      "CH028   -0.923513\n",
      "Name: Efficiency_kWh_per_min, dtype: float64\n"
     ]
    }
   ],
   "execution_count": 85
  },
  {
   "metadata": {
    "ExecuteTime": {
     "end_time": "2025-04-12T12:26:03.186949Z",
     "start_time": "2025-04-12T12:26:03.171531Z"
    }
   },
   "cell_type": "code",
   "source": [
    "charger_performance = evse_df_cleaned.groupby('Charger_ID').agg(\n",
    "    session_count=('Charger_ID', 'count'),\n",
    "    avg_energy=('Energy_kWh', 'mean'),\n",
    "    avg_duration=('Duration_min', 'mean'),\n",
    "    avg_efficiency=('Efficiency_kWh_per_min', 'mean')\n",
    ")\n",
    "\n",
    "# Optional: Add a custom score\n",
    "charger_performance['performance_score'] = charger_performance['session_count'] * charger_performance['avg_efficiency']\n",
    "top_chargers = charger_performance.sort_values(by='performance_score', ascending=False).head(10)\n",
    "\n",
    "print(\"Top Chargers by Overall Performance Score:\\n\", top_chargers)\n"
   ],
   "id": "81d98bf94730bbb7",
   "outputs": [
    {
     "name": "stdout",
     "output_type": "stream",
     "text": [
      "Top Chargers by Overall Performance Score:\n",
      "             session_count  avg_energy  avg_duration  avg_efficiency  \\\n",
      "Charger_ID                                                            \n",
      "CH029                 391   29.503097     59.418562        0.576985   \n",
      "CH021                 276   29.936135     57.986768        0.602128   \n",
      "CH030                 256   30.175628     58.218682        0.592742   \n",
      "CH028                 257   29.872024     58.323210        0.577949   \n",
      "CH002                 252   30.098997     59.080216        0.586347   \n",
      "CH027                 242   29.515793     60.876935        0.545991   \n",
      "CH023                 234   29.536250     59.019356        0.559034   \n",
      "CH001                 232   30.133437     61.079324        0.561521   \n",
      "CH012                 233   28.837142     58.964970        0.556810   \n",
      "CH017                 224   30.362390     59.694523        0.578330   \n",
      "\n",
      "            performance_score  \n",
      "Charger_ID                     \n",
      "CH029              225.600963  \n",
      "CH021              166.187341  \n",
      "CH030              151.741881  \n",
      "CH028              148.532986  \n",
      "CH002              147.759331  \n",
      "CH027              132.129796  \n",
      "CH023              130.813841  \n",
      "CH001              130.272888  \n",
      "CH012              129.736820  \n",
      "CH017              129.545907  \n"
     ]
    }
   ],
   "execution_count": 83
  },
  {
   "metadata": {
    "ExecuteTime": {
     "end_time": "2025-04-12T13:11:53.893484Z",
     "start_time": "2025-04-12T13:11:53.528597Z"
    }
   },
   "cell_type": "code",
   "source": [
    "# Reset index so Charger_ID becomes a column\n",
    "top_chargers_reset = top_chargers.reset_index()\n",
    "\n",
    "# Melt the DataFrame to long format for seaborn\n",
    "melted_df = top_chargers_reset.melt(\n",
    "    id_vars='Charger_ID',\n",
    "    value_vars=['avg_energy', 'avg_efficiency', 'performance_score'],\n",
    "    var_name='Metric',\n",
    "    value_name='Value'\n",
    ")\n",
    "\n",
    "# Plot\n",
    "plt.figure(figsize=(14, 6))\n",
    "sns.barplot(data=melted_df, x='Charger_ID', y='Value', hue='Metric', palette='Set2')\n",
    "\n",
    "plt.title('Top 10 Chargers - Comparison of Performance Metrics')\n",
    "plt.xlabel('Charger ID')\n",
    "plt.ylabel('Value')\n",
    "plt.xticks(rotation=45)\n",
    "plt.legend(title='Metric')\n",
    "plt.tight_layout()\n",
    "plt.show()"
   ],
   "id": "90ff1b15fee85855",
   "outputs": [
    {
     "data": {
      "text/plain": [
       "<Figure size 1400x600 with 1 Axes>"
      ],
      "image/png": "[encoded data removed]"
     },
     "metadata": {},
     "output_type": "display_data"
    }
   ],
   "execution_count": 91
  },
  {
   "metadata": {
    "ExecuteTime": {
     "end_time": "2025-04-12T13:14:15.984313Z",
     "start_time": "2025-04-12T13:14:15.082159Z"
    }
   },
   "cell_type": "code",
   "source": [
    "from sklearn.preprocessing import MinMaxScaler\n",
    "import seaborn as sns\n",
    "import matplotlib.pyplot as plt\n",
    "\n",
    "# Reset index\n",
    "top_chargers_reset = top_chargers.reset_index()\n",
    "\n",
    "# Select the columns to normalize\n",
    "metrics_to_normalize = ['avg_energy', 'avg_efficiency', 'performance_score']\n",
    "\n",
    "# Apply Min-Max Scaling\n",
    "scaler = MinMaxScaler()\n",
    "top_chargers_reset[metrics_to_normalize] = scaler.fit_transform(top_chargers_reset[metrics_to_normalize])\n",
    "\n",
    "# Melt for seaborn plotting\n",
    "melted_df = top_chargers_reset.melt(\n",
    "    id_vars='Charger_ID',\n",
    "    value_vars=metrics_to_normalize,\n",
    "    var_name='Metric',\n",
    "    value_name='Normalized Value'\n",
    ")\n",
    "\n",
    "# Plot\n",
    "plt.figure(figsize=(14, 6))\n",
    "sns.barplot(data=melted_df, x='Charger_ID', y='Normalized Value', hue='Metric', palette='Set2')\n",
    "\n",
    "plt.title('Top 10 Chargers - Normalized Performance Metrics')\n",
    "plt.xlabel('Charger ID')\n",
    "plt.ylabel('Normalized Value (0–1)')\n",
    "plt.xticks(rotation=45)\n",
    "plt.legend(title='Metric')\n",
    "plt.tight_layout()\n",
    "plt.show()\n"
   ],
   "id": "f6d50a0823d8825f",
   "outputs": [
    {
     "data": {
      "text/plain": [
       "<Figure size 1400x600 with 1 Axes>"
      ],
      "image/png": "[encoded data removed]"
     },
     "metadata": {},
     "output_type": "display_data"
    }
   ],
   "execution_count": 92
  },
  {
   "metadata": {
    "ExecuteTime": {
     "end_time": "2025-04-12T13:15:01.360447Z",
     "start_time": "2025-04-12T13:14:59.919831Z"
    }
   },
   "cell_type": "code",
   "source": [
    "from sklearn.preprocessing import StandardScaler\n",
    "import seaborn as sns\n",
    "import matplotlib.pyplot as plt\n",
    "import pandas as pd\n",
    "\n",
    "# Reset index\n",
    "top_chargers_reset = top_chargers.reset_index()\n",
    "\n",
    "# Metrics to standardize\n",
    "metrics = ['avg_energy', 'avg_efficiency', 'performance_score']\n",
    "\n",
    "# Apply Z-score Standardization\n",
    "scaler = StandardScaler()\n",
    "top_chargers_reset[metrics] = scaler.fit_transform(top_chargers_reset[metrics])\n",
    "\n",
    "# Melt the DataFrame for seaborn\n",
    "melted_df = top_chargers_reset.melt(\n",
    "    id_vars='Charger_ID',\n",
    "    value_vars=metrics,\n",
    "    var_name='Metric',\n",
    "    value_name='Standardized Value'\n",
    ")\n",
    "\n",
    "# Plot\n",
    "plt.figure(figsize=(14, 6))\n",
    "ax = sns.barplot(data=melted_df, x='Charger_ID', y='Standardized Value', hue='Metric', palette='Set2')\n",
    "\n",
    "# Add annotations\n",
    "for container in ax.containers:\n",
    "    ax.bar_label(container, fmt='%.2f', label_type='edge', padding=2)\n",
    "\n",
    "plt.title('Top 10 Chargers - Standardized Performance Metrics (Z-score)')\n",
    "plt.xlabel('Charger ID')\n",
    "plt.ylabel('Z-score')\n",
    "plt.xticks(rotation=45)\n",
    "plt.legend(title='Metric')\n",
    "plt.tight_layout()\n",
    "\n",
    "# Export plot as image\n",
    "plt.savefig('top_chargers_standardized.png', dpi=300)\n",
    "plt.show()\n"
   ],
   "id": "4a71109c3911ca8e",
   "outputs": [
    {
     "data": {
      "text/plain": [
       "<Figure size 1400x600 with 1 Axes>"
      ],
      "image/png": "[encoded data removed]"
     },
     "metadata": {},
     "output_type": "display_data"
    }
   ],
   "execution_count": 93
  },
  {
   "metadata": {},
   "cell_type": "code",
   "outputs": [
    {
     "name": "stdout",
     "output_type": "stream",
     "text": [
      "Number of unique vehicles charged with CH029: 24\n"
     ]
    }
   ],
   "execution_count": 43,
   "source": [
    "\n",
    "# Filter for rows where the charger is CH029\n",
    "ch029_df = evse_df_cleaned[evse_df_cleaned['Charger_ID'] == 'CH029']\n",
    "\n",
    "# Count unique vehicles that used CH029\n",
    "unique_vehicles_ch029 = ch029_df['Vehicle_ID'].nunique()\n",
    "\n",
    "print(f\"Number of unique vehicles charged with CH029: {unique_vehicles_ch029}\")\n",
    "\n"
   ],
   "id": "7513d19395b58f84"
  },
  {
   "metadata": {
    "ExecuteTime": {
     "end_time": "2025-04-12T12:38:09.820833Z",
     "start_time": "2025-04-12T12:38:09.813894Z"
    }
   },
   "cell_type": "code",
   "source": [
    "vehicle_usage_ch029 = ch029_df['Vehicle_ID'].value_counts()\n",
    "print(\"Vehicle usage with CH029:\\n\", vehicle_usage_ch029)\n"
   ],
   "id": "959b8a54f3a1998b",
   "outputs": [
    {
     "name": "stdout",
     "output_type": "stream",
     "text": [
      "Vehicle usage with CH029:\n",
      " Vehicle_ID\n",
      "EV038    46\n",
      "EV006    42\n",
      "EV022    36\n",
      "EV042    27\n",
      "EV041    23\n",
      "EV007    22\n",
      "EV037    22\n",
      "EV023    21\n",
      "EV008    18\n",
      "EV003    17\n",
      "EV046    16\n",
      "EV049    16\n",
      "EV005    14\n",
      "EV040    14\n",
      "EV033    14\n",
      "EV029    11\n",
      "EV035     8\n",
      "EV011     8\n",
      "EV039     7\n",
      "EV014     7\n",
      "EV045     6\n",
      "EV021     5\n",
      "EV002     3\n",
      "EV013     1\n",
      "Name: count, dtype: int64\n"
     ]
    }
   ],
   "execution_count": 89
  },
  {
   "metadata": {
    "ExecuteTime": {
     "end_time": "2025-04-12T11:50:40.836185Z",
     "start_time": "2025-04-12T11:50:40.631077Z"
    }
   },
   "cell_type": "code",
   "source": [
    "\n",
    "import matplotlib.pyplot as plt\n",
    "\n",
    "vehicle_usage_ch029.head(10).plot(kind='bar', color='purple', figsize=(10,5))\n",
    "plt.title('Top Vehicles Charging with CH029')\n",
    "plt.xlabel('Vehicle ID')\n",
    "plt.ylabel('Charging Sessions')\n",
    "plt.xticks(rotation=45)\n",
    "plt.grid(True)\n",
    "plt.tight_layout()\n",
    "plt.show()\n"
   ],
   "id": "d0a3a15ee244149e",
   "outputs": [
    {
     "data": {
      "text/plain": [
       "<Figure size 1000x500 with 1 Axes>"
      ],
      "image/png": "[encoded data removed]"
     },
     "metadata": {},
     "output_type": "display_data"
    }
   ],
   "execution_count": 45
  },
  {
   "metadata": {
    "ExecuteTime": {
     "end_time": "2025-04-12T12:37:21.571511Z",
     "start_time": "2025-04-12T12:37:21.565067Z"
    }
   },
   "cell_type": "code",
   "source": [
    "# Filter for rows where the charger is CH029\n",
    "ch015_df = evse_df_cleaned[evse_df_cleaned['Charger_ID'] == 'CH015']\n",
    "\n",
    "# Count unique vehicles that used CH029\n",
    "unique_vehicles_ch015 = ch015_df['Vehicle_ID'].nunique()\n",
    "\n",
    "print(f\"Number of unique vehicles charged with CH015: {unique_vehicles_ch015}\")"
   ],
   "id": "4eab9acefe51de4c",
   "outputs": [
    {
     "name": "stdout",
     "output_type": "stream",
     "text": [
      "Number of unique vehicles charged with CH015: 15\n"
     ]
    }
   ],
   "execution_count": 87
  },
  {
   "metadata": {
    "ExecuteTime": {
     "end_time": "2025-04-12T12:37:44.081751Z",
     "start_time": "2025-04-12T12:37:44.076054Z"
    }
   },
   "cell_type": "code",
   "source": [
    "vehicle_usage_ch015 = ch015_df['Vehicle_ID'].value_counts()\n",
    "print(\"Vehicle usage with CH029:\\n\", vehicle_usage_ch015)"
   ],
   "id": "ab664774cd2af16e",
   "outputs": [
    {
     "name": "stdout",
     "output_type": "stream",
     "text": [
      "Vehicle usage with CH029:\n",
      " Vehicle_ID\n",
      "EV019    26\n",
      "EV029    21\n",
      "EV023    15\n",
      "EV006    14\n",
      "EV012    13\n",
      "EV038    12\n",
      "EV004    12\n",
      "EV010     9\n",
      "EV002     8\n",
      "EV014     8\n",
      "EV011     5\n",
      "EV020     5\n",
      "EV027     5\n",
      "EV049     1\n",
      "EV021     1\n",
      "Name: count, dtype: int64\n"
     ]
    }
   ],
   "execution_count": 88
  },
  {
   "metadata": {
    "ExecuteTime": {
     "end_time": "2025-04-12T12:38:58.774394Z",
     "start_time": "2025-04-12T12:38:58.586827Z"
    }
   },
   "cell_type": "code",
   "source": [
    "import matplotlib.pyplot as plt\n",
    "\n",
    "vehicle_usage_ch015.head(10).plot(kind='bar', color='purple', figsize=(10,5))\n",
    "plt.title('Top Vehicles Charging with CH015')\n",
    "plt.xlabel('Vehicle ID')\n",
    "plt.ylabel('Charging Sessions')\n",
    "plt.xticks(rotation=45)\n",
    "plt.grid(True)\n",
    "plt.tight_layout()\n",
    "plt.show()"
   ],
   "id": "328dda1c21a13777",
   "outputs": [
    {
     "data": {
      "text/plain": [
       "<Figure size 1000x500 with 1 Axes>"
      ],
      "image/png": "[encoded data removed]"
     },
     "metadata": {},
     "output_type": "display_data"
    }
   ],
   "execution_count": 90
  },
  {
   "metadata": {},
   "cell_type": "code",
   "outputs": [],
   "execution_count": null,
   "source": "",
   "id": "f2024b69c6334b05"
  }
 ],
 "metadata": {
  "kernelspec": {
   "display_name": "Python 3",
   "language": "python",
   "name": "python3"
  },
  "language_info": {
   "codemirror_mode": {
    "name": "ipython",
    "version": 2
   },
   "file_extension": ".py",
   "mimetype": "text/x-python",
   "name": "python",
   "nbconvert_exporter": "python",
   "pygments_lexer": "ipython2",
   "version": "2.7.6"
  }
 },
 "nbformat": 4,
 "nbformat_minor": 5
}
