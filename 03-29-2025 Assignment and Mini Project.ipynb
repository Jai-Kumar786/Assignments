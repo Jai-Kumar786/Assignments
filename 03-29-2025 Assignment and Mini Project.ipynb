{
 "cells": [
  {
   "metadata": {},
   "cell_type": "markdown",
   "source": "# Exercise 1: Creating Different Types of NumPy Arrays\n",
   "id": "3fb5bed9ea16fbae"
  },
  {
   "metadata": {
    "ExecuteTime": {
     "end_time": "2025-03-29T17:22:11.552772Z",
     "start_time": "2025-03-29T17:22:11.544911Z"
    }
   },
   "cell_type": "code",
   "source": [
    "# Create a 1D, 2D, and 3D array\n",
    "import numpy as np\n",
    "print(\"#############################1-dimensional\")\n",
    "np_1d=np.arange(1,9)\n",
    "print(np_1d)\n",
    "print(\"#############################2-dimensional\")\n",
    "np_2d=np.arange(2*2).reshape(2,2)\n",
    "print(np_2d)\n",
    "print(\"#############################3-dimensional\")\n",
    "np_3d=np.arange(3*3*3).reshape(3,3,3)\n",
    "print(np_3d)"
   ],
   "id": "4c42cb850507d95f",
   "outputs": [
    {
     "name": "stdout",
     "output_type": "stream",
     "text": [
      "#############################1-dimensional\n",
      "[1 2 3 4 5 6 7 8]\n",
      "#############################2-dimensional\n",
      "[[0 1]\n",
      " [2 3]]\n",
      "#############################3-dimensional\n",
      "[[[ 0  1  2]\n",
      "  [ 3  4  5]\n",
      "  [ 6  7  8]]\n",
      "\n",
      " [[ 9 10 11]\n",
      "  [12 13 14]\n",
      "  [15 16 17]]\n",
      "\n",
      " [[18 19 20]\n",
      "  [21 22 23]\n",
      "  [24 25 26]]]\n"
     ]
    }
   ],
   "execution_count": 9
  },
  {
   "metadata": {
    "ExecuteTime": {
     "end_time": "2025-03-29T17:24:21.914958Z",
     "start_time": "2025-03-29T17:24:21.905925Z"
    }
   },
   "cell_type": "code",
   "source": [
    "# Generate a 5x5 matrix of ones\n",
    "print(\"#############################5x5 matrix of ones\")\n",
    "np_ones=np.ones((5,5))\n",
    "print(np_ones)\n"
   ],
   "id": "a90a8fdbfd6a8219",
   "outputs": [
    {
     "name": "stdout",
     "output_type": "stream",
     "text": [
      "#############################5x5 matrix of ones\n",
      "[[1. 1. 1. 1. 1.]\n",
      " [1. 1. 1. 1. 1.]\n",
      " [1. 1. 1. 1. 1.]\n",
      " [1. 1. 1. 1. 1.]\n",
      " [1. 1. 1. 1. 1.]]\n"
     ]
    }
   ],
   "execution_count": 10
  },
  {
   "metadata": {
    "ExecuteTime": {
     "end_time": "2025-03-29T17:26:01.275458Z",
     "start_time": "2025-03-29T17:26:01.269914Z"
    }
   },
   "cell_type": "code",
   "source": [
    "#Create an array with values from 0 to 20 with a step of 2\n",
    "np_0_to_20=np.arange(0,21,2)\n",
    "print(\"#############################Array from 0 to 20 with step 2\")\n",
    "print(np_0_to_20)"
   ],
   "id": "79bde8685b11e2f",
   "outputs": [
    {
     "name": "stdout",
     "output_type": "stream",
     "text": [
      "#############################Array from 0 to 20 with step 2\n",
      "[ 0  2  4  6  8 10 12 14 16 18 20]\n"
     ]
    }
   ],
   "execution_count": 11
  },
  {
   "metadata": {},
   "cell_type": "markdown",
   "source": "# Exercise 2: Understanding Array Properties\n",
   "id": "2aaa3adcf7de0b88"
  },
  {
   "metadata": {
    "ExecuteTime": {
     "end_time": "2025-03-29T17:31:11.402221Z",
     "start_time": "2025-03-29T17:31:11.396994Z"
    }
   },
   "cell_type": "code",
   "source": [
    "# Print shape, size, and dtype of a given array\n",
    "print(\"Shape of Array\",np_3d.shape)\n",
    "print(\"Size of Array\",np_3d.size)\n",
    "print(\"Dtype of Array\",np_3d.dtype)"
   ],
   "id": "341c229d42dfb049",
   "outputs": [
    {
     "name": "stdout",
     "output_type": "stream",
     "text": [
      "Shape of Array (3, 3, 3)\n",
      "Size of Array 27\n",
      "Dtype of Array int32\n"
     ]
    }
   ],
   "execution_count": 14
  },
  {
   "metadata": {
    "ExecuteTime": {
     "end_time": "2025-03-29T17:31:46.386306Z",
     "start_time": "2025-03-29T17:31:46.380789Z"
    }
   },
   "cell_type": "code",
   "source": [
    "#Convert data type of an array from int to float\n",
    "np_float=np_3d.astype(float)\n",
    "print(\"#############################Converted Array\")\n",
    "print(np_float)"
   ],
   "id": "acb313b54ab0bcd2",
   "outputs": [
    {
     "name": "stdout",
     "output_type": "stream",
     "text": [
      "#############################Converted Array\n",
      "[[[ 0.  1.  2.]\n",
      "  [ 3.  4.  5.]\n",
      "  [ 6.  7.  8.]]\n",
      "\n",
      " [[ 9. 10. 11.]\n",
      "  [12. 13. 14.]\n",
      "  [15. 16. 17.]]\n",
      "\n",
      " [[18. 19. 20.]\n",
      "  [21. 22. 23.]\n",
      "  [24. 25. 26.]]]\n"
     ]
    }
   ],
   "execution_count": 15
  },
  {
   "metadata": {},
   "cell_type": "markdown",
   "source": "# Exercise 1: Create two NumPy arrays of shape (3,3), fill them with random values, and perform element-wise addition, subtraction, multiplication, and division.\n",
   "id": "f5d0a36d3338da78"
  },
  {
   "metadata": {
    "ExecuteTime": {
     "end_time": "2025-03-29T17:39:07.355307Z",
     "start_time": "2025-03-29T17:39:07.348257Z"
    }
   },
   "cell_type": "code",
   "source": [
    "np_mat_1=np.arange(4,13).reshape(3,3)\n",
    "np_mat_1"
   ],
   "id": "1b5dee16a15df492",
   "outputs": [
    {
     "data": {
      "text/plain": [
       "array([[ 4,  5,  6],\n",
       "       [ 7,  8,  9],\n",
       "       [10, 11, 12]])"
      ]
     },
     "execution_count": 16,
     "metadata": {},
     "output_type": "execute_result"
    }
   ],
   "execution_count": 16
  },
  {
   "metadata": {
    "ExecuteTime": {
     "end_time": "2025-03-29T17:39:58.165464Z",
     "start_time": "2025-03-29T17:39:58.158272Z"
    }
   },
   "cell_type": "code",
   "source": [
    "np_mat_2=np.arange(14,23).reshape(3,3)\n",
    "np_mat_2"
   ],
   "id": "bd147b0a0730feb2",
   "outputs": [
    {
     "data": {
      "text/plain": [
       "array([[14, 15, 16],\n",
       "       [17, 18, 19],\n",
       "       [20, 21, 22]])"
      ]
     },
     "execution_count": 17,
     "metadata": {},
     "output_type": "execute_result"
    }
   ],
   "execution_count": 17
  },
  {
   "metadata": {
    "ExecuteTime": {
     "end_time": "2025-03-29T17:41:07.989753Z",
     "start_time": "2025-03-29T17:41:07.982987Z"
    }
   },
   "cell_type": "code",
   "source": [
    "# Addition\n",
    "np_add=np_mat_1+np_mat_2\n",
    "np_add"
   ],
   "id": "2ab63f38ffefc125",
   "outputs": [
    {
     "data": {
      "text/plain": [
       "array([[18, 20, 22],\n",
       "       [24, 26, 28],\n",
       "       [30, 32, 34]])"
      ]
     },
     "execution_count": 18,
     "metadata": {},
     "output_type": "execute_result"
    }
   ],
   "execution_count": 18
  },
  {
   "metadata": {
    "ExecuteTime": {
     "end_time": "2025-03-29T17:42:20.157218Z",
     "start_time": "2025-03-29T17:42:20.149189Z"
    }
   },
   "cell_type": "code",
   "source": [
    "# Subtract\n",
    "np_sub=np_mat_2-np_mat_1\n",
    "np_sub"
   ],
   "id": "58aaf289d5603998",
   "outputs": [
    {
     "data": {
      "text/plain": [
       "array([[10, 10, 10],\n",
       "       [10, 10, 10],\n",
       "       [10, 10, 10]])"
      ]
     },
     "execution_count": 19,
     "metadata": {},
     "output_type": "execute_result"
    }
   ],
   "execution_count": 19
  },
  {
   "metadata": {
    "ExecuteTime": {
     "end_time": "2025-03-29T17:43:03.041448Z",
     "start_time": "2025-03-29T17:43:03.033699Z"
    }
   },
   "cell_type": "code",
   "source": [
    "#Multiplication\n",
    "np_mul=np_mat_1*np_mat_2\n",
    "np_mul"
   ],
   "id": "615af1f9458a8774",
   "outputs": [
    {
     "data": {
      "text/plain": [
       "array([[ 56,  75,  96],\n",
       "       [119, 144, 171],\n",
       "       [200, 231, 264]])"
      ]
     },
     "execution_count": 20,
     "metadata": {},
     "output_type": "execute_result"
    }
   ],
   "execution_count": 20
  },
  {
   "metadata": {
    "ExecuteTime": {
     "end_time": "2025-03-29T17:44:15.030601Z",
     "start_time": "2025-03-29T17:44:15.024055Z"
    }
   },
   "cell_type": "code",
   "source": [
    "#Division\n",
    "np_div=np_mat_2/np_mat_1\n",
    "np_div.astype(int)"
   ],
   "id": "3921e9d5123b9291",
   "outputs": [
    {
     "data": {
      "text/plain": [
       "array([[3, 3, 2],\n",
       "       [2, 2, 2],\n",
       "       [2, 1, 1]])"
      ]
     },
     "execution_count": 22,
     "metadata": {},
     "output_type": "execute_result"
    }
   ],
   "execution_count": 22
  },
  {
   "metadata": {},
   "cell_type": "markdown",
   "source": "# Exercise 2: Demonstrate broadcasting by adding a 1D array [1, 2, 3] to a 3x3 matrix.\n",
   "id": "d1d0366abc4ca3c7"
  },
  {
   "metadata": {
    "ExecuteTime": {
     "end_time": "2025-03-29T17:46:42.447344Z",
     "start_time": "2025-03-29T17:46:42.442444Z"
    }
   },
   "cell_type": "code",
   "source": "print(np_mat_1)",
   "id": "953b016c2beaa47",
   "outputs": [
    {
     "name": "stdout",
     "output_type": "stream",
     "text": [
      "[[ 4  5  6]\n",
      " [ 7  8  9]\n",
      " [10 11 12]]\n"
     ]
    }
   ],
   "execution_count": 24
  },
  {
   "metadata": {
    "ExecuteTime": {
     "end_time": "2025-03-29T17:55:01.498971Z",
     "start_time": "2025-03-29T17:55:01.493210Z"
    }
   },
   "cell_type": "code",
   "source": [
    "np_broadcast=np_mat_1+np.array([1,2,3])\n",
    "print(np_broadcast)"
   ],
   "id": "a39d3972948cab1",
   "outputs": [
    {
     "name": "stdout",
     "output_type": "stream",
     "text": [
      "[[ 5  7  9]\n",
      " [ 8 10 12]\n",
      " [11 13 15]]\n"
     ]
    }
   ],
   "execution_count": 31
  },
  {
   "metadata": {},
   "cell_type": "markdown",
   "source": "# Exercise 3: Compute the dot product of two vectors and multiply two 2x2 matrices.\n",
   "id": "e39ed9995343bef7"
  },
  {
   "metadata": {
    "ExecuteTime": {
     "end_time": "2025-03-29T17:56:53.488074Z",
     "start_time": "2025-03-29T17:56:53.480023Z"
    }
   },
   "cell_type": "code",
   "source": [
    "np_v1=np.array([4,5,6])\n",
    "np_v2=np.array([7,8,9])\n",
    "# Dot product\n",
    "np_dot=np.dot(np_v1,np_v2)\n",
    "np_dot # 28+40+54=122"
   ],
   "id": "e18c89d256a42f9c",
   "outputs": [
    {
     "data": {
      "text/plain": [
       "122"
      ]
     },
     "execution_count": 32,
     "metadata": {},
     "output_type": "execute_result"
    }
   ],
   "execution_count": 32
  },
  {
   "metadata": {
    "ExecuteTime": {
     "end_time": "2025-03-29T18:00:03.648600Z",
     "start_time": "2025-03-29T18:00:03.639624Z"
    }
   },
   "cell_type": "code",
   "source": [
    "np_mat_3=np.arange(1,5).reshape(2,2)\n",
    "np_mat_4=np.arange(5,9).reshape(2,2)\n",
    "# Dot product\n",
    "print(np_mat_3)\n",
    "print(np_mat_4)\n",
    "np_dot_mat=np.dot(np_mat_3,np_mat_4)\n",
    "print(np_dot_mat)"
   ],
   "id": "538601b505150bc1",
   "outputs": [
    {
     "name": "stdout",
     "output_type": "stream",
     "text": [
      "[[1 2]\n",
      " [3 4]]\n",
      "[[5 6]\n",
      " [7 8]]\n"
     ]
    },
    {
     "data": {
      "text/plain": [
       "array([[19, 22],\n",
       "       [43, 50]])"
      ]
     },
     "execution_count": 35,
     "metadata": {},
     "output_type": "execute_result"
    }
   ],
   "execution_count": 35
  },
  {
   "metadata": {},
   "cell_type": "markdown",
   "source": "# Exercise 1: Create a 5x5 NumPy array with values ranging from 1 to 25.\n",
   "id": "1056c42a938e683b"
  },
  {
   "metadata": {
    "ExecuteTime": {
     "end_time": "2025-03-29T18:24:11.835452Z",
     "start_time": "2025-03-29T18:24:11.829029Z"
    }
   },
   "cell_type": "code",
   "source": [
    "np_mat_5=np.arange(1,26).reshape(5,5)\n",
    "print(np_mat_5)"
   ],
   "id": "bcaa7e3bedc247e3",
   "outputs": [
    {
     "name": "stdout",
     "output_type": "stream",
     "text": [
      "[[ 1  2  3  4  5]\n",
      " [ 6  7  8  9 10]\n",
      " [11 12 13 14 15]\n",
      " [16 17 18 19 20]\n",
      " [21 22 23 24 25]]\n"
     ]
    }
   ],
   "execution_count": 36
  },
  {
   "metadata": {},
   "cell_type": "markdown",
   "source": "# Exercise 2: Extract the middle row and middle column",
   "id": "403246f9c389acb7"
  },
  {
   "metadata": {
    "ExecuteTime": {
     "end_time": "2025-03-29T18:38:22.624968Z",
     "start_time": "2025-03-29T18:38:22.619357Z"
    }
   },
   "cell_type": "code",
   "source": [
    "np_mat_middle_row=np_mat_5[2]\n",
    "print(np_mat_middle_row)"
   ],
   "id": "83e7c7a044409c15",
   "outputs": [
    {
     "name": "stdout",
     "output_type": "stream",
     "text": [
      "[11 12 13 14 15]\n"
     ]
    }
   ],
   "execution_count": 50
  },
  {
   "metadata": {
    "ExecuteTime": {
     "end_time": "2025-03-29T18:39:25.290727Z",
     "start_time": "2025-03-29T18:39:25.285280Z"
    }
   },
   "cell_type": "code",
   "source": [
    "np_mat_middle_column=np_mat_5[:,2]\n",
    "for middle_column in np_mat_middle_column:\n",
    "    print(middle_column)"
   ],
   "id": "ccfaa84eaf1bdb",
   "outputs": [
    {
     "name": "stdout",
     "output_type": "stream",
     "text": [
      "3\n",
      "8\n",
      "13\n",
      "18\n",
      "23\n"
     ]
    }
   ],
   "execution_count": 53
  },
  {
   "metadata": {},
   "cell_type": "markdown",
   "source": "# Exercise 3: Select all even numbers from the array using masking.\n",
   "id": "ef8cb6d0e5235097"
  },
  {
   "metadata": {
    "ExecuteTime": {
     "end_time": "2025-03-29T18:41:16.430135Z",
     "start_time": "2025-03-29T18:41:16.424084Z"
    }
   },
   "cell_type": "code",
   "source": "mask=(np_mat_5 % 2==0)",
   "id": "88e72f76a550b0e8",
   "outputs": [],
   "execution_count": 54
  },
  {
   "metadata": {
    "ExecuteTime": {
     "end_time": "2025-03-29T18:41:55.907134Z",
     "start_time": "2025-03-29T18:41:55.900999Z"
    }
   },
   "cell_type": "code",
   "source": [
    "even_mat=np_mat_5[mask]\n",
    "even_mat"
   ],
   "id": "6cdecc1d155954af",
   "outputs": [
    {
     "data": {
      "text/plain": [
       "array([ 2,  4,  6,  8, 10, 12, 14, 16, 18, 20, 22, 24])"
      ]
     },
     "execution_count": 55,
     "metadata": {},
     "output_type": "execute_result"
    }
   ],
   "execution_count": 55
  },
  {
   "metadata": {
    "ExecuteTime": {
     "end_time": "2025-03-29T18:44:06.949754Z",
     "start_time": "2025-03-29T18:44:06.944816Z"
    }
   },
   "cell_type": "code",
   "source": [
    "np_mat_5[mask]=0\n",
    "print(np_mat_5)"
   ],
   "id": "bf6628a28e904e82",
   "outputs": [
    {
     "name": "stdout",
     "output_type": "stream",
     "text": [
      "[[ 1  0  3  0  5]\n",
      " [ 0  7  0  9  0]\n",
      " [11  0 13  0 15]\n",
      " [ 0 17  0 19  0]\n",
      " [21  0 23  0 25]]\n"
     ]
    }
   ],
   "execution_count": 57
  },
  {
   "metadata": {},
   "cell_type": "markdown",
   "source": [
    "# Module 5: \n",
    "# Exercise 1: Load the dataset employees.csv.\n"
   ],
   "id": "701cf26f1e0ceb72"
  },
  {
   "metadata": {
    "ExecuteTime": {
     "end_time": "2025-03-29T18:52:14.927623Z",
     "start_time": "2025-03-29T18:52:14.910175Z"
    }
   },
   "cell_type": "code",
   "source": [
    "import pandas as pd \n",
    "df=pd.read_csv('employees.csv')\n",
    "df"
   ],
   "id": "caace289f9d0b1c9",
   "outputs": [
    {
     "data": {
      "text/plain": [
       "    Employee_ID           Name Department  Salary   Age\n",
       "0             1     Bob Wilson  Marketing   82251  45.0\n",
       "1             2     Jane Brown      Sales   52662  36.0\n",
       "2             3    Emma Miller    Finance   38392  53.0\n",
       "3             4    John Miller      Sales   60535  53.0\n",
       "4             5     Emma Davis      Sales   43067   NaN\n",
       "..          ...            ...        ...     ...   ...\n",
       "95           96    Grace Davis    Finance   83565  25.0\n",
       "96           97    Alice Jones      Sales   33748  54.0\n",
       "97           98    Grace Smith         HR   61968   NaN\n",
       "98           99     Jane Brown         HR   62562  42.0\n",
       "99          100  Charlie Brown         IT   43545  41.0\n",
       "\n",
       "[100 rows x 5 columns]"
      ],
      "text/html": [
       "<div>\n",
       "<style scoped>\n",
       "    .dataframe tbody tr th:only-of-type {\n",
       "        vertical-align: middle;\n",
       "    }\n",
       "\n",
       "    .dataframe tbody tr th {\n",
       "        vertical-align: top;\n",
       "    }\n",
       "\n",
       "    .dataframe thead th {\n",
       "        text-align: right;\n",
       "    }\n",
       "</style>\n",
       "<table border=\"1\" class=\"dataframe\">\n",
       "  <thead>\n",
       "    <tr style=\"text-align: right;\">\n",
       "      <th></th>\n",
       "      <th>Employee_ID</th>\n",
       "      <th>Name</th>\n",
       "      <th>Department</th>\n",
       "      <th>Salary</th>\n",
       "      <th>Age</th>\n",
       "    </tr>\n",
       "  </thead>\n",
       "  <tbody>\n",
       "    <tr>\n",
       "      <th>0</th>\n",
       "      <td>1</td>\n",
       "      <td>Bob Wilson</td>\n",
       "      <td>Marketing</td>\n",
       "      <td>82251</td>\n",
       "      <td>45.0</td>\n",
       "    </tr>\n",
       "    <tr>\n",
       "      <th>1</th>\n",
       "      <td>2</td>\n",
       "      <td>Jane Brown</td>\n",
       "      <td>Sales</td>\n",
       "      <td>52662</td>\n",
       "      <td>36.0</td>\n",
       "    </tr>\n",
       "    <tr>\n",
       "      <th>2</th>\n",
       "      <td>3</td>\n",
       "      <td>Emma Miller</td>\n",
       "      <td>Finance</td>\n",
       "      <td>38392</td>\n",
       "      <td>53.0</td>\n",
       "    </tr>\n",
       "    <tr>\n",
       "      <th>3</th>\n",
       "      <td>4</td>\n",
       "      <td>John Miller</td>\n",
       "      <td>Sales</td>\n",
       "      <td>60535</td>\n",
       "      <td>53.0</td>\n",
       "    </tr>\n",
       "    <tr>\n",
       "      <th>4</th>\n",
       "      <td>5</td>\n",
       "      <td>Emma Davis</td>\n",
       "      <td>Sales</td>\n",
       "      <td>43067</td>\n",
       "      <td>NaN</td>\n",
       "    </tr>\n",
       "    <tr>\n",
       "      <th>...</th>\n",
       "      <td>...</td>\n",
       "      <td>...</td>\n",
       "      <td>...</td>\n",
       "      <td>...</td>\n",
       "      <td>...</td>\n",
       "    </tr>\n",
       "    <tr>\n",
       "      <th>95</th>\n",
       "      <td>96</td>\n",
       "      <td>Grace Davis</td>\n",
       "      <td>Finance</td>\n",
       "      <td>83565</td>\n",
       "      <td>25.0</td>\n",
       "    </tr>\n",
       "    <tr>\n",
       "      <th>96</th>\n",
       "      <td>97</td>\n",
       "      <td>Alice Jones</td>\n",
       "      <td>Sales</td>\n",
       "      <td>33748</td>\n",
       "      <td>54.0</td>\n",
       "    </tr>\n",
       "    <tr>\n",
       "      <th>97</th>\n",
       "      <td>98</td>\n",
       "      <td>Grace Smith</td>\n",
       "      <td>HR</td>\n",
       "      <td>61968</td>\n",
       "      <td>NaN</td>\n",
       "    </tr>\n",
       "    <tr>\n",
       "      <th>98</th>\n",
       "      <td>99</td>\n",
       "      <td>Jane Brown</td>\n",
       "      <td>HR</td>\n",
       "      <td>62562</td>\n",
       "      <td>42.0</td>\n",
       "    </tr>\n",
       "    <tr>\n",
       "      <th>99</th>\n",
       "      <td>100</td>\n",
       "      <td>Charlie Brown</td>\n",
       "      <td>IT</td>\n",
       "      <td>43545</td>\n",
       "      <td>41.0</td>\n",
       "    </tr>\n",
       "  </tbody>\n",
       "</table>\n",
       "<p>100 rows × 5 columns</p>\n",
       "</div>"
      ]
     },
     "execution_count": 59,
     "metadata": {},
     "output_type": "execute_result"
    }
   ],
   "execution_count": 59
  },
  {
   "metadata": {},
   "cell_type": "markdown",
   "source": "# Exercise2: Select only employees with a salary greater than 50,000",
   "id": "16bc503889689315"
  },
  {
   "metadata": {
    "ExecuteTime": {
     "end_time": "2025-03-29T18:55:18.458637Z",
     "start_time": "2025-03-29T18:55:18.447325Z"
    }
   },
   "cell_type": "code",
   "source": [
    "high_salary_employees = df[df[\"Salary\"] > 50000]\n",
    "print(high_salary_employees)\n",
    "print(high_salary_employees.count())"
   ],
   "id": "b75e5ec978b35bd4",
   "outputs": [
    {
     "name": "stdout",
     "output_type": "stream",
     "text": [
      "    Employee_ID           Name Department  Salary   Age\n",
      "0             1     Bob Wilson  Marketing   82251  45.0\n",
      "1             2     Jane Brown      Sales   52662  36.0\n",
      "3             4    John Miller      Sales   60535  53.0\n",
      "5             6    Grace Jones         HR   78033  33.0\n",
      "6             7    John Wilson    Finance   82256  23.0\n",
      "..          ...            ...        ...     ...   ...\n",
      "92           93    Emma Miller    Finance   51959   NaN\n",
      "94           95  David Johnson         IT   59320  54.0\n",
      "95           96    Grace Davis    Finance   83565  25.0\n",
      "97           98    Grace Smith         HR   61968   NaN\n",
      "98           99     Jane Brown         HR   62562  42.0\n",
      "\n",
      "[71 rows x 5 columns]\n",
      "Employee_ID    71\n",
      "Name           71\n",
      "Department     71\n",
      "Salary         71\n",
      "Age            65\n",
      "dtype: int64\n"
     ]
    }
   ],
   "execution_count": 62
  },
  {
   "metadata": {},
   "cell_type": "markdown",
   "source": "# Exercise3: Fill missing values in the Age column with the column median.\n",
   "id": "d99a5b366ba130dc"
  },
  {
   "metadata": {
    "ExecuteTime": {
     "end_time": "2025-03-29T18:58:29.805350Z",
     "start_time": "2025-03-29T18:58:29.793023Z"
    }
   },
   "cell_type": "code",
   "source": [
    "missing_age=df[df[\"Age\"].isna()]\n",
    "missing_age"
   ],
   "id": "599878b111615c75",
   "outputs": [
    {
     "data": {
      "text/plain": [
       "    Employee_ID            Name Department  Salary  Age\n",
       "4             5      Emma Davis      Sales   43067  NaN\n",
       "9            10   Emma Williams      Sales   41837  NaN\n",
       "10           11    Emma Johnson  Marketing   44039  NaN\n",
       "14           15     Grace Brown  Marketing   40965  NaN\n",
       "33           34   Emma Williams         IT   51518  NaN\n",
       "42           43  Frank Williams  Marketing   86560  NaN\n",
       "55           56     Grace Jones         IT   63827  NaN\n",
       "65           66    Hannah Brown  Marketing   79080  NaN\n",
       "92           93     Emma Miller    Finance   51959  NaN\n",
       "97           98     Grace Smith         HR   61968  NaN"
      ],
      "text/html": [
       "<div>\n",
       "<style scoped>\n",
       "    .dataframe tbody tr th:only-of-type {\n",
       "        vertical-align: middle;\n",
       "    }\n",
       "\n",
       "    .dataframe tbody tr th {\n",
       "        vertical-align: top;\n",
       "    }\n",
       "\n",
       "    .dataframe thead th {\n",
       "        text-align: right;\n",
       "    }\n",
       "</style>\n",
       "<table border=\"1\" class=\"dataframe\">\n",
       "  <thead>\n",
       "    <tr style=\"text-align: right;\">\n",
       "      <th></th>\n",
       "      <th>Employee_ID</th>\n",
       "      <th>Name</th>\n",
       "      <th>Department</th>\n",
       "      <th>Salary</th>\n",
       "      <th>Age</th>\n",
       "    </tr>\n",
       "  </thead>\n",
       "  <tbody>\n",
       "    <tr>\n",
       "      <th>4</th>\n",
       "      <td>5</td>\n",
       "      <td>Emma Davis</td>\n",
       "      <td>Sales</td>\n",
       "      <td>43067</td>\n",
       "      <td>NaN</td>\n",
       "    </tr>\n",
       "    <tr>\n",
       "      <th>9</th>\n",
       "      <td>10</td>\n",
       "      <td>Emma Williams</td>\n",
       "      <td>Sales</td>\n",
       "      <td>41837</td>\n",
       "      <td>NaN</td>\n",
       "    </tr>\n",
       "    <tr>\n",
       "      <th>10</th>\n",
       "      <td>11</td>\n",
       "      <td>Emma Johnson</td>\n",
       "      <td>Marketing</td>\n",
       "      <td>44039</td>\n",
       "      <td>NaN</td>\n",
       "    </tr>\n",
       "    <tr>\n",
       "      <th>14</th>\n",
       "      <td>15</td>\n",
       "      <td>Grace Brown</td>\n",
       "      <td>Marketing</td>\n",
       "      <td>40965</td>\n",
       "      <td>NaN</td>\n",
       "    </tr>\n",
       "    <tr>\n",
       "      <th>33</th>\n",
       "      <td>34</td>\n",
       "      <td>Emma Williams</td>\n",
       "      <td>IT</td>\n",
       "      <td>51518</td>\n",
       "      <td>NaN</td>\n",
       "    </tr>\n",
       "    <tr>\n",
       "      <th>42</th>\n",
       "      <td>43</td>\n",
       "      <td>Frank Williams</td>\n",
       "      <td>Marketing</td>\n",
       "      <td>86560</td>\n",
       "      <td>NaN</td>\n",
       "    </tr>\n",
       "    <tr>\n",
       "      <th>55</th>\n",
       "      <td>56</td>\n",
       "      <td>Grace Jones</td>\n",
       "      <td>IT</td>\n",
       "      <td>63827</td>\n",
       "      <td>NaN</td>\n",
       "    </tr>\n",
       "    <tr>\n",
       "      <th>65</th>\n",
       "      <td>66</td>\n",
       "      <td>Hannah Brown</td>\n",
       "      <td>Marketing</td>\n",
       "      <td>79080</td>\n",
       "      <td>NaN</td>\n",
       "    </tr>\n",
       "    <tr>\n",
       "      <th>92</th>\n",
       "      <td>93</td>\n",
       "      <td>Emma Miller</td>\n",
       "      <td>Finance</td>\n",
       "      <td>51959</td>\n",
       "      <td>NaN</td>\n",
       "    </tr>\n",
       "    <tr>\n",
       "      <th>97</th>\n",
       "      <td>98</td>\n",
       "      <td>Grace Smith</td>\n",
       "      <td>HR</td>\n",
       "      <td>61968</td>\n",
       "      <td>NaN</td>\n",
       "    </tr>\n",
       "  </tbody>\n",
       "</table>\n",
       "</div>"
      ]
     },
     "execution_count": 63,
     "metadata": {},
     "output_type": "execute_result"
    }
   ],
   "execution_count": 63
  },
  {
   "metadata": {
    "ExecuteTime": {
     "end_time": "2025-03-29T19:42:06.762369Z",
     "start_time": "2025-03-29T19:42:06.752184Z"
    }
   },
   "cell_type": "code",
   "source": [
    "median_age=df[\"Age\"].median()\n",
    "print(median_age)\n",
    "df_new=missing_age[\"Age\"].fillna(median_age)\n",
    "df_new"
   ],
   "id": "3c5aa0ccaf3c38c1",
   "outputs": [
    {
     "name": "stdout",
     "output_type": "stream",
     "text": [
      "41.0\n"
     ]
    },
    {
     "data": {
      "text/plain": [
       "4     41.0\n",
       "9     41.0\n",
       "10    41.0\n",
       "14    41.0\n",
       "33    41.0\n",
       "42    41.0\n",
       "55    41.0\n",
       "65    41.0\n",
       "92    41.0\n",
       "97    41.0\n",
       "Name: Age, dtype: float64"
      ]
     },
     "execution_count": 70,
     "metadata": {},
     "output_type": "execute_result"
    }
   ],
   "execution_count": 70
  },
  {
   "metadata": {},
   "cell_type": "markdown",
   "source": "# Module 4\n",
   "id": "134e31eb35349f61"
  },
  {
   "metadata": {
    "ExecuteTime": {
     "end_time": "2025-03-30T07:16:57.528424Z",
     "start_time": "2025-03-30T07:16:57.522721Z"
    }
   },
   "cell_type": "code",
   "source": "# Detecting Faulty Sensor Readings",
   "id": "5ad48115d224d6f0",
   "outputs": [],
   "execution_count": 1
  },
  {
   "metadata": {},
   "cell_type": "markdown",
   "source": [
    " # Faulty Data Criteria:\n",
    " - Fasting Blood Sugar: Normal range is 70–99 mg/dL\n",
    " - After Meal Blood Sugar: Normal range is <140 mg/dL\n",
    " - HbA1c (%): Normal is <5.7%, Prediabetes 5.7–6.4%, Diabetes ≥6.5%\n",
    " - BMI: Normal 18.5–24.9, Overweight 25–29.9, Obese ≥30\n",
    " - Blood Pressure: Systolic <90 or >140, Diastolic <60 or >90 (Outside range is faulty)"
   ],
   "id": "bac645188f128469"
  },
  {
   "metadata": {
    "ExecuteTime": {
     "end_time": "2025-03-30T15:16:42.542297Z",
     "start_time": "2025-03-30T15:16:42.525155Z"
    }
   },
   "cell_type": "code",
   "source": [
    "import pandas as pd\n",
    "diabetes_df=pd.read_csv(\"diabetes_data.csv\")\n",
    "diabetes_df.head()"
   ],
   "id": "bdd3d5b47dc71264",
   "outputs": [
    {
     "data": {
      "text/plain": [
       "   Patient_ID  Age  Gender  Fasting_Blood_Sugar  After_Meal_Blood_Sugar  \\\n",
       "0           1   63  Female            77.995482              139.771131   \n",
       "1           2   76  Female           113.389442              148.267082   \n",
       "2           3   53    Male            98.421143              137.182029   \n",
       "3           4   39  Female            85.669803              157.443237   \n",
       "4           5   67  Female            93.778530              166.006903   \n",
       "\n",
       "      HbA1c        BMI Diabetes_History  Blood_Pressure_Systolic  \\\n",
       "0  4.616921  29.313622              Yes                      110   \n",
       "1  4.800622  21.795749              Yes                      159   \n",
       "2  5.081491  20.237747               No                      159   \n",
       "3       NaN  24.207898              Yes                       93   \n",
       "4  3.956275  23.008824              Yes                      164   \n",
       "\n",
       "   Blood_Pressure_Diastolic  \n",
       "0                        78  \n",
       "1                        73  \n",
       "2                        85  \n",
       "3                        63  \n",
       "4                        84  "
      ],
      "text/html": [
       "<div>\n",
       "<style scoped>\n",
       "    .dataframe tbody tr th:only-of-type {\n",
       "        vertical-align: middle;\n",
       "    }\n",
       "\n",
       "    .dataframe tbody tr th {\n",
       "        vertical-align: top;\n",
       "    }\n",
       "\n",
       "    .dataframe thead th {\n",
       "        text-align: right;\n",
       "    }\n",
       "</style>\n",
       "<table border=\"1\" class=\"dataframe\">\n",
       "  <thead>\n",
       "    <tr style=\"text-align: right;\">\n",
       "      <th></th>\n",
       "      <th>Patient_ID</th>\n",
       "      <th>Age</th>\n",
       "      <th>Gender</th>\n",
       "      <th>Fasting_Blood_Sugar</th>\n",
       "      <th>After_Meal_Blood_Sugar</th>\n",
       "      <th>HbA1c</th>\n",
       "      <th>BMI</th>\n",
       "      <th>Diabetes_History</th>\n",
       "      <th>Blood_Pressure_Systolic</th>\n",
       "      <th>Blood_Pressure_Diastolic</th>\n",
       "    </tr>\n",
       "  </thead>\n",
       "  <tbody>\n",
       "    <tr>\n",
       "      <th>0</th>\n",
       "      <td>1</td>\n",
       "      <td>63</td>\n",
       "      <td>Female</td>\n",
       "      <td>77.995482</td>\n",
       "      <td>139.771131</td>\n",
       "      <td>4.616921</td>\n",
       "      <td>29.313622</td>\n",
       "      <td>Yes</td>\n",
       "      <td>110</td>\n",
       "      <td>78</td>\n",
       "    </tr>\n",
       "    <tr>\n",
       "      <th>1</th>\n",
       "      <td>2</td>\n",
       "      <td>76</td>\n",
       "      <td>Female</td>\n",
       "      <td>113.389442</td>\n",
       "      <td>148.267082</td>\n",
       "      <td>4.800622</td>\n",
       "      <td>21.795749</td>\n",
       "      <td>Yes</td>\n",
       "      <td>159</td>\n",
       "      <td>73</td>\n",
       "    </tr>\n",
       "    <tr>\n",
       "      <th>2</th>\n",
       "      <td>3</td>\n",
       "      <td>53</td>\n",
       "      <td>Male</td>\n",
       "      <td>98.421143</td>\n",
       "      <td>137.182029</td>\n",
       "      <td>5.081491</td>\n",
       "      <td>20.237747</td>\n",
       "      <td>No</td>\n",
       "      <td>159</td>\n",
       "      <td>85</td>\n",
       "    </tr>\n",
       "    <tr>\n",
       "      <th>3</th>\n",
       "      <td>4</td>\n",
       "      <td>39</td>\n",
       "      <td>Female</td>\n",
       "      <td>85.669803</td>\n",
       "      <td>157.443237</td>\n",
       "      <td>NaN</td>\n",
       "      <td>24.207898</td>\n",
       "      <td>Yes</td>\n",
       "      <td>93</td>\n",
       "      <td>63</td>\n",
       "    </tr>\n",
       "    <tr>\n",
       "      <th>4</th>\n",
       "      <td>5</td>\n",
       "      <td>67</td>\n",
       "      <td>Female</td>\n",
       "      <td>93.778530</td>\n",
       "      <td>166.006903</td>\n",
       "      <td>3.956275</td>\n",
       "      <td>23.008824</td>\n",
       "      <td>Yes</td>\n",
       "      <td>164</td>\n",
       "      <td>84</td>\n",
       "    </tr>\n",
       "  </tbody>\n",
       "</table>\n",
       "</div>"
      ]
     },
     "execution_count": 40,
     "metadata": {},
     "output_type": "execute_result"
    }
   ],
   "execution_count": 40
  },
  {
   "metadata": {
    "ExecuteTime": {
     "end_time": "2025-03-30T15:16:18.987740Z",
     "start_time": "2025-03-30T15:16:18.980096Z"
    }
   },
   "cell_type": "code",
   "source": [
    "faulty_conditions = (\n",
    "    (diabetes_df[\"Fasting_Blood_Sugar\"] < 70) | (diabetes_df[\"Fasting_Blood_Sugar\"] > 99) |\n",
    "    (diabetes_df[\"After_Meal_Blood_Sugar\"] >= 140) |\n",
    "    (diabetes_df[\"HbA1c\"] >= 6.5) |\n",
    "    (diabetes_df[\"BMI\"] >= 30) |  # Obese\n",
    "    (diabetes_df[\"BMI\"] < 18.5) |  # Underweight (New Condition)\n",
    "    (diabetes_df[\"Blood_Pressure_Systolic\"] < 90) | (diabetes_df[\"Blood_Pressure_Systolic\"] > 140) |\n",
    "    (diabetes_df[\"Blood_Pressure_Diastolic\"] < 60) | (diabetes_df[\"Blood_Pressure_Diastolic\"] > 90)\n",
    ")\n"
   ],
   "id": "731f05056c56b7ab",
   "outputs": [],
   "execution_count": 37
  },
  {
   "metadata": {
    "ExecuteTime": {
     "end_time": "2025-03-30T07:30:18.127646Z",
     "start_time": "2025-03-30T07:30:18.111481Z"
    }
   },
   "cell_type": "code",
   "source": [
    "faulty_readings = diabetes_df[faulty_conditions]\n",
    "faulty_readings"
   ],
   "id": "ff016a5ca3278a28",
   "outputs": [
    {
     "data": {
      "text/plain": [
       "    Patient_ID  Age  Gender  Fasting_Blood_Sugar  After_Meal_Blood_Sugar  \\\n",
       "1            2   76  Female           113.389442              148.267082   \n",
       "2            3   53    Male            98.421143              137.182029   \n",
       "3            4   39  Female            85.669803              157.443237   \n",
       "4            5   67  Female            93.778530              166.006903   \n",
       "5            6   32  Female            79.018887              113.129525   \n",
       "..         ...  ...     ...                  ...                     ...   \n",
       "95          96   40    Male                  NaN              149.341143   \n",
       "96          97   69    Male                  NaN              162.740348   \n",
       "97          98   42  Female           102.204620              148.937803   \n",
       "98          99   71  Female           108.094138              117.101030   \n",
       "99         100   77  Female            77.525565              151.826322   \n",
       "\n",
       "       HbA1c        BMI Diabetes_History  Blood_Pressure_Systolic  \\\n",
       "1   4.800622  21.795749              Yes                      159   \n",
       "2   5.081491  20.237747               No                      159   \n",
       "3        NaN  24.207898              Yes                       93   \n",
       "4   3.956275  23.008824              Yes                      164   \n",
       "5   6.616893        NaN               No                      151   \n",
       "..       ...        ...              ...                      ...   \n",
       "95  4.798300        NaN              Yes                      119   \n",
       "96  5.356717  26.791870              Yes                      124   \n",
       "97  4.899395  22.499422              Yes                      174   \n",
       "98  5.191822  27.612527              Yes                      126   \n",
       "99  4.762571  36.867304               No                       94   \n",
       "\n",
       "    Blood_Pressure_Diastolic  \n",
       "1                         73  \n",
       "2                         85  \n",
       "3                         63  \n",
       "4                         84  \n",
       "5                        104  \n",
       "..                       ...  \n",
       "95                        72  \n",
       "96                        99  \n",
       "97                        77  \n",
       "98                        84  \n",
       "99                        92  \n",
       "\n",
       "[95 rows x 10 columns]"
      ],
      "text/html": [
       "<div>\n",
       "<style scoped>\n",
       "    .dataframe tbody tr th:only-of-type {\n",
       "        vertical-align: middle;\n",
       "    }\n",
       "\n",
       "    .dataframe tbody tr th {\n",
       "        vertical-align: top;\n",
       "    }\n",
       "\n",
       "    .dataframe thead th {\n",
       "        text-align: right;\n",
       "    }\n",
       "</style>\n",
       "<table border=\"1\" class=\"dataframe\">\n",
       "  <thead>\n",
       "    <tr style=\"text-align: right;\">\n",
       "      <th></th>\n",
       "      <th>Patient_ID</th>\n",
       "      <th>Age</th>\n",
       "      <th>Gender</th>\n",
       "      <th>Fasting_Blood_Sugar</th>\n",
       "      <th>After_Meal_Blood_Sugar</th>\n",
       "      <th>HbA1c</th>\n",
       "      <th>BMI</th>\n",
       "      <th>Diabetes_History</th>\n",
       "      <th>Blood_Pressure_Systolic</th>\n",
       "      <th>Blood_Pressure_Diastolic</th>\n",
       "    </tr>\n",
       "  </thead>\n",
       "  <tbody>\n",
       "    <tr>\n",
       "      <th>1</th>\n",
       "      <td>2</td>\n",
       "      <td>76</td>\n",
       "      <td>Female</td>\n",
       "      <td>113.389442</td>\n",
       "      <td>148.267082</td>\n",
       "      <td>4.800622</td>\n",
       "      <td>21.795749</td>\n",
       "      <td>Yes</td>\n",
       "      <td>159</td>\n",
       "      <td>73</td>\n",
       "    </tr>\n",
       "    <tr>\n",
       "      <th>2</th>\n",
       "      <td>3</td>\n",
       "      <td>53</td>\n",
       "      <td>Male</td>\n",
       "      <td>98.421143</td>\n",
       "      <td>137.182029</td>\n",
       "      <td>5.081491</td>\n",
       "      <td>20.237747</td>\n",
       "      <td>No</td>\n",
       "      <td>159</td>\n",
       "      <td>85</td>\n",
       "    </tr>\n",
       "    <tr>\n",
       "      <th>3</th>\n",
       "      <td>4</td>\n",
       "      <td>39</td>\n",
       "      <td>Female</td>\n",
       "      <td>85.669803</td>\n",
       "      <td>157.443237</td>\n",
       "      <td>NaN</td>\n",
       "      <td>24.207898</td>\n",
       "      <td>Yes</td>\n",
       "      <td>93</td>\n",
       "      <td>63</td>\n",
       "    </tr>\n",
       "    <tr>\n",
       "      <th>4</th>\n",
       "      <td>5</td>\n",
       "      <td>67</td>\n",
       "      <td>Female</td>\n",
       "      <td>93.778530</td>\n",
       "      <td>166.006903</td>\n",
       "      <td>3.956275</td>\n",
       "      <td>23.008824</td>\n",
       "      <td>Yes</td>\n",
       "      <td>164</td>\n",
       "      <td>84</td>\n",
       "    </tr>\n",
       "    <tr>\n",
       "      <th>5</th>\n",
       "      <td>6</td>\n",
       "      <td>32</td>\n",
       "      <td>Female</td>\n",
       "      <td>79.018887</td>\n",
       "      <td>113.129525</td>\n",
       "      <td>6.616893</td>\n",
       "      <td>NaN</td>\n",
       "      <td>No</td>\n",
       "      <td>151</td>\n",
       "      <td>104</td>\n",
       "    </tr>\n",
       "    <tr>\n",
       "      <th>...</th>\n",
       "      <td>...</td>\n",
       "      <td>...</td>\n",
       "      <td>...</td>\n",
       "      <td>...</td>\n",
       "      <td>...</td>\n",
       "      <td>...</td>\n",
       "      <td>...</td>\n",
       "      <td>...</td>\n",
       "      <td>...</td>\n",
       "      <td>...</td>\n",
       "    </tr>\n",
       "    <tr>\n",
       "      <th>95</th>\n",
       "      <td>96</td>\n",
       "      <td>40</td>\n",
       "      <td>Male</td>\n",
       "      <td>NaN</td>\n",
       "      <td>149.341143</td>\n",
       "      <td>4.798300</td>\n",
       "      <td>NaN</td>\n",
       "      <td>Yes</td>\n",
       "      <td>119</td>\n",
       "      <td>72</td>\n",
       "    </tr>\n",
       "    <tr>\n",
       "      <th>96</th>\n",
       "      <td>97</td>\n",
       "      <td>69</td>\n",
       "      <td>Male</td>\n",
       "      <td>NaN</td>\n",
       "      <td>162.740348</td>\n",
       "      <td>5.356717</td>\n",
       "      <td>26.791870</td>\n",
       "      <td>Yes</td>\n",
       "      <td>124</td>\n",
       "      <td>99</td>\n",
       "    </tr>\n",
       "    <tr>\n",
       "      <th>97</th>\n",
       "      <td>98</td>\n",
       "      <td>42</td>\n",
       "      <td>Female</td>\n",
       "      <td>102.204620</td>\n",
       "      <td>148.937803</td>\n",
       "      <td>4.899395</td>\n",
       "      <td>22.499422</td>\n",
       "      <td>Yes</td>\n",
       "      <td>174</td>\n",
       "      <td>77</td>\n",
       "    </tr>\n",
       "    <tr>\n",
       "      <th>98</th>\n",
       "      <td>99</td>\n",
       "      <td>71</td>\n",
       "      <td>Female</td>\n",
       "      <td>108.094138</td>\n",
       "      <td>117.101030</td>\n",
       "      <td>5.191822</td>\n",
       "      <td>27.612527</td>\n",
       "      <td>Yes</td>\n",
       "      <td>126</td>\n",
       "      <td>84</td>\n",
       "    </tr>\n",
       "    <tr>\n",
       "      <th>99</th>\n",
       "      <td>100</td>\n",
       "      <td>77</td>\n",
       "      <td>Female</td>\n",
       "      <td>77.525565</td>\n",
       "      <td>151.826322</td>\n",
       "      <td>4.762571</td>\n",
       "      <td>36.867304</td>\n",
       "      <td>No</td>\n",
       "      <td>94</td>\n",
       "      <td>92</td>\n",
       "    </tr>\n",
       "  </tbody>\n",
       "</table>\n",
       "<p>95 rows × 10 columns</p>\n",
       "</div>"
      ]
     },
     "execution_count": 7,
     "metadata": {},
     "output_type": "execute_result"
    }
   ],
   "execution_count": 7
  },
  {
   "metadata": {},
   "cell_type": "markdown",
   "source": "# Handling Missing Data\n",
   "id": "27143dcab6bd78af"
  },
  {
   "metadata": {
    "ExecuteTime": {
     "end_time": "2025-03-30T07:44:52.039899Z",
     "start_time": "2025-03-30T07:44:52.026094Z"
    }
   },
   "cell_type": "code",
   "source": [
    "missing_fasting=diabetes_df[diabetes_df[\"Fasting_Blood_Sugar\"].isna()]\n",
    "missing_fasting"
   ],
   "id": "bff950d62132d717",
   "outputs": [
    {
     "data": {
      "text/plain": [
       "    Patient_ID  Age Gender  Fasting_Blood_Sugar  After_Meal_Blood_Sugar  \\\n",
       "9           10   47   Male                  NaN              108.583760   \n",
       "58          59   26   Male                  NaN              113.841714   \n",
       "73          74   26   Male                  NaN              128.142345   \n",
       "95          96   40   Male                  NaN              149.341143   \n",
       "96          97   69   Male                  NaN              162.740348   \n",
       "\n",
       "       HbA1c        BMI Diabetes_History  Blood_Pressure_Systolic  \\\n",
       "9   6.781920  19.536993              Yes                       98   \n",
       "58  5.945507  28.800845               No                      133   \n",
       "73  3.585093  31.573028              Yes                      124   \n",
       "95  4.798300        NaN              Yes                      119   \n",
       "96  5.356717  26.791870              Yes                      124   \n",
       "\n",
       "    Blood_Pressure_Diastolic  \n",
       "9                         99  \n",
       "58                        90  \n",
       "73                        86  \n",
       "95                        72  \n",
       "96                        99  "
      ],
      "text/html": [
       "<div>\n",
       "<style scoped>\n",
       "    .dataframe tbody tr th:only-of-type {\n",
       "        vertical-align: middle;\n",
       "    }\n",
       "\n",
       "    .dataframe tbody tr th {\n",
       "        vertical-align: top;\n",
       "    }\n",
       "\n",
       "    .dataframe thead th {\n",
       "        text-align: right;\n",
       "    }\n",
       "</style>\n",
       "<table border=\"1\" class=\"dataframe\">\n",
       "  <thead>\n",
       "    <tr style=\"text-align: right;\">\n",
       "      <th></th>\n",
       "      <th>Patient_ID</th>\n",
       "      <th>Age</th>\n",
       "      <th>Gender</th>\n",
       "      <th>Fasting_Blood_Sugar</th>\n",
       "      <th>After_Meal_Blood_Sugar</th>\n",
       "      <th>HbA1c</th>\n",
       "      <th>BMI</th>\n",
       "      <th>Diabetes_History</th>\n",
       "      <th>Blood_Pressure_Systolic</th>\n",
       "      <th>Blood_Pressure_Diastolic</th>\n",
       "    </tr>\n",
       "  </thead>\n",
       "  <tbody>\n",
       "    <tr>\n",
       "      <th>9</th>\n",
       "      <td>10</td>\n",
       "      <td>47</td>\n",
       "      <td>Male</td>\n",
       "      <td>NaN</td>\n",
       "      <td>108.583760</td>\n",
       "      <td>6.781920</td>\n",
       "      <td>19.536993</td>\n",
       "      <td>Yes</td>\n",
       "      <td>98</td>\n",
       "      <td>99</td>\n",
       "    </tr>\n",
       "    <tr>\n",
       "      <th>58</th>\n",
       "      <td>59</td>\n",
       "      <td>26</td>\n",
       "      <td>Male</td>\n",
       "      <td>NaN</td>\n",
       "      <td>113.841714</td>\n",
       "      <td>5.945507</td>\n",
       "      <td>28.800845</td>\n",
       "      <td>No</td>\n",
       "      <td>133</td>\n",
       "      <td>90</td>\n",
       "    </tr>\n",
       "    <tr>\n",
       "      <th>73</th>\n",
       "      <td>74</td>\n",
       "      <td>26</td>\n",
       "      <td>Male</td>\n",
       "      <td>NaN</td>\n",
       "      <td>128.142345</td>\n",
       "      <td>3.585093</td>\n",
       "      <td>31.573028</td>\n",
       "      <td>Yes</td>\n",
       "      <td>124</td>\n",
       "      <td>86</td>\n",
       "    </tr>\n",
       "    <tr>\n",
       "      <th>95</th>\n",
       "      <td>96</td>\n",
       "      <td>40</td>\n",
       "      <td>Male</td>\n",
       "      <td>NaN</td>\n",
       "      <td>149.341143</td>\n",
       "      <td>4.798300</td>\n",
       "      <td>NaN</td>\n",
       "      <td>Yes</td>\n",
       "      <td>119</td>\n",
       "      <td>72</td>\n",
       "    </tr>\n",
       "    <tr>\n",
       "      <th>96</th>\n",
       "      <td>97</td>\n",
       "      <td>69</td>\n",
       "      <td>Male</td>\n",
       "      <td>NaN</td>\n",
       "      <td>162.740348</td>\n",
       "      <td>5.356717</td>\n",
       "      <td>26.791870</td>\n",
       "      <td>Yes</td>\n",
       "      <td>124</td>\n",
       "      <td>99</td>\n",
       "    </tr>\n",
       "  </tbody>\n",
       "</table>\n",
       "</div>"
      ]
     },
     "execution_count": 16,
     "metadata": {},
     "output_type": "execute_result"
    }
   ],
   "execution_count": 16
  },
  {
   "metadata": {
    "ExecuteTime": {
     "end_time": "2025-03-30T07:45:58.472162Z",
     "start_time": "2025-03-30T07:45:58.455639Z"
    }
   },
   "cell_type": "code",
   "source": [
    "missing_after_meal=diabetes_df[diabetes_df[\"After_Meal_Blood_Sugar\"].isna()]\n",
    "missing_after_meal"
   ],
   "id": "284d85a31dd7f678",
   "outputs": [
    {
     "data": {
      "text/plain": [
       "    Patient_ID  Age  Gender  Fasting_Blood_Sugar  After_Meal_Blood_Sugar  \\\n",
       "14          15   60    Male           101.905184                     NaN   \n",
       "24          25   62  Female            99.767750                     NaN   \n",
       "30          31   68  Female            99.034329                     NaN   \n",
       "60          61   52    Male           107.229687                     NaN   \n",
       "68          69   41    Male           100.195508                     NaN   \n",
       "\n",
       "       HbA1c        BMI Diabetes_History  Blood_Pressure_Systolic  \\\n",
       "14  5.948649  27.710250              Yes                      113   \n",
       "24  5.680493  28.093415               No                      146   \n",
       "30  6.132852  31.620762              Yes                      140   \n",
       "60  5.789883  31.330353              Yes                      102   \n",
       "68  4.708280  27.640205              Yes                       98   \n",
       "\n",
       "    Blood_Pressure_Diastolic  \n",
       "14                        91  \n",
       "24                        61  \n",
       "30                        65  \n",
       "60                        95  \n",
       "68                       106  "
      ],
      "text/html": [
       "<div>\n",
       "<style scoped>\n",
       "    .dataframe tbody tr th:only-of-type {\n",
       "        vertical-align: middle;\n",
       "    }\n",
       "\n",
       "    .dataframe tbody tr th {\n",
       "        vertical-align: top;\n",
       "    }\n",
       "\n",
       "    .dataframe thead th {\n",
       "        text-align: right;\n",
       "    }\n",
       "</style>\n",
       "<table border=\"1\" class=\"dataframe\">\n",
       "  <thead>\n",
       "    <tr style=\"text-align: right;\">\n",
       "      <th></th>\n",
       "      <th>Patient_ID</th>\n",
       "      <th>Age</th>\n",
       "      <th>Gender</th>\n",
       "      <th>Fasting_Blood_Sugar</th>\n",
       "      <th>After_Meal_Blood_Sugar</th>\n",
       "      <th>HbA1c</th>\n",
       "      <th>BMI</th>\n",
       "      <th>Diabetes_History</th>\n",
       "      <th>Blood_Pressure_Systolic</th>\n",
       "      <th>Blood_Pressure_Diastolic</th>\n",
       "    </tr>\n",
       "  </thead>\n",
       "  <tbody>\n",
       "    <tr>\n",
       "      <th>14</th>\n",
       "      <td>15</td>\n",
       "      <td>60</td>\n",
       "      <td>Male</td>\n",
       "      <td>101.905184</td>\n",
       "      <td>NaN</td>\n",
       "      <td>5.948649</td>\n",
       "      <td>27.710250</td>\n",
       "      <td>Yes</td>\n",
       "      <td>113</td>\n",
       "      <td>91</td>\n",
       "    </tr>\n",
       "    <tr>\n",
       "      <th>24</th>\n",
       "      <td>25</td>\n",
       "      <td>62</td>\n",
       "      <td>Female</td>\n",
       "      <td>99.767750</td>\n",
       "      <td>NaN</td>\n",
       "      <td>5.680493</td>\n",
       "      <td>28.093415</td>\n",
       "      <td>No</td>\n",
       "      <td>146</td>\n",
       "      <td>61</td>\n",
       "    </tr>\n",
       "    <tr>\n",
       "      <th>30</th>\n",
       "      <td>31</td>\n",
       "      <td>68</td>\n",
       "      <td>Female</td>\n",
       "      <td>99.034329</td>\n",
       "      <td>NaN</td>\n",
       "      <td>6.132852</td>\n",
       "      <td>31.620762</td>\n",
       "      <td>Yes</td>\n",
       "      <td>140</td>\n",
       "      <td>65</td>\n",
       "    </tr>\n",
       "    <tr>\n",
       "      <th>60</th>\n",
       "      <td>61</td>\n",
       "      <td>52</td>\n",
       "      <td>Male</td>\n",
       "      <td>107.229687</td>\n",
       "      <td>NaN</td>\n",
       "      <td>5.789883</td>\n",
       "      <td>31.330353</td>\n",
       "      <td>Yes</td>\n",
       "      <td>102</td>\n",
       "      <td>95</td>\n",
       "    </tr>\n",
       "    <tr>\n",
       "      <th>68</th>\n",
       "      <td>69</td>\n",
       "      <td>41</td>\n",
       "      <td>Male</td>\n",
       "      <td>100.195508</td>\n",
       "      <td>NaN</td>\n",
       "      <td>4.708280</td>\n",
       "      <td>27.640205</td>\n",
       "      <td>Yes</td>\n",
       "      <td>98</td>\n",
       "      <td>106</td>\n",
       "    </tr>\n",
       "  </tbody>\n",
       "</table>\n",
       "</div>"
      ]
     },
     "execution_count": 17,
     "metadata": {},
     "output_type": "execute_result"
    }
   ],
   "execution_count": 17
  },
  {
   "metadata": {
    "ExecuteTime": {
     "end_time": "2025-03-30T07:47:26.292382Z",
     "start_time": "2025-03-30T07:47:26.276865Z"
    }
   },
   "cell_type": "code",
   "source": [
    "missing_hb1ac=diabetes_df[diabetes_df[\"HbA1c\"].isna()]\n",
    "missing_hb1ac"
   ],
   "id": "c91b4c9ceb2f6fff",
   "outputs": [
    {
     "data": {
      "text/plain": [
       "    Patient_ID  Age  Gender  Fasting_Blood_Sugar  After_Meal_Blood_Sugar  \\\n",
       "3            4   39  Female            85.669803              157.443237   \n",
       "12          13   48    Male            79.759150              104.334979   \n",
       "15          16   64  Female            81.258344              150.131506   \n",
       "40          41   68    Male            96.785133              128.881102   \n",
       "91          92   38  Female            83.312540              160.650256   \n",
       "\n",
       "    HbA1c        BMI Diabetes_History  Blood_Pressure_Systolic  \\\n",
       "3     NaN  24.207898              Yes                       93   \n",
       "12    NaN  35.423425               No                      129   \n",
       "15    NaN  32.185792              Yes                       95   \n",
       "40    NaN  26.991820               No                      101   \n",
       "91    NaN  24.556800               No                      161   \n",
       "\n",
       "    Blood_Pressure_Diastolic  \n",
       "3                         63  \n",
       "12                        99  \n",
       "15                        97  \n",
       "40                        98  \n",
       "91                       105  "
      ],
      "text/html": [
       "<div>\n",
       "<style scoped>\n",
       "    .dataframe tbody tr th:only-of-type {\n",
       "        vertical-align: middle;\n",
       "    }\n",
       "\n",
       "    .dataframe tbody tr th {\n",
       "        vertical-align: top;\n",
       "    }\n",
       "\n",
       "    .dataframe thead th {\n",
       "        text-align: right;\n",
       "    }\n",
       "</style>\n",
       "<table border=\"1\" class=\"dataframe\">\n",
       "  <thead>\n",
       "    <tr style=\"text-align: right;\">\n",
       "      <th></th>\n",
       "      <th>Patient_ID</th>\n",
       "      <th>Age</th>\n",
       "      <th>Gender</th>\n",
       "      <th>Fasting_Blood_Sugar</th>\n",
       "      <th>After_Meal_Blood_Sugar</th>\n",
       "      <th>HbA1c</th>\n",
       "      <th>BMI</th>\n",
       "      <th>Diabetes_History</th>\n",
       "      <th>Blood_Pressure_Systolic</th>\n",
       "      <th>Blood_Pressure_Diastolic</th>\n",
       "    </tr>\n",
       "  </thead>\n",
       "  <tbody>\n",
       "    <tr>\n",
       "      <th>3</th>\n",
       "      <td>4</td>\n",
       "      <td>39</td>\n",
       "      <td>Female</td>\n",
       "      <td>85.669803</td>\n",
       "      <td>157.443237</td>\n",
       "      <td>NaN</td>\n",
       "      <td>24.207898</td>\n",
       "      <td>Yes</td>\n",
       "      <td>93</td>\n",
       "      <td>63</td>\n",
       "    </tr>\n",
       "    <tr>\n",
       "      <th>12</th>\n",
       "      <td>13</td>\n",
       "      <td>48</td>\n",
       "      <td>Male</td>\n",
       "      <td>79.759150</td>\n",
       "      <td>104.334979</td>\n",
       "      <td>NaN</td>\n",
       "      <td>35.423425</td>\n",
       "      <td>No</td>\n",
       "      <td>129</td>\n",
       "      <td>99</td>\n",
       "    </tr>\n",
       "    <tr>\n",
       "      <th>15</th>\n",
       "      <td>16</td>\n",
       "      <td>64</td>\n",
       "      <td>Female</td>\n",
       "      <td>81.258344</td>\n",
       "      <td>150.131506</td>\n",
       "      <td>NaN</td>\n",
       "      <td>32.185792</td>\n",
       "      <td>Yes</td>\n",
       "      <td>95</td>\n",
       "      <td>97</td>\n",
       "    </tr>\n",
       "    <tr>\n",
       "      <th>40</th>\n",
       "      <td>41</td>\n",
       "      <td>68</td>\n",
       "      <td>Male</td>\n",
       "      <td>96.785133</td>\n",
       "      <td>128.881102</td>\n",
       "      <td>NaN</td>\n",
       "      <td>26.991820</td>\n",
       "      <td>No</td>\n",
       "      <td>101</td>\n",
       "      <td>98</td>\n",
       "    </tr>\n",
       "    <tr>\n",
       "      <th>91</th>\n",
       "      <td>92</td>\n",
       "      <td>38</td>\n",
       "      <td>Female</td>\n",
       "      <td>83.312540</td>\n",
       "      <td>160.650256</td>\n",
       "      <td>NaN</td>\n",
       "      <td>24.556800</td>\n",
       "      <td>No</td>\n",
       "      <td>161</td>\n",
       "      <td>105</td>\n",
       "    </tr>\n",
       "  </tbody>\n",
       "</table>\n",
       "</div>"
      ]
     },
     "execution_count": 18,
     "metadata": {},
     "output_type": "execute_result"
    }
   ],
   "execution_count": 18
  },
  {
   "metadata": {
    "ExecuteTime": {
     "end_time": "2025-03-30T15:16:51.814619Z",
     "start_time": "2025-03-30T15:16:51.803101Z"
    }
   },
   "cell_type": "code",
   "source": [
    "missing_bmi=diabetes_df[diabetes_df[\"BMI\"].isna()]\n",
    "missing_bmi"
   ],
   "id": "636a5d039fc43f03",
   "outputs": [
    {
     "data": {
      "text/plain": [
       "    Patient_ID  Age  Gender  Fasting_Blood_Sugar  After_Meal_Blood_Sugar  \\\n",
       "5            6   32  Female            79.018887              113.129525   \n",
       "37          38   39  Female           122.204928              129.790136   \n",
       "51          52   28    Male           101.214562              129.781111   \n",
       "79          80   53  Female            96.599163              161.935925   \n",
       "95          96   40    Male                  NaN              149.341143   \n",
       "\n",
       "       HbA1c  BMI Diabetes_History  Blood_Pressure_Systolic  \\\n",
       "5   6.616893  NaN               No                      151   \n",
       "37  6.484024  NaN              Yes                      108   \n",
       "51  5.560233  NaN               No                      122   \n",
       "79  6.261572  NaN              Yes                      167   \n",
       "95  4.798300  NaN              Yes                      119   \n",
       "\n",
       "    Blood_Pressure_Diastolic  \n",
       "5                        104  \n",
       "37                        88  \n",
       "51                        61  \n",
       "79                        86  \n",
       "95                        72  "
      ],
      "text/html": [
       "<div>\n",
       "<style scoped>\n",
       "    .dataframe tbody tr th:only-of-type {\n",
       "        vertical-align: middle;\n",
       "    }\n",
       "\n",
       "    .dataframe tbody tr th {\n",
       "        vertical-align: top;\n",
       "    }\n",
       "\n",
       "    .dataframe thead th {\n",
       "        text-align: right;\n",
       "    }\n",
       "</style>\n",
       "<table border=\"1\" class=\"dataframe\">\n",
       "  <thead>\n",
       "    <tr style=\"text-align: right;\">\n",
       "      <th></th>\n",
       "      <th>Patient_ID</th>\n",
       "      <th>Age</th>\n",
       "      <th>Gender</th>\n",
       "      <th>Fasting_Blood_Sugar</th>\n",
       "      <th>After_Meal_Blood_Sugar</th>\n",
       "      <th>HbA1c</th>\n",
       "      <th>BMI</th>\n",
       "      <th>Diabetes_History</th>\n",
       "      <th>Blood_Pressure_Systolic</th>\n",
       "      <th>Blood_Pressure_Diastolic</th>\n",
       "    </tr>\n",
       "  </thead>\n",
       "  <tbody>\n",
       "    <tr>\n",
       "      <th>5</th>\n",
       "      <td>6</td>\n",
       "      <td>32</td>\n",
       "      <td>Female</td>\n",
       "      <td>79.018887</td>\n",
       "      <td>113.129525</td>\n",
       "      <td>6.616893</td>\n",
       "      <td>NaN</td>\n",
       "      <td>No</td>\n",
       "      <td>151</td>\n",
       "      <td>104</td>\n",
       "    </tr>\n",
       "    <tr>\n",
       "      <th>37</th>\n",
       "      <td>38</td>\n",
       "      <td>39</td>\n",
       "      <td>Female</td>\n",
       "      <td>122.204928</td>\n",
       "      <td>129.790136</td>\n",
       "      <td>6.484024</td>\n",
       "      <td>NaN</td>\n",
       "      <td>Yes</td>\n",
       "      <td>108</td>\n",
       "      <td>88</td>\n",
       "    </tr>\n",
       "    <tr>\n",
       "      <th>51</th>\n",
       "      <td>52</td>\n",
       "      <td>28</td>\n",
       "      <td>Male</td>\n",
       "      <td>101.214562</td>\n",
       "      <td>129.781111</td>\n",
       "      <td>5.560233</td>\n",
       "      <td>NaN</td>\n",
       "      <td>No</td>\n",
       "      <td>122</td>\n",
       "      <td>61</td>\n",
       "    </tr>\n",
       "    <tr>\n",
       "      <th>79</th>\n",
       "      <td>80</td>\n",
       "      <td>53</td>\n",
       "      <td>Female</td>\n",
       "      <td>96.599163</td>\n",
       "      <td>161.935925</td>\n",
       "      <td>6.261572</td>\n",
       "      <td>NaN</td>\n",
       "      <td>Yes</td>\n",
       "      <td>167</td>\n",
       "      <td>86</td>\n",
       "    </tr>\n",
       "    <tr>\n",
       "      <th>95</th>\n",
       "      <td>96</td>\n",
       "      <td>40</td>\n",
       "      <td>Male</td>\n",
       "      <td>NaN</td>\n",
       "      <td>149.341143</td>\n",
       "      <td>4.798300</td>\n",
       "      <td>NaN</td>\n",
       "      <td>Yes</td>\n",
       "      <td>119</td>\n",
       "      <td>72</td>\n",
       "    </tr>\n",
       "  </tbody>\n",
       "</table>\n",
       "</div>"
      ]
     },
     "execution_count": 41,
     "metadata": {},
     "output_type": "execute_result"
    }
   ],
   "execution_count": 41
  },
  {
   "metadata": {
    "ExecuteTime": {
     "end_time": "2025-03-30T07:56:25.471591Z",
     "start_time": "2025-03-30T07:56:25.461143Z"
    }
   },
   "cell_type": "code",
   "source": [
    "missing_systolic=diabetes_df[diabetes_df[\"Blood_Pressure_Systolic\"].isna()]\n",
    "missing_systolic"
   ],
   "id": "9cacc21d51a29290",
   "outputs": [
    {
     "data": {
      "text/plain": [
       "Empty DataFrame\n",
       "Columns: [Patient_ID, Age, Gender, Fasting_Blood_Sugar, After_Meal_Blood_Sugar, HbA1c, BMI, Diabetes_History, Blood_Pressure_Systolic, Blood_Pressure_Diastolic]\n",
       "Index: []"
      ],
      "text/html": [
       "<div>\n",
       "<style scoped>\n",
       "    .dataframe tbody tr th:only-of-type {\n",
       "        vertical-align: middle;\n",
       "    }\n",
       "\n",
       "    .dataframe tbody tr th {\n",
       "        vertical-align: top;\n",
       "    }\n",
       "\n",
       "    .dataframe thead th {\n",
       "        text-align: right;\n",
       "    }\n",
       "</style>\n",
       "<table border=\"1\" class=\"dataframe\">\n",
       "  <thead>\n",
       "    <tr style=\"text-align: right;\">\n",
       "      <th></th>\n",
       "      <th>Patient_ID</th>\n",
       "      <th>Age</th>\n",
       "      <th>Gender</th>\n",
       "      <th>Fasting_Blood_Sugar</th>\n",
       "      <th>After_Meal_Blood_Sugar</th>\n",
       "      <th>HbA1c</th>\n",
       "      <th>BMI</th>\n",
       "      <th>Diabetes_History</th>\n",
       "      <th>Blood_Pressure_Systolic</th>\n",
       "      <th>Blood_Pressure_Diastolic</th>\n",
       "    </tr>\n",
       "  </thead>\n",
       "  <tbody>\n",
       "  </tbody>\n",
       "</table>\n",
       "</div>"
      ]
     },
     "execution_count": 26,
     "metadata": {},
     "output_type": "execute_result"
    }
   ],
   "execution_count": 26
  },
  {
   "metadata": {
    "ExecuteTime": {
     "end_time": "2025-03-30T07:51:54.177569Z",
     "start_time": "2025-03-30T07:51:54.168033Z"
    }
   },
   "cell_type": "code",
   "source": [
    "missing_dystolic=diabetes_df[diabetes_df[\"Blood_Pressure_Diastolic\"].isna()]\n",
    "missing_dystolic"
   ],
   "id": "670d42780ba34d15",
   "outputs": [
    {
     "data": {
      "text/plain": [
       "Empty DataFrame\n",
       "Columns: [Patient_ID, Age, Gender, Fasting_Blood_Sugar, After_Meal_Blood_Sugar, HbA1c, BMI, Diabetes_History, Blood_Pressure_Systolic, Blood_Pressure_Diastolic]\n",
       "Index: []"
      ],
      "text/html": [
       "<div>\n",
       "<style scoped>\n",
       "    .dataframe tbody tr th:only-of-type {\n",
       "        vertical-align: middle;\n",
       "    }\n",
       "\n",
       "    .dataframe tbody tr th {\n",
       "        vertical-align: top;\n",
       "    }\n",
       "\n",
       "    .dataframe thead th {\n",
       "        text-align: right;\n",
       "    }\n",
       "</style>\n",
       "<table border=\"1\" class=\"dataframe\">\n",
       "  <thead>\n",
       "    <tr style=\"text-align: right;\">\n",
       "      <th></th>\n",
       "      <th>Patient_ID</th>\n",
       "      <th>Age</th>\n",
       "      <th>Gender</th>\n",
       "      <th>Fasting_Blood_Sugar</th>\n",
       "      <th>After_Meal_Blood_Sugar</th>\n",
       "      <th>HbA1c</th>\n",
       "      <th>BMI</th>\n",
       "      <th>Diabetes_History</th>\n",
       "      <th>Blood_Pressure_Systolic</th>\n",
       "      <th>Blood_Pressure_Diastolic</th>\n",
       "    </tr>\n",
       "  </thead>\n",
       "  <tbody>\n",
       "  </tbody>\n",
       "</table>\n",
       "</div>"
      ]
     },
     "execution_count": 22,
     "metadata": {},
     "output_type": "execute_result"
    }
   ],
   "execution_count": 22
  },
  {
   "metadata": {
    "ExecuteTime": {
     "end_time": "2025-03-30T12:20:32.008516Z",
     "start_time": "2025-03-30T12:20:32.003508Z"
    }
   },
   "cell_type": "code",
   "source": "columns_with_missing = [\"Fasting_Blood_Sugar\", \"After_Meal_Blood_Sugar\", \"HbA1c\", \"BMI\"]",
   "id": "5caa145c27d7c5e7",
   "outputs": [],
   "execution_count": 21
  },
  {
   "metadata": {
    "ExecuteTime": {
     "end_time": "2025-03-30T07:59:33.784089Z",
     "start_time": "2025-03-30T07:59:33.778277Z"
    }
   },
   "cell_type": "code",
   "source": [
    "median_fasting_blood_sugar=diabetes_df[\"Fasting_Blood_Sugar\"].median()\n",
    "print(median_fasting_blood_sugar)"
   ],
   "id": "af6c31ea99b71635",
   "outputs": [
    {
     "name": "stdout",
     "output_type": "stream",
     "text": [
      "99.58935331622264\n"
     ]
    }
   ],
   "execution_count": 28
  },
  {
   "metadata": {
    "ExecuteTime": {
     "end_time": "2025-03-30T08:00:40.772089Z",
     "start_time": "2025-03-30T08:00:40.765633Z"
    }
   },
   "cell_type": "code",
   "source": [
    "median_after_blood_sugar=diabetes_df[\"After_Meal_Blood_Sugar\"].median()\n",
    "print(median_after_blood_sugar)"
   ],
   "id": "1d989e56cfe062b5",
   "outputs": [
    {
     "name": "stdout",
     "output_type": "stream",
     "text": [
      "139.9060801065288\n"
     ]
    }
   ],
   "execution_count": 29
  },
  {
   "metadata": {
    "ExecuteTime": {
     "end_time": "2025-03-30T08:01:44.958858Z",
     "start_time": "2025-03-30T08:01:44.953396Z"
    }
   },
   "cell_type": "code",
   "source": [
    "median_hbA1c=diabetes_df[\"HbA1c\"].median()\n",
    "print(median_hbA1c)"
   ],
   "id": "6c0149c88e513a69",
   "outputs": [
    {
     "name": "stdout",
     "output_type": "stream",
     "text": [
      "5.423467938648454\n"
     ]
    }
   ],
   "execution_count": 30
  },
  {
   "metadata": {
    "ExecuteTime": {
     "end_time": "2025-03-30T08:02:20.670582Z",
     "start_time": "2025-03-30T08:02:20.665381Z"
    }
   },
   "cell_type": "code",
   "source": [
    "median_BMI=diabetes_df[\"BMI\"].median()\n",
    "print(median_BMI)"
   ],
   "id": "7cd37ec2a7c0831b",
   "outputs": [
    {
     "name": "stdout",
     "output_type": "stream",
     "text": [
      "27.247863646497024\n"
     ]
    }
   ],
   "execution_count": 31
  },
  {
   "metadata": {
    "ExecuteTime": {
     "end_time": "2025-03-30T15:17:10.099673Z",
     "start_time": "2025-03-30T15:17:10.090051Z"
    }
   },
   "cell_type": "code",
   "source": [
    "\n",
    "diabetes_df[columns_with_missing] = diabetes_df[columns_with_missing].fillna(diabetes_df[columns_with_missing].median())"
   ],
   "id": "4b99b5ace60777f2",
   "outputs": [],
   "execution_count": 43
  },
  {
   "metadata": {
    "ExecuteTime": {
     "end_time": "2025-03-30T15:17:12.369220Z",
     "start_time": "2025-03-30T15:17:12.353755Z"
    }
   },
   "cell_type": "code",
   "source": "diabetes_df",
   "id": "7908687ccb9fed56",
   "outputs": [
    {
     "data": {
      "text/plain": [
       "    Patient_ID  Age  Gender  Fasting_Blood_Sugar  After_Meal_Blood_Sugar  \\\n",
       "0            1   63  Female            77.995482              139.771131   \n",
       "1            2   76  Female           113.389442              148.267082   \n",
       "2            3   53    Male            98.421143              137.182029   \n",
       "3            4   39  Female            85.669803              157.443237   \n",
       "4            5   67  Female            93.778530              166.006903   \n",
       "..         ...  ...     ...                  ...                     ...   \n",
       "95          96   40    Male            99.589353              149.341143   \n",
       "96          97   69    Male            99.589353              162.740348   \n",
       "97          98   42  Female           102.204620              148.937803   \n",
       "98          99   71  Female           108.094138              117.101030   \n",
       "99         100   77  Female            77.525565              151.826322   \n",
       "\n",
       "       HbA1c        BMI Diabetes_History  Blood_Pressure_Systolic  \\\n",
       "0   4.616921  29.313622              Yes                      110   \n",
       "1   4.800622  21.795749              Yes                      159   \n",
       "2   5.081491  20.237747               No                      159   \n",
       "3   5.423468  24.207898              Yes                       93   \n",
       "4   3.956275  23.008824              Yes                      164   \n",
       "..       ...        ...              ...                      ...   \n",
       "95  4.798300  27.247864              Yes                      119   \n",
       "96  5.356717  26.791870              Yes                      124   \n",
       "97  4.899395  22.499422              Yes                      174   \n",
       "98  5.191822  27.612527              Yes                      126   \n",
       "99  4.762571  36.867304               No                       94   \n",
       "\n",
       "    Blood_Pressure_Diastolic  \n",
       "0                         78  \n",
       "1                         73  \n",
       "2                         85  \n",
       "3                         63  \n",
       "4                         84  \n",
       "..                       ...  \n",
       "95                        72  \n",
       "96                        99  \n",
       "97                        77  \n",
       "98                        84  \n",
       "99                        92  \n",
       "\n",
       "[100 rows x 10 columns]"
      ],
      "text/html": [
       "<div>\n",
       "<style scoped>\n",
       "    .dataframe tbody tr th:only-of-type {\n",
       "        vertical-align: middle;\n",
       "    }\n",
       "\n",
       "    .dataframe tbody tr th {\n",
       "        vertical-align: top;\n",
       "    }\n",
       "\n",
       "    .dataframe thead th {\n",
       "        text-align: right;\n",
       "    }\n",
       "</style>\n",
       "<table border=\"1\" class=\"dataframe\">\n",
       "  <thead>\n",
       "    <tr style=\"text-align: right;\">\n",
       "      <th></th>\n",
       "      <th>Patient_ID</th>\n",
       "      <th>Age</th>\n",
       "      <th>Gender</th>\n",
       "      <th>Fasting_Blood_Sugar</th>\n",
       "      <th>After_Meal_Blood_Sugar</th>\n",
       "      <th>HbA1c</th>\n",
       "      <th>BMI</th>\n",
       "      <th>Diabetes_History</th>\n",
       "      <th>Blood_Pressure_Systolic</th>\n",
       "      <th>Blood_Pressure_Diastolic</th>\n",
       "    </tr>\n",
       "  </thead>\n",
       "  <tbody>\n",
       "    <tr>\n",
       "      <th>0</th>\n",
       "      <td>1</td>\n",
       "      <td>63</td>\n",
       "      <td>Female</td>\n",
       "      <td>77.995482</td>\n",
       "      <td>139.771131</td>\n",
       "      <td>4.616921</td>\n",
       "      <td>29.313622</td>\n",
       "      <td>Yes</td>\n",
       "      <td>110</td>\n",
       "      <td>78</td>\n",
       "    </tr>\n",
       "    <tr>\n",
       "      <th>1</th>\n",
       "      <td>2</td>\n",
       "      <td>76</td>\n",
       "      <td>Female</td>\n",
       "      <td>113.389442</td>\n",
       "      <td>148.267082</td>\n",
       "      <td>4.800622</td>\n",
       "      <td>21.795749</td>\n",
       "      <td>Yes</td>\n",
       "      <td>159</td>\n",
       "      <td>73</td>\n",
       "    </tr>\n",
       "    <tr>\n",
       "      <th>2</th>\n",
       "      <td>3</td>\n",
       "      <td>53</td>\n",
       "      <td>Male</td>\n",
       "      <td>98.421143</td>\n",
       "      <td>137.182029</td>\n",
       "      <td>5.081491</td>\n",
       "      <td>20.237747</td>\n",
       "      <td>No</td>\n",
       "      <td>159</td>\n",
       "      <td>85</td>\n",
       "    </tr>\n",
       "    <tr>\n",
       "      <th>3</th>\n",
       "      <td>4</td>\n",
       "      <td>39</td>\n",
       "      <td>Female</td>\n",
       "      <td>85.669803</td>\n",
       "      <td>157.443237</td>\n",
       "      <td>5.423468</td>\n",
       "      <td>24.207898</td>\n",
       "      <td>Yes</td>\n",
       "      <td>93</td>\n",
       "      <td>63</td>\n",
       "    </tr>\n",
       "    <tr>\n",
       "      <th>4</th>\n",
       "      <td>5</td>\n",
       "      <td>67</td>\n",
       "      <td>Female</td>\n",
       "      <td>93.778530</td>\n",
       "      <td>166.006903</td>\n",
       "      <td>3.956275</td>\n",
       "      <td>23.008824</td>\n",
       "      <td>Yes</td>\n",
       "      <td>164</td>\n",
       "      <td>84</td>\n",
       "    </tr>\n",
       "    <tr>\n",
       "      <th>...</th>\n",
       "      <td>...</td>\n",
       "      <td>...</td>\n",
       "      <td>...</td>\n",
       "      <td>...</td>\n",
       "      <td>...</td>\n",
       "      <td>...</td>\n",
       "      <td>...</td>\n",
       "      <td>...</td>\n",
       "      <td>...</td>\n",
       "      <td>...</td>\n",
       "    </tr>\n",
       "    <tr>\n",
       "      <th>95</th>\n",
       "      <td>96</td>\n",
       "      <td>40</td>\n",
       "      <td>Male</td>\n",
       "      <td>99.589353</td>\n",
       "      <td>149.341143</td>\n",
       "      <td>4.798300</td>\n",
       "      <td>27.247864</td>\n",
       "      <td>Yes</td>\n",
       "      <td>119</td>\n",
       "      <td>72</td>\n",
       "    </tr>\n",
       "    <tr>\n",
       "      <th>96</th>\n",
       "      <td>97</td>\n",
       "      <td>69</td>\n",
       "      <td>Male</td>\n",
       "      <td>99.589353</td>\n",
       "      <td>162.740348</td>\n",
       "      <td>5.356717</td>\n",
       "      <td>26.791870</td>\n",
       "      <td>Yes</td>\n",
       "      <td>124</td>\n",
       "      <td>99</td>\n",
       "    </tr>\n",
       "    <tr>\n",
       "      <th>97</th>\n",
       "      <td>98</td>\n",
       "      <td>42</td>\n",
       "      <td>Female</td>\n",
       "      <td>102.204620</td>\n",
       "      <td>148.937803</td>\n",
       "      <td>4.899395</td>\n",
       "      <td>22.499422</td>\n",
       "      <td>Yes</td>\n",
       "      <td>174</td>\n",
       "      <td>77</td>\n",
       "    </tr>\n",
       "    <tr>\n",
       "      <th>98</th>\n",
       "      <td>99</td>\n",
       "      <td>71</td>\n",
       "      <td>Female</td>\n",
       "      <td>108.094138</td>\n",
       "      <td>117.101030</td>\n",
       "      <td>5.191822</td>\n",
       "      <td>27.612527</td>\n",
       "      <td>Yes</td>\n",
       "      <td>126</td>\n",
       "      <td>84</td>\n",
       "    </tr>\n",
       "    <tr>\n",
       "      <th>99</th>\n",
       "      <td>100</td>\n",
       "      <td>77</td>\n",
       "      <td>Female</td>\n",
       "      <td>77.525565</td>\n",
       "      <td>151.826322</td>\n",
       "      <td>4.762571</td>\n",
       "      <td>36.867304</td>\n",
       "      <td>No</td>\n",
       "      <td>94</td>\n",
       "      <td>92</td>\n",
       "    </tr>\n",
       "  </tbody>\n",
       "</table>\n",
       "<p>100 rows × 10 columns</p>\n",
       "</div>"
      ]
     },
     "execution_count": 44,
     "metadata": {},
     "output_type": "execute_result"
    }
   ],
   "execution_count": 44
  },
  {
   "metadata": {},
   "cell_type": "markdown",
   "source": "# Create a function to dynamically detect outliers beyond ±2.5 standard deviations.\n",
   "id": "68557aa99092cd54"
  },
  {
   "metadata": {
    "ExecuteTime": {
     "end_time": "2025-03-30T15:17:17.637734Z",
     "start_time": "2025-03-30T15:17:17.620853Z"
    }
   },
   "cell_type": "code",
   "source": [
    "#\n",
    "# Function to detect outliers using the IQR method\n",
    "def detect_outliers_iqr(df, columns,threshold=2.5):\n",
    "    outlier_dict = {}\n",
    "    for col in columns:\n",
    "        if df[col].dtype in ['float64', 'int64']:\n",
    "            mean_val=df[col].mean()\n",
    "            std_dev=df[col].std()# Only numeric columns\n",
    "            lower_bound = mean_val - (threshold * std_dev)\n",
    "            upper_bound = mean_val + (threshold * std_dev)\n",
    "\n",
    "            \n",
    "\n",
    "            # Get outlier rows for this column\n",
    "            outliers = df[(df[col] < lower_bound) | (df[col] > upper_bound)]\n",
    "            outlier_dict[col] = outliers\n",
    "    \n",
    "    return outlier_dict\n",
    "\n",
    "# Apply the function to numerical columns\n",
    "numerical_columns = [\"Fasting_Blood_Sugar\", \"After_Meal_Blood_Sugar\", \"HbA1c\", \"BMI\", \n",
    "                     \"Blood_Pressure_Systolic\", \"Blood_Pressure_Diastolic\"]\n",
    "\n",
    "outliers_iqr = detect_outliers_iqr(diabetes_df, numerical_columns)\n",
    "\n",
    "\n",
    "outliers_iqr[\"Fasting_Blood_Sugar\"]\n",
    "\n",
    "\n"
   ],
   "id": "3c5569e3d37118a6",
   "outputs": [
    {
     "data": {
      "text/plain": [
       "    Patient_ID  Age Gender  Fasting_Blood_Sugar  After_Meal_Blood_Sugar  \\\n",
       "36          37   40   Male            62.518613              108.971321   \n",
       "86          87   38   Male            56.808147              159.452657   \n",
       "\n",
       "       HbA1c        BMI Diabetes_History  Blood_Pressure_Systolic  \\\n",
       "36  5.088709  22.639481              Yes                      157   \n",
       "86  5.545608  30.080533               No                      129   \n",
       "\n",
       "    Blood_Pressure_Diastolic  \n",
       "36                       106  \n",
       "86                        65  "
      ],
      "text/html": [
       "<div>\n",
       "<style scoped>\n",
       "    .dataframe tbody tr th:only-of-type {\n",
       "        vertical-align: middle;\n",
       "    }\n",
       "\n",
       "    .dataframe tbody tr th {\n",
       "        vertical-align: top;\n",
       "    }\n",
       "\n",
       "    .dataframe thead th {\n",
       "        text-align: right;\n",
       "    }\n",
       "</style>\n",
       "<table border=\"1\" class=\"dataframe\">\n",
       "  <thead>\n",
       "    <tr style=\"text-align: right;\">\n",
       "      <th></th>\n",
       "      <th>Patient_ID</th>\n",
       "      <th>Age</th>\n",
       "      <th>Gender</th>\n",
       "      <th>Fasting_Blood_Sugar</th>\n",
       "      <th>After_Meal_Blood_Sugar</th>\n",
       "      <th>HbA1c</th>\n",
       "      <th>BMI</th>\n",
       "      <th>Diabetes_History</th>\n",
       "      <th>Blood_Pressure_Systolic</th>\n",
       "      <th>Blood_Pressure_Diastolic</th>\n",
       "    </tr>\n",
       "  </thead>\n",
       "  <tbody>\n",
       "    <tr>\n",
       "      <th>36</th>\n",
       "      <td>37</td>\n",
       "      <td>40</td>\n",
       "      <td>Male</td>\n",
       "      <td>62.518613</td>\n",
       "      <td>108.971321</td>\n",
       "      <td>5.088709</td>\n",
       "      <td>22.639481</td>\n",
       "      <td>Yes</td>\n",
       "      <td>157</td>\n",
       "      <td>106</td>\n",
       "    </tr>\n",
       "    <tr>\n",
       "      <th>86</th>\n",
       "      <td>87</td>\n",
       "      <td>38</td>\n",
       "      <td>Male</td>\n",
       "      <td>56.808147</td>\n",
       "      <td>159.452657</td>\n",
       "      <td>5.545608</td>\n",
       "      <td>30.080533</td>\n",
       "      <td>No</td>\n",
       "      <td>129</td>\n",
       "      <td>65</td>\n",
       "    </tr>\n",
       "  </tbody>\n",
       "</table>\n",
       "</div>"
      ]
     },
     "execution_count": 45,
     "metadata": {},
     "output_type": "execute_result"
    }
   ],
   "execution_count": 45
  },
  {
   "metadata": {
    "ExecuteTime": {
     "end_time": "2025-03-30T12:20:52.551081Z",
     "start_time": "2025-03-30T12:20:52.535906Z"
    }
   },
   "cell_type": "code",
   "source": "outliers_iqr[\"After_Meal_Blood_Sugar\"]",
   "id": "9644345dc058c2e7",
   "outputs": [
    {
     "data": {
      "text/plain": [
       "    Patient_ID  Age Gender  Fasting_Blood_Sugar  After_Meal_Blood_Sugar  \\\n",
       "84          85   34   Male            85.219273              203.740667   \n",
       "\n",
       "       HbA1c       BMI Diabetes_History  Blood_Pressure_Systolic  \\\n",
       "84  6.858817  27.38024              Yes                      124   \n",
       "\n",
       "    Blood_Pressure_Diastolic  \n",
       "84                        99  "
      ],
      "text/html": [
       "<div>\n",
       "<style scoped>\n",
       "    .dataframe tbody tr th:only-of-type {\n",
       "        vertical-align: middle;\n",
       "    }\n",
       "\n",
       "    .dataframe tbody tr th {\n",
       "        vertical-align: top;\n",
       "    }\n",
       "\n",
       "    .dataframe thead th {\n",
       "        text-align: right;\n",
       "    }\n",
       "</style>\n",
       "<table border=\"1\" class=\"dataframe\">\n",
       "  <thead>\n",
       "    <tr style=\"text-align: right;\">\n",
       "      <th></th>\n",
       "      <th>Patient_ID</th>\n",
       "      <th>Age</th>\n",
       "      <th>Gender</th>\n",
       "      <th>Fasting_Blood_Sugar</th>\n",
       "      <th>After_Meal_Blood_Sugar</th>\n",
       "      <th>HbA1c</th>\n",
       "      <th>BMI</th>\n",
       "      <th>Diabetes_History</th>\n",
       "      <th>Blood_Pressure_Systolic</th>\n",
       "      <th>Blood_Pressure_Diastolic</th>\n",
       "    </tr>\n",
       "  </thead>\n",
       "  <tbody>\n",
       "    <tr>\n",
       "      <th>84</th>\n",
       "      <td>85</td>\n",
       "      <td>34</td>\n",
       "      <td>Male</td>\n",
       "      <td>85.219273</td>\n",
       "      <td>203.740667</td>\n",
       "      <td>6.858817</td>\n",
       "      <td>27.38024</td>\n",
       "      <td>Yes</td>\n",
       "      <td>124</td>\n",
       "      <td>99</td>\n",
       "    </tr>\n",
       "  </tbody>\n",
       "</table>\n",
       "</div>"
      ]
     },
     "execution_count": 25,
     "metadata": {},
     "output_type": "execute_result"
    }
   ],
   "execution_count": 25
  },
  {
   "metadata": {
    "ExecuteTime": {
     "end_time": "2025-03-30T12:20:57.926366Z",
     "start_time": "2025-03-30T12:20:57.912678Z"
    }
   },
   "cell_type": "code",
   "source": "outliers_iqr[\"HbA1c\"]",
   "id": "b1e000129b172448",
   "outputs": [
    {
     "data": {
      "text/plain": [
       "    Patient_ID  Age  Gender  Fasting_Blood_Sugar  After_Meal_Blood_Sugar  \\\n",
       "41          42   79  Female            89.662087              137.445303   \n",
       "\n",
       "       HbA1c        BMI Diabetes_History  Blood_Pressure_Systolic  \\\n",
       "41  2.135904  24.869838               No                      136   \n",
       "\n",
       "    Blood_Pressure_Diastolic  \n",
       "41                        86  "
      ],
      "text/html": [
       "<div>\n",
       "<style scoped>\n",
       "    .dataframe tbody tr th:only-of-type {\n",
       "        vertical-align: middle;\n",
       "    }\n",
       "\n",
       "    .dataframe tbody tr th {\n",
       "        vertical-align: top;\n",
       "    }\n",
       "\n",
       "    .dataframe thead th {\n",
       "        text-align: right;\n",
       "    }\n",
       "</style>\n",
       "<table border=\"1\" class=\"dataframe\">\n",
       "  <thead>\n",
       "    <tr style=\"text-align: right;\">\n",
       "      <th></th>\n",
       "      <th>Patient_ID</th>\n",
       "      <th>Age</th>\n",
       "      <th>Gender</th>\n",
       "      <th>Fasting_Blood_Sugar</th>\n",
       "      <th>After_Meal_Blood_Sugar</th>\n",
       "      <th>HbA1c</th>\n",
       "      <th>BMI</th>\n",
       "      <th>Diabetes_History</th>\n",
       "      <th>Blood_Pressure_Systolic</th>\n",
       "      <th>Blood_Pressure_Diastolic</th>\n",
       "    </tr>\n",
       "  </thead>\n",
       "  <tbody>\n",
       "    <tr>\n",
       "      <th>41</th>\n",
       "      <td>42</td>\n",
       "      <td>79</td>\n",
       "      <td>Female</td>\n",
       "      <td>89.662087</td>\n",
       "      <td>137.445303</td>\n",
       "      <td>2.135904</td>\n",
       "      <td>24.869838</td>\n",
       "      <td>No</td>\n",
       "      <td>136</td>\n",
       "      <td>86</td>\n",
       "    </tr>\n",
       "  </tbody>\n",
       "</table>\n",
       "</div>"
      ]
     },
     "execution_count": 26,
     "metadata": {},
     "output_type": "execute_result"
    }
   ],
   "execution_count": 26
  },
  {
   "metadata": {
    "ExecuteTime": {
     "end_time": "2025-03-30T15:17:22.711458Z",
     "start_time": "2025-03-30T15:17:22.700460Z"
    }
   },
   "cell_type": "code",
   "source": "outliers_iqr[\"BMI\"]",
   "id": "31cf37f7c17cb98b",
   "outputs": [
    {
     "data": {
      "text/plain": [
       "    Patient_ID  Age  Gender  Fasting_Blood_Sugar  After_Meal_Blood_Sugar  \\\n",
       "48          49   33  Female            93.357965              147.088392   \n",
       "\n",
       "       HbA1c       BMI Diabetes_History  Blood_Pressure_Systolic  \\\n",
       "48  6.388984  13.95606              Yes                      100   \n",
       "\n",
       "    Blood_Pressure_Diastolic  \n",
       "48                        92  "
      ],
      "text/html": [
       "<div>\n",
       "<style scoped>\n",
       "    .dataframe tbody tr th:only-of-type {\n",
       "        vertical-align: middle;\n",
       "    }\n",
       "\n",
       "    .dataframe tbody tr th {\n",
       "        vertical-align: top;\n",
       "    }\n",
       "\n",
       "    .dataframe thead th {\n",
       "        text-align: right;\n",
       "    }\n",
       "</style>\n",
       "<table border=\"1\" class=\"dataframe\">\n",
       "  <thead>\n",
       "    <tr style=\"text-align: right;\">\n",
       "      <th></th>\n",
       "      <th>Patient_ID</th>\n",
       "      <th>Age</th>\n",
       "      <th>Gender</th>\n",
       "      <th>Fasting_Blood_Sugar</th>\n",
       "      <th>After_Meal_Blood_Sugar</th>\n",
       "      <th>HbA1c</th>\n",
       "      <th>BMI</th>\n",
       "      <th>Diabetes_History</th>\n",
       "      <th>Blood_Pressure_Systolic</th>\n",
       "      <th>Blood_Pressure_Diastolic</th>\n",
       "    </tr>\n",
       "  </thead>\n",
       "  <tbody>\n",
       "    <tr>\n",
       "      <th>48</th>\n",
       "      <td>49</td>\n",
       "      <td>33</td>\n",
       "      <td>Female</td>\n",
       "      <td>93.357965</td>\n",
       "      <td>147.088392</td>\n",
       "      <td>6.388984</td>\n",
       "      <td>13.95606</td>\n",
       "      <td>Yes</td>\n",
       "      <td>100</td>\n",
       "      <td>92</td>\n",
       "    </tr>\n",
       "  </tbody>\n",
       "</table>\n",
       "</div>"
      ]
     },
     "execution_count": 46,
     "metadata": {},
     "output_type": "execute_result"
    }
   ],
   "execution_count": 46
  },
  {
   "metadata": {
    "ExecuteTime": {
     "end_time": "2025-03-30T12:24:37.292697Z",
     "start_time": "2025-03-30T12:24:37.282112Z"
    }
   },
   "cell_type": "code",
   "source": "outliers_iqr[\"Blood_Pressure_Systolic\"]",
   "id": "9485abf24c598031",
   "outputs": [
    {
     "data": {
      "text/plain": [
       "Empty DataFrame\n",
       "Columns: [Patient_ID, Age, Gender, Fasting_Blood_Sugar, After_Meal_Blood_Sugar, HbA1c, BMI, Diabetes_History, Blood_Pressure_Systolic, Blood_Pressure_Diastolic]\n",
       "Index: []"
      ],
      "text/html": [
       "<div>\n",
       "<style scoped>\n",
       "    .dataframe tbody tr th:only-of-type {\n",
       "        vertical-align: middle;\n",
       "    }\n",
       "\n",
       "    .dataframe tbody tr th {\n",
       "        vertical-align: top;\n",
       "    }\n",
       "\n",
       "    .dataframe thead th {\n",
       "        text-align: right;\n",
       "    }\n",
       "</style>\n",
       "<table border=\"1\" class=\"dataframe\">\n",
       "  <thead>\n",
       "    <tr style=\"text-align: right;\">\n",
       "      <th></th>\n",
       "      <th>Patient_ID</th>\n",
       "      <th>Age</th>\n",
       "      <th>Gender</th>\n",
       "      <th>Fasting_Blood_Sugar</th>\n",
       "      <th>After_Meal_Blood_Sugar</th>\n",
       "      <th>HbA1c</th>\n",
       "      <th>BMI</th>\n",
       "      <th>Diabetes_History</th>\n",
       "      <th>Blood_Pressure_Systolic</th>\n",
       "      <th>Blood_Pressure_Diastolic</th>\n",
       "    </tr>\n",
       "  </thead>\n",
       "  <tbody>\n",
       "  </tbody>\n",
       "</table>\n",
       "</div>"
      ]
     },
     "execution_count": 30,
     "metadata": {},
     "output_type": "execute_result"
    }
   ],
   "execution_count": 30
  },
  {
   "metadata": {
    "ExecuteTime": {
     "end_time": "2025-03-30T12:24:41.885976Z",
     "start_time": "2025-03-30T12:24:41.873984Z"
    }
   },
   "cell_type": "code",
   "source": "outliers_iqr[\"Blood_Pressure_Diastolic\"]",
   "id": "23bedb3ef0def877",
   "outputs": [
    {
     "data": {
      "text/plain": [
       "Empty DataFrame\n",
       "Columns: [Patient_ID, Age, Gender, Fasting_Blood_Sugar, After_Meal_Blood_Sugar, HbA1c, BMI, Diabetes_History, Blood_Pressure_Systolic, Blood_Pressure_Diastolic]\n",
       "Index: []"
      ],
      "text/html": [
       "<div>\n",
       "<style scoped>\n",
       "    .dataframe tbody tr th:only-of-type {\n",
       "        vertical-align: middle;\n",
       "    }\n",
       "\n",
       "    .dataframe tbody tr th {\n",
       "        vertical-align: top;\n",
       "    }\n",
       "\n",
       "    .dataframe thead th {\n",
       "        text-align: right;\n",
       "    }\n",
       "</style>\n",
       "<table border=\"1\" class=\"dataframe\">\n",
       "  <thead>\n",
       "    <tr style=\"text-align: right;\">\n",
       "      <th></th>\n",
       "      <th>Patient_ID</th>\n",
       "      <th>Age</th>\n",
       "      <th>Gender</th>\n",
       "      <th>Fasting_Blood_Sugar</th>\n",
       "      <th>After_Meal_Blood_Sugar</th>\n",
       "      <th>HbA1c</th>\n",
       "      <th>BMI</th>\n",
       "      <th>Diabetes_History</th>\n",
       "      <th>Blood_Pressure_Systolic</th>\n",
       "      <th>Blood_Pressure_Diastolic</th>\n",
       "    </tr>\n",
       "  </thead>\n",
       "  <tbody>\n",
       "  </tbody>\n",
       "</table>\n",
       "</div>"
      ]
     },
     "execution_count": 31,
     "metadata": {},
     "output_type": "execute_result"
    }
   ],
   "execution_count": 31
  },
  {
   "metadata": {
    "ExecuteTime": {
     "end_time": "2025-03-30T15:17:29.287301Z",
     "start_time": "2025-03-30T15:17:29.040664Z"
    }
   },
   "cell_type": "code",
   "source": [
    "# Import visualization libraries\n",
    "import matplotlib.pyplot as plt\n",
    "import seaborn as sns\n",
    "\n",
    "# Create a single boxplot for all numerical columns in one chart\n",
    "plt.figure(figsize=(12, 6))\n",
    "sns.boxplot(data=diabetes_df[numerical_columns])\n",
    "plt.xticks(rotation=45)  # Rotate x-axis labels for better readability\n",
    "plt.title(\"Boxplot of Diabetes Dataset (Outliers are Dots)\")\n",
    "plt.show()\n",
    "\n"
   ],
   "id": "6a0c049018eabde0",
   "outputs": [
    {
     "data": {
      "text/plain": [
       "<Figure size 1200x600 with 1 Axes>"
      ],
      "image/png": "[encoded data removed]"
     },
     "metadata": {},
     "output_type": "display_data"
    }
   ],
   "execution_count": 47
  },
  {
   "metadata": {
    "ExecuteTime": {
     "end_time": "2025-03-30T15:18:05.259424Z",
     "start_time": "2025-03-30T15:18:04.383449Z"
    }
   },
   "cell_type": "code",
   "source": [
    "# Create subplots for individual boxplots of each numerical column\n",
    "fig, axes = plt.subplots(len(numerical_columns), 1, figsize=(8, 20))\n",
    "\n",
    "for i, col in enumerate(numerical_columns):\n",
    "    sns.boxplot(x=diabetes_df[col], ax=axes[i])\n",
    "    axes[i].set_title(f\"Boxplot of {col}\")\n",
    "\n",
    "plt.tight_layout()  # Adjust layout for better visibility\n",
    "plt.show()"
   ],
   "id": "e7239643e2ed950a",
   "outputs": [
    {
     "data": {
      "text/plain": [
       "<Figure size 800x2000 with 6 Axes>"
      ],
      "image/png": "[encoded data removed]"
     },
     "metadata": {},
     "output_type": "display_data"
    }
   ],
   "execution_count": 48
  },
  {
   "metadata": {
    "ExecuteTime": {
     "end_time": "2025-03-30T15:23:06.778678Z",
     "start_time": "2025-03-30T15:23:06.411902Z"
    }
   },
   "cell_type": "code",
   "source": [
    "plt.figure(figsize=(8, 5))\n",
    "sns.regplot(x=diabetes_df[\"BMI\"], y=diabetes_df[\"Fasting_Blood_Sugar\"], scatter_kws={\"alpha\": 0.5})\n",
    "plt.title(\"Scatter Plot of BMI vs. Fasting Blood Sugar with Regression Line\")\n",
    "plt.xlabel(\"BMI\")\n",
    "plt.ylabel(\"Fasting Blood Sugar\")\n",
    "plt.show()\n"
   ],
   "id": "307ee8d592c2a6fb",
   "outputs": [
    {
     "data": {
      "text/plain": [
       "<Figure size 800x500 with 1 Axes>"
      ],
      "image/png": "[encoded data removed]"
     },
     "metadata": {},
     "output_type": "display_data"
    }
   ],
   "execution_count": 51
  },
  {
   "metadata": {},
   "cell_type": "code",
   "outputs": [],
   "execution_count": null,
   "source": "",
   "id": "fc02674ff454519a"
  }
 ],
 "metadata": {
  "kernelspec": {
   "display_name": "Python 3",
   "language": "python",
   "name": "python3"
  },
  "language_info": {
   "codemirror_mode": {
    "name": "ipython",
    "version": 2
   },
   "file_extension": ".py",
   "mimetype": "text/x-python",
   "name": "python",
   "nbconvert_exporter": "python",
   "pygments_lexer": "ipython2",
   "version": "2.7.6"
  }
 },
 "nbformat": 4,
 "nbformat_minor": 5
}
